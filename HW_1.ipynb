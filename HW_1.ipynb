{
 "cells": [
  {
   "cell_type": "markdown",
   "metadata": {
    "colab_type": "text",
    "id": "view-in-github"
   },
   "source": [
    "<a href=\"https://colab.research.google.com/github/peterjsadowski/sklearn_examples/blob/master/sklearn_classifier.ipynb\" target=\"_parent\"><img src=\"https://colab.research.google.com/assets/colab-badge.svg\" alt=\"Open In Colab\"/></a>"
   ]
  },
  {
   "cell_type": "markdown",
   "metadata": {},
   "source": [
    "## Imports:"
   ]
  },
  {
   "cell_type": "code",
   "execution_count": 1,
   "metadata": {},
   "outputs": [],
   "source": [
    "import numpy as np\n",
    "import matplotlib.pyplot as plt\n",
    "%matplotlib inline\n",
    "import sklearn\n",
    "from sklearn import linear_model\n",
    "from sklearn.model_selection import cross_val_score\n",
    "# For more details see https://scikit-learn.org/stable/modules/linear_model.html"
   ]
  },
  {
   "cell_type": "markdown",
   "metadata": {},
   "source": [
    "## Data:"
   ]
  },
  {
   "cell_type": "code",
   "execution_count": 2,
   "metadata": {},
   "outputs": [
    {
     "name": "stdout",
     "output_type": "stream",
     "text": [
      "/Users/Spencer/Desktop/Machine_Comp/raw.githubusercontent.com/peterjsadowski/sklearn_examples/master/training_data.csv\n"
     ]
    }
   ],
   "source": [
    "# Load data.\n",
    "data_url = 'https://raw.githubusercontent.com/peterjsadowski/sklearn_examples/master/training_data.csv'\n",
    "localfile = np.DataSource(destpath='./').open(data_url).name\n",
    "print(localfile)\n",
    "data = np.loadtxt(localfile, skiprows=1, delimiter=',')\n",
    "Y = data[:, 0] \n",
    "X = data[:, 1:]"
   ]
  },
  {
   "cell_type": "markdown",
   "metadata": {},
   "source": [
    "## Plot Features: "
   ]
  },
  {
   "cell_type": "code",
   "execution_count": 3,
   "metadata": {},
   "outputs": [
    {
     "data": {
      "image/png": "[encoded data removed]",
      "text/plain": [
       "<matplotlib.figure.Figure at 0x11534fc18>"
      ]
     },
     "metadata": {},
     "output_type": "display_data"
    },
    {
     "data": {
      "image/png": "[encoded data removed]",
      "text/plain": [
       "<matplotlib.figure.Figure at 0x11742a470>"
      ]
     },
     "metadata": {},
     "output_type": "display_data"
    },
    {
     "data": {
      "image/png": "[encoded data removed]",
      "text/plain": [
       "<matplotlib.figure.Figure at 0x1174fbda0>"
      ]
     },
     "metadata": {},
     "output_type": "display_data"
    },
    {
     "data": {
      "image/png": "[encoded data removed]",
      "text/plain": [
       "<matplotlib.figure.Figure at 0x1175cfcf8>"
      ]
     },
     "metadata": {},
     "output_type": "display_data"
    }
   ],
   "source": [
    "# Plot features. \n",
    "feature_names = ['age', 'income', 'exercise', 'diet']\n",
    "for i in range(X.shape[1]):\n",
    "    plt.figure(i)\n",
    "    plt.hist(X[Y==0, i], label='Class 0', alpha=0.3)\n",
    "    plt.hist(X[Y==1, i], label='Class 1', alpha=0.3)\n",
    "    plt.title(feature_names[i])\n",
    "    plt.legend()"
   ]
  },
  {
   "cell_type": "markdown",
   "metadata": {},
   "source": [
    "## Classifier: "
   ]
  },
  {
   "cell_type": "code",
   "execution_count": 4,
   "metadata": {},
   "outputs": [],
   "source": [
    "# Preprocess data.\n",
    "X[:, 0] /= 100. \n",
    "X[:, 1] /= 100000.\n",
    "\n",
    "# Divide data into train and validation set.\n",
    "N_train, N_valid = 900, 100\n",
    "X_train, X_valid = X[0:N_train, :], X[N_train:, :]\n",
    "y_train, y_valid = Y[0:N_train], Y[N_train:]"
   ]
  },
  {
   "cell_type": "markdown",
   "metadata": {},
   "source": [
    "# Classifier Model:"
   ]
  },
  {
   "cell_type": "markdown",
   "metadata": {},
   "source": [
    "############################################################################################################################\n",
    "\n",
    "## SGDClassifier:"
   ]
  },
  {
   "cell_type": "code",
   "execution_count": 5,
   "metadata": {},
   "outputs": [
    {
     "data": {
      "text/plain": [
       "SGDClassifier(alpha=0.1, average=False, class_weight=None, epsilon=0.1,\n",
       "       eta0=0.01, fit_intercept=True, l1_ratio=0.15,\n",
       "       learning_rate='constant', loss='hinge', max_iter=10000, n_iter=None,\n",
       "       n_jobs=1, penalty='l2', power_t=0.5, random_state=None,\n",
       "       shuffle=True, tol=1e-06, verbose=0, warm_start=False)"
      ]
     },
     "execution_count": 5,
     "metadata": {},
     "output_type": "execute_result"
    }
   ],
   "source": [
    "# Define a classifier model.\n",
    "clf = linear_model.SGDClassifier(loss='hinge', penalty='l2', alpha=0.1, \n",
    "        learning_rate='constant', eta0=0.01, max_iter=10000, tol=1e-6)\n",
    "\n",
    "# Fit/train/learn.\n",
    "clf.fit(X_train, y_train)"
   ]
  },
  {
   "cell_type": "code",
   "execution_count": 6,
   "metadata": {},
   "outputs": [
    {
     "name": "stdout",
     "output_type": "stream",
     "text": [
      "Training accuracy: 0.76\n",
      "Validation accuracy: 0.76\n",
      "Validation predictions:  [1. 1. 1. 1. 0. 0. 1. 1. 1. 1. 1. 0. 1. 0. 0. 1. 1. 0. 1. 0. 1. 1. 1. 0.\n",
      " 0. 1. 1. 1. 1. 0. 1. 1. 1. 0. 1. 1. 0. 1. 1. 1. 0. 0. 0. 1. 1. 1. 0. 1.\n",
      " 1. 1. 1. 1. 1. 1. 1. 0. 0. 1. 1. 1. 1. 0. 1. 1. 1. 1. 1. 1. 1. 1. 1. 1.\n",
      " 0. 1. 0. 1. 0. 1. 1. 1. 1. 1. 1. 0. 1. 0. 0. 1. 1. 0. 0. 0. 0. 0. 0. 0.\n",
      " 1. 1. 0. 1.]\n",
      "Coefficients:  [[-0.32143706 -0.57644097 -0.89611134 -0.81747879]] [1.2]\n"
     ]
    }
   ],
   "source": [
    "# Compute accuracy on training data.\n",
    "accuracy_train = clf.score(X_train, y_train)\n",
    "print(f'Training accuracy: {accuracy_train:0.2}')\n",
    "\n",
    "# Compute accuracy on validation data.\n",
    "y_predicted = clf.predict(X_valid)\n",
    "accuracy_valid = np.sum(y_predicted == y_valid) / len(y_predicted)\n",
    "print(f'Validation accuracy: {accuracy_valid:0.2}')\n",
    "print('Validation predictions: ', y_predicted)\n",
    "\n",
    "print('Coefficients: ', clf.coef_, clf.intercept_)"
   ]
  },
  {
   "cell_type": "markdown",
   "metadata": {},
   "source": [
    "############################################################################################################################\n",
    "\n",
    "\n",
    "## RidgeClassifier:"
   ]
  },
  {
   "cell_type": "code",
   "execution_count": 7,
   "metadata": {},
   "outputs": [
    {
     "data": {
      "text/plain": [
       "RidgeClassifier(alpha=0.1, class_weight=None, copy_X=True, fit_intercept=True,\n",
       "        max_iter=None, normalize=False, random_state=None, solver='auto',\n",
       "        tol=0.001)"
      ]
     },
     "execution_count": 7,
     "metadata": {},
     "output_type": "execute_result"
    }
   ],
   "source": [
    "# Define a classifier model. (Lots of options to choose from.)\n",
    "clf = linear_model.RidgeClassifier(alpha=0.1)\n",
    "\n",
    "# Fit/train/learn.\n",
    "clf.fit(X_train, y_train)"
   ]
  },
  {
   "cell_type": "code",
   "execution_count": 8,
   "metadata": {},
   "outputs": [
    {
     "name": "stdout",
     "output_type": "stream",
     "text": [
      "Training accuracy: 0.82\n",
      "Validation accuracy: 0.81\n",
      "Validation predictions:  [1. 0. 1. 1. 0. 1. 0. 1. 1. 1. 1. 0. 1. 0. 0. 1. 1. 0. 1. 0. 1. 0. 1. 0.\n",
      " 0. 1. 1. 1. 0. 0. 1. 1. 1. 1. 1. 1. 1. 0. 0. 1. 0. 0. 0. 1. 1. 1. 0. 1.\n",
      " 1. 1. 1. 1. 1. 1. 1. 0. 0. 0. 1. 0. 0. 0. 1. 0. 1. 1. 1. 1. 1. 0. 1. 1.\n",
      " 0. 1. 0. 1. 0. 0. 1. 1. 0. 1. 1. 0. 1. 0. 0. 1. 0. 0. 0. 0. 0. 0. 0. 0.\n",
      " 1. 0. 1. 1.]\n",
      "Coefficients:  [[-4.54000346 -0.10879314 -0.57767725 -0.53714035]] [2.13350899]\n"
     ]
    }
   ],
   "source": [
    "# Compute accuracy on training data.\n",
    "accuracy_train = clf.score(X_train, y_train)\n",
    "print(f'Training accuracy: {accuracy_train:0.2}')\n",
    "\n",
    "# Compute accuracy on validation data.\n",
    "y_predicted = clf.predict(X_valid)\n",
    "accuracy_valid = np.sum(y_predicted == y_valid) / len(y_predicted)\n",
    "print(f'Validation accuracy: {accuracy_valid:0.2}')\n",
    "print('Validation predictions: ', y_predicted)\n",
    "\n",
    "print('Coefficients: ', clf.coef_, clf.intercept_)"
   ]
  },
  {
   "cell_type": "markdown",
   "metadata": {},
   "source": [
    "############################################################################################################################\n",
    "\n",
    "\n",
    "## KNeighborsClassifier:"
   ]
  },
  {
   "cell_type": "code",
   "execution_count": 9,
   "metadata": {
    "colab": {
     "base_uri": "https://localhost:8080/",
     "height": 161
    },
    "colab_type": "code",
    "id": "_K8v8opzr13z",
    "outputId": "26459c8f-dd8d-4ffe-c339-c7b34fe1ad57"
   },
   "outputs": [
    {
     "data": {
      "text/plain": [
       "KNeighborsClassifier(algorithm='auto', leaf_size=30, metric='euclidean',\n",
       "           metric_params=None, n_jobs=1, n_neighbors=1, p=2,\n",
       "           weights='uniform')"
      ]
     },
     "execution_count": 9,
     "metadata": {},
     "output_type": "execute_result"
    }
   ],
   "source": [
    "# Define a classifier model. (Lots of options to choose from.)\n",
    "clf = sklearn.neighbors.KNeighborsClassifier(n_neighbors=1, metric='euclidean')\n",
    "\n",
    "# Fit/train/learn.\n",
    "clf.fit(X_train, y_train)"
   ]
  },
  {
   "cell_type": "code",
   "execution_count": 10,
   "metadata": {},
   "outputs": [
    {
     "name": "stdout",
     "output_type": "stream",
     "text": [
      "Training accuracy: 1.0\n",
      "Validation accuracy: 0.81\n",
      "Validation predictions:  [1. 0. 1. 1. 0. 1. 0. 1. 1. 1. 0. 0. 1. 0. 0. 1. 1. 0. 1. 0. 1. 1. 0. 0.\n",
      " 1. 1. 1. 1. 0. 0. 0. 0. 1. 0. 0. 1. 1. 0. 0. 0. 0. 0. 0. 1. 1. 0. 0. 0.\n",
      " 1. 0. 1. 0. 1. 0. 1. 1. 0. 0. 1. 0. 0. 0. 1. 1. 0. 1. 1. 1. 0. 0. 0. 1.\n",
      " 0. 1. 0. 1. 0. 0. 0. 1. 0. 1. 0. 0. 1. 0. 0. 1. 0. 0. 0. 1. 0. 0. 0. 0.\n",
      " 1. 1. 0. 1.]\n"
     ]
    }
   ],
   "source": [
    "# Compute accuracy on training data.\n",
    "accuracy_train = clf.score(X_train, y_train)\n",
    "print(f'Training accuracy: {accuracy_train:0.2}')\n",
    "\n",
    "# Compute accuracy on validation data.\n",
    "y_predicted = clf.predict(X_valid)\n",
    "accuracy_valid = np.sum(y_predicted == y_valid) / len(y_predicted)\n",
    "print(f'Validation accuracy: {accuracy_valid:0.2}')\n",
    "print('Validation predictions: ', y_predicted)"
   ]
  },
  {
   "cell_type": "markdown",
   "metadata": {},
   "source": [
    "############################################################################################################################\n",
    "\n",
    "\n",
    "## Cross-Validation"
   ]
  },
  {
   "cell_type": "code",
   "execution_count": 11,
   "metadata": {
    "colab": {
     "base_uri": "https://localhost:8080/",
     "height": 53
    },
    "colab_type": "code",
    "id": "vMh3TajN5o7C",
    "outputId": "bd4ab58e-8085-44ae-9994-9bb2eb29a4d7"
   },
   "outputs": [
    {
     "name": "stdout",
     "output_type": "stream",
     "text": [
      "Cross-validation accuracies:  [0.75621891 0.795      0.8        0.785      0.72361809]\n",
      "Mean CV accuracy: 0.77\n"
     ]
    }
   ],
   "source": [
    "### Example of Cross-Validation\n",
    "clf = linear_model.SGDClassifier(loss='hinge', penalty='l2', alpha=0.1, \n",
    "        learning_rate='constant', eta0=0.01, max_iter=10000, tol=1e-6)\n",
    "cv_scores = cross_val_score(clf, X, Y, cv=5)\n",
    "print('Cross-validation accuracies: ', cv_scores)\n",
    "print('Mean CV accuracy: %0.2f' % np.mean(cv_scores))"
   ]
  },
  {
   "cell_type": "markdown",
   "metadata": {},
   "source": [
    "############################################################################################################################\n",
    "\n",
    "# Problem One: \n",
    "#### Normalizing Data\n"
   ]
  },
  {
   "cell_type": "code",
   "execution_count": 12,
   "metadata": {},
   "outputs": [],
   "source": [
    "from sklearn.preprocessing import StandardScaler\n",
    "#sklearn.preprocessing.StandardScaler(copy=True, with_mean=True, with_std=True)"
   ]
  },
  {
   "cell_type": "code",
   "execution_count": 13,
   "metadata": {},
   "outputs": [
    {
     "name": "stdout",
     "output_type": "stream",
     "text": [
      "0.9999999999999967\n",
      "-4.661160346586258e-16\n"
     ]
    }
   ],
   "source": [
    "scaler = StandardScaler()\n",
    "scaler.fit(data)\n",
    "StandardScaler(copy=True, with_mean=True, with_std=True)\n",
    "normalized_data = scaler.transform(data)\n",
    "print(normalized_data.std()) # to check if normalized correctly. Should have a std deviation very close to one.\n",
    "print(normalized_data.mean()) # should be very close to zero"
   ]
  },
  {
   "cell_type": "code",
   "execution_count": 14,
   "metadata": {},
   "outputs": [
    {
     "data": {
      "text/plain": [
       "array([[ 0.99203175, -0.07135032, -0.3949963 , -0.70022351,  1.34205829],\n",
       "       [-1.00803226,  0.2587429 , -0.16284127,  1.42811543,  1.34205829],\n",
       "       [ 0.99203175, -0.9333843 , -0.26344178, -0.70022351, -0.74512412],\n",
       "       ...,\n",
       "       [ 0.99203175,  1.20218501, -0.4569043 , -0.70022351, -0.74512412],\n",
       "       [-1.00803226, -1.29470256,  0.45623879, -0.70022351,  1.34205829],\n",
       "       [ 0.99203175, -2.36750553, -0.4182118 ,  1.42811543, -0.74512412]])"
      ]
     },
     "execution_count": 14,
     "metadata": {},
     "output_type": "execute_result"
    }
   ],
   "source": [
    "normalized_data"
   ]
  },
  {
   "cell_type": "code",
   "execution_count": 15,
   "metadata": {},
   "outputs": [],
   "source": [
    "normalized_data_y = normalized_data[:, 0].astype(int)\n",
    "normalized_data_x = normalized_data[:, 1:]"
   ]
  },
  {
   "cell_type": "code",
   "execution_count": 16,
   "metadata": {},
   "outputs": [
    {
     "data": {
      "image/png": "[encoded data removed]",
      "text/plain": [
       "<matplotlib.figure.Figure at 0x117680ba8>"
      ]
     },
     "metadata": {},
     "output_type": "display_data"
    },
    {
     "data": {
      "image/png": "[encoded data removed]",
      "text/plain": [
       "<matplotlib.figure.Figure at 0x117a9da58>"
      ]
     },
     "metadata": {},
     "output_type": "display_data"
    },
    {
     "data": {
      "image/png": "[encoded data removed]",
      "text/plain": [
       "<matplotlib.figure.Figure at 0x1175e89b0>"
      ]
     },
     "metadata": {},
     "output_type": "display_data"
    },
    {
     "data": {
      "image/png": "[encoded data removed]",
      "text/plain": [
       "<matplotlib.figure.Figure at 0x1174909b0>"
      ]
     },
     "metadata": {},
     "output_type": "display_data"
    }
   ],
   "source": [
    "feature_names = ['age', 'income', 'exercise', 'diet']\n",
    "for i in range(normalized_data_x.shape[1]):\n",
    "    plt.figure(i)\n",
    "    plt.hist(normalized_data_x[normalized_data_y==0, i], label='Class 0', alpha=0.3)\n",
    "    plt.hist(normalized_data_x[normalized_data_y==1, i], label='Class 1', alpha=0.3)\n",
    "    plt.title(feature_names[i])\n",
    "    plt.legend()"
   ]
  },
  {
   "cell_type": "markdown",
   "metadata": {},
   "source": [
    "## Comparing:"
   ]
  },
  {
   "cell_type": "code",
   "execution_count": 17,
   "metadata": {},
   "outputs": [],
   "source": [
    "# Divide data into train and validation set.\n",
    "N_train_norm, N_valid_norm = 900, 100\n",
    "X_train_norm, X_valid_norm = normalized_data_x[0:N_train_norm, :], normalized_data_x[N_train_norm:, :]\n",
    "y_train_norm, y_valid_norm = normalized_data_y[0:N_train_norm], normalized_data_y[N_train_norm:]"
   ]
  },
  {
   "cell_type": "markdown",
   "metadata": {},
   "source": [
    "#### SGDClassifier"
   ]
  },
  {
   "cell_type": "code",
   "execution_count": 18,
   "metadata": {},
   "outputs": [
    {
     "data": {
      "text/plain": [
       "SGDClassifier(alpha=0.1, average=False, class_weight=None, epsilon=0.1,\n",
       "       eta0=0.01, fit_intercept=True, l1_ratio=0.15,\n",
       "       learning_rate='constant', loss='hinge', max_iter=10000, n_iter=None,\n",
       "       n_jobs=1, penalty='l2', power_t=0.5, random_state=None,\n",
       "       shuffle=True, tol=1e-06, verbose=0, warm_start=False)"
      ]
     },
     "execution_count": 18,
     "metadata": {},
     "output_type": "execute_result"
    }
   ],
   "source": [
    "# Define a classifier model.\n",
    "clf = linear_model.SGDClassifier(loss='hinge', penalty='l2', alpha=0.1, \n",
    "        learning_rate='constant', eta0=0.01, max_iter=10000, tol=1e-6)\n",
    "\n",
    "# Fit/train/learn.\n",
    "clf.fit(X_train_norm, y_train_norm)"
   ]
  },
  {
   "cell_type": "code",
   "execution_count": 19,
   "metadata": {},
   "outputs": [
    {
     "name": "stdout",
     "output_type": "stream",
     "text": [
      "Training accuracy: 0.84\n",
      "Validation accuracy: 0.82\n",
      "Validation predictions:  [ 0 -1  0  0 -1  0 -1  0  0  0  0 -1  0 -1 -1  0  0 -1  0 -1  0 -1  0 -1\n",
      " -1  0  0  0 -1 -1  0  0  0  0  0  0  0 -1 -1  0 -1 -1 -1  0  0  0 -1  0\n",
      "  0  0  0  0  0  0  0 -1 -1 -1  0 -1 -1 -1  0 -1  0  0  0  0  0 -1  0  0\n",
      " -1  0 -1  0 -1 -1  0  0 -1  0  0 -1  0 -1 -1  0 -1 -1 -1 -1 -1 -1 -1 -1\n",
      "  0  0  0  0]\n",
      "Coefficients:  [[-0.66103443 -0.5425054  -0.5972827  -0.48752287]] [-0.01]\n"
     ]
    }
   ],
   "source": [
    "# Compute accuracy on training data.\n",
    "accuracy_train = clf.score(X_train_norm, y_train_norm)\n",
    "print(f'Training accuracy: {accuracy_train:0.2}')\n",
    "\n",
    "# Compute accuracy on validation data.\n",
    "y_predicted_norm = clf.predict(X_valid_norm)\n",
    "accuracy_valid_norm = np.sum(y_predicted_norm == y_valid_norm) / len(y_predicted_norm)\n",
    "print(f'Validation accuracy: {accuracy_valid_norm:0.2}')\n",
    "print('Validation predictions: ', y_predicted_norm)\n",
    "\n",
    "print('Coefficients: ', clf.coef_, clf.intercept_)"
   ]
  },
  {
   "cell_type": "markdown",
   "metadata": {},
   "source": [
    "#### RidgeClassifier"
   ]
  },
  {
   "cell_type": "code",
   "execution_count": 20,
   "metadata": {},
   "outputs": [
    {
     "data": {
      "text/plain": [
       "RidgeClassifier(alpha=0.1, class_weight=None, copy_X=True, fit_intercept=True,\n",
       "        max_iter=None, normalize=False, random_state=None, solver='auto',\n",
       "        tol=0.001)"
      ]
     },
     "execution_count": 20,
     "metadata": {},
     "output_type": "execute_result"
    }
   ],
   "source": [
    "# Define a classifier model. (Lots of options to choose from.)\n",
    "clf = linear_model.RidgeClassifier(alpha=0.1)\n",
    "\n",
    "# Fit/train/learn.\n",
    "clf.fit(X_train_norm, y_train_norm)"
   ]
  },
  {
   "cell_type": "code",
   "execution_count": 21,
   "metadata": {},
   "outputs": [
    {
     "name": "stdout",
     "output_type": "stream",
     "text": [
      "Training accuracy: 0.82\n",
      "Validation accuracy: 0.81\n",
      "Validation predictions:  [ 0 -1  0  0 -1  0 -1  0  0  0  0 -1  0 -1 -1  0  0 -1  0 -1  0 -1  0 -1\n",
      " -1  0  0  0 -1 -1  0  0  0  0  0  0  0 -1 -1  0 -1 -1 -1  0  0  0 -1  0\n",
      "  0  0  0  0  0  0  0 -1 -1 -1  0 -1 -1 -1  0 -1  0  0  0  0  0 -1  0  0\n",
      " -1  0 -1  0 -1 -1  0  0 -1  0  0 -1  0 -1 -1  0 -1 -1 -1 -1 -1 -1 -1 -1\n",
      "  0 -1  0  0]\n",
      "Coefficients:  [[-0.41307088 -0.14011914 -0.27072729 -0.2565562 ]] [0.0155297]\n"
     ]
    }
   ],
   "source": [
    "# Compute accuracy on training data.\n",
    "accuracy_train = clf.score(X_train_norm, y_train_norm)\n",
    "print(f'Training accuracy: {accuracy_train:0.2}')\n",
    "\n",
    "# Compute accuracy on validation data.\n",
    "y_predicted_norm = clf.predict(X_valid_norm)\n",
    "accuracy_valid = np.sum(y_predicted_norm == y_valid_norm) / len(y_predicted_norm)\n",
    "print(f'Validation accuracy: {accuracy_valid:0.2}')\n",
    "print('Validation predictions: ', y_predicted_norm)\n",
    "\n",
    "print('Coefficients: ', clf.coef_, clf.intercept_)"
   ]
  },
  {
   "cell_type": "markdown",
   "metadata": {},
   "source": [
    "#### KNeighborsClassifier"
   ]
  },
  {
   "cell_type": "code",
   "execution_count": 22,
   "metadata": {},
   "outputs": [
    {
     "data": {
      "text/plain": [
       "KNeighborsClassifier(algorithm='auto', leaf_size=30, metric='euclidean',\n",
       "           metric_params=None, n_jobs=1, n_neighbors=1, p=2,\n",
       "           weights='uniform')"
      ]
     },
     "execution_count": 22,
     "metadata": {},
     "output_type": "execute_result"
    }
   ],
   "source": [
    "# Define a classifier model. (Lots of options to choose from.)\n",
    "clf = sklearn.neighbors.KNeighborsClassifier(n_neighbors=1, metric='euclidean')\n",
    "\n",
    "# Fit/train/learn.\n",
    "clf.fit(X_train_norm, y_train_norm)"
   ]
  },
  {
   "cell_type": "code",
   "execution_count": 23,
   "metadata": {},
   "outputs": [
    {
     "name": "stdout",
     "output_type": "stream",
     "text": [
      "Training accuracy: 1.0\n",
      "Validation accuracy: 0.74\n",
      "Validation predictions:  [ 0 -1  0  0 -1 -1 -1  0  0  0  0 -1  0 -1 -1  0  0 -1  0 -1 -1  0  0 -1\n",
      "  0 -1  0  0 -1 -1  0 -1  0 -1 -1  0  0 -1  0 -1  0  0 -1  0  0  0 -1  0\n",
      "  0 -1  0  0 -1  0  0  0 -1 -1  0 -1  0 -1  0 -1  0  0  0  0  0  0 -1  0\n",
      " -1  0 -1  0 -1 -1 -1  0 -1  0 -1 -1  0 -1 -1  0 -1 -1 -1  0 -1 -1 -1 -1\n",
      "  0  0 -1  0]\n"
     ]
    }
   ],
   "source": [
    "# Compute accuracy on training data.\n",
    "accuracy_train = clf.score(X_train_norm, y_train_norm)\n",
    "print(f'Training accuracy: {accuracy_train:0.2}')\n",
    "\n",
    "# Compute accuracy on validation data.\n",
    "y_predicted_norm = clf.predict(X_valid_norm)\n",
    "accuracy_valid = np.sum(y_predicted_norm == y_valid_norm) / len(y_predicted_norm)\n",
    "print(f'Validation accuracy: {accuracy_valid:0.2}')\n",
    "print('Validation predictions: ', y_predicted_norm)"
   ]
  },
  {
   "cell_type": "code",
   "execution_count": null,
   "metadata": {},
   "outputs": [],
   "source": []
  },
  {
   "cell_type": "markdown",
   "metadata": {},
   "source": [
    "# Grid Search Cross Validation:\n",
    "\n",
    "GridSearchCV helps find the best possible properties of a classifier. It runs and attempts all given parameters and feeds you the best result. "
   ]
  },
  {
   "cell_type": "code",
   "execution_count": 37,
   "metadata": {},
   "outputs": [
    {
     "name": "stdout",
     "output_type": "stream",
     "text": [
      "Best parameters set found on development set:\n",
      "\n",
      "{'alpha': 0.1291549665014884, 'eta0': 0.01, 'learning_rate': 'optimal', 'loss': 'squared_hinge', 'max_iter': 1000, 'n_jobs': -1, 'penalty': 'none'}\n",
      "Score : 0.8433333333333334\n",
      "\n",
      "Grid scores on development set:\n",
      "\n",
      "0.827 (+/-0.059) for {'alpha': 0.0001, 'eta0': 0.01, 'learning_rate': 'constant', 'loss': 'hinge', 'max_iter': 1000, 'n_jobs': -1, 'penalty': 'l2'}\n",
      "0.829 (+/-0.056) for {'alpha': 0.0001, 'eta0': 0.01, 'learning_rate': 'constant', 'loss': 'hinge', 'max_iter': 1000, 'n_jobs': -1, 'penalty': 'l1'}\n",
      "0.830 (+/-0.050) for {'alpha': 0.0001, 'eta0': 0.01, 'learning_rate': 'constant', 'loss': 'hinge', 'max_iter': 1000, 'n_jobs': -1, 'penalty': 'elasticnet'}\n",
      "0.829 (+/-0.059) for {'alpha': 0.0001, 'eta0': 0.01, 'learning_rate': 'constant', 'loss': 'hinge', 'max_iter': 1000, 'n_jobs': -1, 'penalty': 'none'}\n",
      "0.836 (+/-0.066) for {'alpha': 0.0001, 'eta0': 0.01, 'learning_rate': 'constant', 'loss': 'log', 'max_iter': 1000, 'n_jobs': -1, 'penalty': 'l2'}\n",
      "0.834 (+/-0.058) for {'alpha': 0.0001, 'eta0': 0.01, 'learning_rate': 'constant', 'loss': 'log', 'max_iter': 1000, 'n_jobs': -1, 'penalty': 'l1'}\n",
      "0.833 (+/-0.067) for {'alpha': 0.0001, 'eta0': 0.01, 'learning_rate': 'constant', 'loss': 'log', 'max_iter': 1000, 'n_jobs': -1, 'penalty': 'elasticnet'}\n",
      "0.831 (+/-0.067) for {'alpha': 0.0001, 'eta0': 0.01, 'learning_rate': 'constant', 'loss': 'log', 'max_iter': 1000, 'n_jobs': -1, 'penalty': 'none'}\n",
      "0.826 (+/-0.044) for {'alpha': 0.0001, 'eta0': 0.01, 'learning_rate': 'constant', 'loss': 'modified_huber', 'max_iter': 1000, 'n_jobs': -1, 'penalty': 'l2'}\n",
      "0.826 (+/-0.048) for {'alpha': 0.0001, 'eta0': 0.01, 'learning_rate': 'constant', 'loss': 'modified_huber', 'max_iter': 1000, 'n_jobs': -1, 'penalty': 'l1'}\n",
      "0.821 (+/-0.069) for {'alpha': 0.0001, 'eta0': 0.01, 'learning_rate': 'constant', 'loss': 'modified_huber', 'max_iter': 1000, 'n_jobs': -1, 'penalty': 'elasticnet'}\n",
      "0.831 (+/-0.074) for {'alpha': 0.0001, 'eta0': 0.01, 'learning_rate': 'constant', 'loss': 'modified_huber', 'max_iter': 1000, 'n_jobs': -1, 'penalty': 'none'}\n",
      "0.824 (+/-0.065) for {'alpha': 0.0001, 'eta0': 0.01, 'learning_rate': 'constant', 'loss': 'squared_hinge', 'max_iter': 1000, 'n_jobs': -1, 'penalty': 'l2'}\n",
      "0.830 (+/-0.061) for {'alpha': 0.0001, 'eta0': 0.01, 'learning_rate': 'constant', 'loss': 'squared_hinge', 'max_iter': 1000, 'n_jobs': -1, 'penalty': 'l1'}\n",
      "0.824 (+/-0.065) for {'alpha': 0.0001, 'eta0': 0.01, 'learning_rate': 'constant', 'loss': 'squared_hinge', 'max_iter': 1000, 'n_jobs': -1, 'penalty': 'elasticnet'}\n",
      "0.832 (+/-0.056) for {'alpha': 0.0001, 'eta0': 0.01, 'learning_rate': 'constant', 'loss': 'squared_hinge', 'max_iter': 1000, 'n_jobs': -1, 'penalty': 'none'}\n",
      "0.781 (+/-0.181) for {'alpha': 0.0001, 'eta0': 0.01, 'learning_rate': 'constant', 'loss': 'perceptron', 'max_iter': 1000, 'n_jobs': -1, 'penalty': 'l2'}\n",
      "0.791 (+/-0.084) for {'alpha': 0.0001, 'eta0': 0.01, 'learning_rate': 'constant', 'loss': 'perceptron', 'max_iter': 1000, 'n_jobs': -1, 'penalty': 'l1'}\n",
      "0.757 (+/-0.122) for {'alpha': 0.0001, 'eta0': 0.01, 'learning_rate': 'constant', 'loss': 'perceptron', 'max_iter': 1000, 'n_jobs': -1, 'penalty': 'elasticnet'}\n",
      "0.763 (+/-0.108) for {'alpha': 0.0001, 'eta0': 0.01, 'learning_rate': 'constant', 'loss': 'perceptron', 'max_iter': 1000, 'n_jobs': -1, 'penalty': 'none'}\n",
      "0.832 (+/-0.054) for {'alpha': 0.0001, 'eta0': 0.01, 'learning_rate': 'optimal', 'loss': 'hinge', 'max_iter': 1000, 'n_jobs': -1, 'penalty': 'l2'}\n",
      "0.828 (+/-0.049) for {'alpha': 0.0001, 'eta0': 0.01, 'learning_rate': 'optimal', 'loss': 'hinge', 'max_iter': 1000, 'n_jobs': -1, 'penalty': 'l1'}\n",
      "0.828 (+/-0.062) for {'alpha': 0.0001, 'eta0': 0.01, 'learning_rate': 'optimal', 'loss': 'hinge', 'max_iter': 1000, 'n_jobs': -1, 'penalty': 'elasticnet'}\n",
      "0.827 (+/-0.059) for {'alpha': 0.0001, 'eta0': 0.01, 'learning_rate': 'optimal', 'loss': 'hinge', 'max_iter': 1000, 'n_jobs': -1, 'penalty': 'none'}\n",
      "0.832 (+/-0.060) for {'alpha': 0.0001, 'eta0': 0.01, 'learning_rate': 'optimal', 'loss': 'log', 'max_iter': 1000, 'n_jobs': -1, 'penalty': 'l2'}\n",
      "0.831 (+/-0.065) for {'alpha': 0.0001, 'eta0': 0.01, 'learning_rate': 'optimal', 'loss': 'log', 'max_iter': 1000, 'n_jobs': -1, 'penalty': 'l1'}\n",
      "0.833 (+/-0.060) for {'alpha': 0.0001, 'eta0': 0.01, 'learning_rate': 'optimal', 'loss': 'log', 'max_iter': 1000, 'n_jobs': -1, 'penalty': 'elasticnet'}\n",
      "0.832 (+/-0.064) for {'alpha': 0.0001, 'eta0': 0.01, 'learning_rate': 'optimal', 'loss': 'log', 'max_iter': 1000, 'n_jobs': -1, 'penalty': 'none'}\n",
      "0.834 (+/-0.058) for {'alpha': 0.0001, 'eta0': 0.01, 'learning_rate': 'optimal', 'loss': 'modified_huber', 'max_iter': 1000, 'n_jobs': -1, 'penalty': 'l2'}\n",
      "0.818 (+/-0.060) for {'alpha': 0.0001, 'eta0': 0.01, 'learning_rate': 'optimal', 'loss': 'modified_huber', 'max_iter': 1000, 'n_jobs': -1, 'penalty': 'l1'}\n",
      "0.819 (+/-0.053) for {'alpha': 0.0001, 'eta0': 0.01, 'learning_rate': 'optimal', 'loss': 'modified_huber', 'max_iter': 1000, 'n_jobs': -1, 'penalty': 'elasticnet'}\n",
      "0.816 (+/-0.068) for {'alpha': 0.0001, 'eta0': 0.01, 'learning_rate': 'optimal', 'loss': 'modified_huber', 'max_iter': 1000, 'n_jobs': -1, 'penalty': 'none'}\n",
      "0.819 (+/-0.053) for {'alpha': 0.0001, 'eta0': 0.01, 'learning_rate': 'optimal', 'loss': 'squared_hinge', 'max_iter': 1000, 'n_jobs': -1, 'penalty': 'l2'}\n",
      "0.837 (+/-0.058) for {'alpha': 0.0001, 'eta0': 0.01, 'learning_rate': 'optimal', 'loss': 'squared_hinge', 'max_iter': 1000, 'n_jobs': -1, 'penalty': 'l1'}\n",
      "0.824 (+/-0.056) for {'alpha': 0.0001, 'eta0': 0.01, 'learning_rate': 'optimal', 'loss': 'squared_hinge', 'max_iter': 1000, 'n_jobs': -1, 'penalty': 'elasticnet'}\n",
      "0.818 (+/-0.069) for {'alpha': 0.0001, 'eta0': 0.01, 'learning_rate': 'optimal', 'loss': 'squared_hinge', 'max_iter': 1000, 'n_jobs': -1, 'penalty': 'none'}\n",
      "0.763 (+/-0.088) for {'alpha': 0.0001, 'eta0': 0.01, 'learning_rate': 'optimal', 'loss': 'perceptron', 'max_iter': 1000, 'n_jobs': -1, 'penalty': 'l2'}\n",
      "0.742 (+/-0.063) for {'alpha': 0.0001, 'eta0': 0.01, 'learning_rate': 'optimal', 'loss': 'perceptron', 'max_iter': 1000, 'n_jobs': -1, 'penalty': 'l1'}\n",
      "0.756 (+/-0.040) for {'alpha': 0.0001, 'eta0': 0.01, 'learning_rate': 'optimal', 'loss': 'perceptron', 'max_iter': 1000, 'n_jobs': -1, 'penalty': 'elasticnet'}\n",
      "0.729 (+/-0.163) for {'alpha': 0.0001, 'eta0': 0.01, 'learning_rate': 'optimal', 'loss': 'perceptron', 'max_iter': 1000, 'n_jobs': -1, 'penalty': 'none'}\n",
      "0.833 (+/-0.063) for {'alpha': 0.0001, 'eta0': 0.01, 'learning_rate': 'invscaling', 'loss': 'hinge', 'max_iter': 1000, 'n_jobs': -1, 'penalty': 'l2'}\n",
      "0.833 (+/-0.063) for {'alpha': 0.0001, 'eta0': 0.01, 'learning_rate': 'invscaling', 'loss': 'hinge', 'max_iter': 1000, 'n_jobs': -1, 'penalty': 'l1'}\n",
      "0.833 (+/-0.063) for {'alpha': 0.0001, 'eta0': 0.01, 'learning_rate': 'invscaling', 'loss': 'hinge', 'max_iter': 1000, 'n_jobs': -1, 'penalty': 'elasticnet'}\n",
      "0.833 (+/-0.063) for {'alpha': 0.0001, 'eta0': 0.01, 'learning_rate': 'invscaling', 'loss': 'hinge', 'max_iter': 1000, 'n_jobs': -1, 'penalty': 'none'}\n",
      "0.831 (+/-0.053) for {'alpha': 0.0001, 'eta0': 0.01, 'learning_rate': 'invscaling', 'loss': 'log', 'max_iter': 1000, 'n_jobs': -1, 'penalty': 'l2'}\n",
      "0.831 (+/-0.053) for {'alpha': 0.0001, 'eta0': 0.01, 'learning_rate': 'invscaling', 'loss': 'log', 'max_iter': 1000, 'n_jobs': -1, 'penalty': 'l1'}\n",
      "0.831 (+/-0.053) for {'alpha': 0.0001, 'eta0': 0.01, 'learning_rate': 'invscaling', 'loss': 'log', 'max_iter': 1000, 'n_jobs': -1, 'penalty': 'elasticnet'}\n",
      "0.831 (+/-0.053) for {'alpha': 0.0001, 'eta0': 0.01, 'learning_rate': 'invscaling', 'loss': 'log', 'max_iter': 1000, 'n_jobs': -1, 'penalty': 'none'}\n",
      "0.836 (+/-0.063) for {'alpha': 0.0001, 'eta0': 0.01, 'learning_rate': 'invscaling', 'loss': 'modified_huber', 'max_iter': 1000, 'n_jobs': -1, 'penalty': 'l2'}\n",
      "0.836 (+/-0.063) for {'alpha': 0.0001, 'eta0': 0.01, 'learning_rate': 'invscaling', 'loss': 'modified_huber', 'max_iter': 1000, 'n_jobs': -1, 'penalty': 'l1'}\n",
      "0.836 (+/-0.063) for {'alpha': 0.0001, 'eta0': 0.01, 'learning_rate': 'invscaling', 'loss': 'modified_huber', 'max_iter': 1000, 'n_jobs': -1, 'penalty': 'elasticnet'}\n",
      "0.836 (+/-0.063) for {'alpha': 0.0001, 'eta0': 0.01, 'learning_rate': 'invscaling', 'loss': 'modified_huber', 'max_iter': 1000, 'n_jobs': -1, 'penalty': 'none'}\n",
      "0.838 (+/-0.066) for {'alpha': 0.0001, 'eta0': 0.01, 'learning_rate': 'invscaling', 'loss': 'squared_hinge', 'max_iter': 1000, 'n_jobs': -1, 'penalty': 'l2'}\n",
      "0.838 (+/-0.066) for {'alpha': 0.0001, 'eta0': 0.01, 'learning_rate': 'invscaling', 'loss': 'squared_hinge', 'max_iter': 1000, 'n_jobs': -1, 'penalty': 'l1'}\n",
      "0.838 (+/-0.066) for {'alpha': 0.0001, 'eta0': 0.01, 'learning_rate': 'invscaling', 'loss': 'squared_hinge', 'max_iter': 1000, 'n_jobs': -1, 'penalty': 'elasticnet'}\n",
      "0.838 (+/-0.066) for {'alpha': 0.0001, 'eta0': 0.01, 'learning_rate': 'invscaling', 'loss': 'squared_hinge', 'max_iter': 1000, 'n_jobs': -1, 'penalty': 'none'}\n",
      "0.782 (+/-0.026) for {'alpha': 0.0001, 'eta0': 0.01, 'learning_rate': 'invscaling', 'loss': 'perceptron', 'max_iter': 1000, 'n_jobs': -1, 'penalty': 'l2'}\n",
      "0.772 (+/-0.063) for {'alpha': 0.0001, 'eta0': 0.01, 'learning_rate': 'invscaling', 'loss': 'perceptron', 'max_iter': 1000, 'n_jobs': -1, 'penalty': 'l1'}\n",
      "0.757 (+/-0.085) for {'alpha': 0.0001, 'eta0': 0.01, 'learning_rate': 'invscaling', 'loss': 'perceptron', 'max_iter': 1000, 'n_jobs': -1, 'penalty': 'elasticnet'}\n",
      "0.782 (+/-0.101) for {'alpha': 0.0001, 'eta0': 0.01, 'learning_rate': 'invscaling', 'loss': 'perceptron', 'max_iter': 1000, 'n_jobs': -1, 'penalty': 'none'}\n",
      "0.832 (+/-0.061) for {'alpha': 0.0005994842503189409, 'eta0': 0.01, 'learning_rate': 'constant', 'loss': 'hinge', 'max_iter': 1000, 'n_jobs': -1, 'penalty': 'l2'}\n",
      "0.832 (+/-0.052) for {'alpha': 0.0005994842503189409, 'eta0': 0.01, 'learning_rate': 'constant', 'loss': 'hinge', 'max_iter': 1000, 'n_jobs': -1, 'penalty': 'l1'}\n",
      "0.829 (+/-0.065) for {'alpha': 0.0005994842503189409, 'eta0': 0.01, 'learning_rate': 'constant', 'loss': 'hinge', 'max_iter': 1000, 'n_jobs': -1, 'penalty': 'elasticnet'}\n",
      "0.832 (+/-0.059) for {'alpha': 0.0005994842503189409, 'eta0': 0.01, 'learning_rate': 'constant', 'loss': 'hinge', 'max_iter': 1000, 'n_jobs': -1, 'penalty': 'none'}\n",
      "0.833 (+/-0.062) for {'alpha': 0.0005994842503189409, 'eta0': 0.01, 'learning_rate': 'constant', 'loss': 'log', 'max_iter': 1000, 'n_jobs': -1, 'penalty': 'l2'}\n",
      "0.832 (+/-0.061) for {'alpha': 0.0005994842503189409, 'eta0': 0.01, 'learning_rate': 'constant', 'loss': 'log', 'max_iter': 1000, 'n_jobs': -1, 'penalty': 'l1'}\n",
      "0.832 (+/-0.060) for {'alpha': 0.0005994842503189409, 'eta0': 0.01, 'learning_rate': 'constant', 'loss': 'log', 'max_iter': 1000, 'n_jobs': -1, 'penalty': 'elasticnet'}\n",
      "0.836 (+/-0.066) for {'alpha': 0.0005994842503189409, 'eta0': 0.01, 'learning_rate': 'constant', 'loss': 'log', 'max_iter': 1000, 'n_jobs': -1, 'penalty': 'none'}\n",
      "0.830 (+/-0.054) for {'alpha': 0.0005994842503189409, 'eta0': 0.01, 'learning_rate': 'constant', 'loss': 'modified_huber', 'max_iter': 1000, 'n_jobs': -1, 'penalty': 'l2'}\n",
      "0.820 (+/-0.053) for {'alpha': 0.0005994842503189409, 'eta0': 0.01, 'learning_rate': 'constant', 'loss': 'modified_huber', 'max_iter': 1000, 'n_jobs': -1, 'penalty': 'l1'}\n",
      "0.827 (+/-0.049) for {'alpha': 0.0005994842503189409, 'eta0': 0.01, 'learning_rate': 'constant', 'loss': 'modified_huber', 'max_iter': 1000, 'n_jobs': -1, 'penalty': 'elasticnet'}\n",
      "0.824 (+/-0.068) for {'alpha': 0.0005994842503189409, 'eta0': 0.01, 'learning_rate': 'constant', 'loss': 'modified_huber', 'max_iter': 1000, 'n_jobs': -1, 'penalty': 'none'}\n",
      "0.831 (+/-0.069) for {'alpha': 0.0005994842503189409, 'eta0': 0.01, 'learning_rate': 'constant', 'loss': 'squared_hinge', 'max_iter': 1000, 'n_jobs': -1, 'penalty': 'l2'}\n",
      "0.828 (+/-0.055) for {'alpha': 0.0005994842503189409, 'eta0': 0.01, 'learning_rate': 'constant', 'loss': 'squared_hinge', 'max_iter': 1000, 'n_jobs': -1, 'penalty': 'l1'}\n",
      "0.824 (+/-0.050) for {'alpha': 0.0005994842503189409, 'eta0': 0.01, 'learning_rate': 'constant', 'loss': 'squared_hinge', 'max_iter': 1000, 'n_jobs': -1, 'penalty': 'elasticnet'}\n",
      "0.834 (+/-0.060) for {'alpha': 0.0005994842503189409, 'eta0': 0.01, 'learning_rate': 'constant', 'loss': 'squared_hinge', 'max_iter': 1000, 'n_jobs': -1, 'penalty': 'none'}\n",
      "0.769 (+/-0.032) for {'alpha': 0.0005994842503189409, 'eta0': 0.01, 'learning_rate': 'constant', 'loss': 'perceptron', 'max_iter': 1000, 'n_jobs': -1, 'penalty': 'l2'}\n",
      "0.752 (+/-0.113) for {'alpha': 0.0005994842503189409, 'eta0': 0.01, 'learning_rate': 'constant', 'loss': 'perceptron', 'max_iter': 1000, 'n_jobs': -1, 'penalty': 'l1'}\n",
      "0.788 (+/-0.078) for {'alpha': 0.0005994842503189409, 'eta0': 0.01, 'learning_rate': 'constant', 'loss': 'perceptron', 'max_iter': 1000, 'n_jobs': -1, 'penalty': 'elasticnet'}\n",
      "0.758 (+/-0.122) for {'alpha': 0.0005994842503189409, 'eta0': 0.01, 'learning_rate': 'constant', 'loss': 'perceptron', 'max_iter': 1000, 'n_jobs': -1, 'penalty': 'none'}\n",
      "0.828 (+/-0.069) for {'alpha': 0.0005994842503189409, 'eta0': 0.01, 'learning_rate': 'optimal', 'loss': 'hinge', 'max_iter': 1000, 'n_jobs': -1, 'penalty': 'l2'}\n",
      "0.828 (+/-0.064) for {'alpha': 0.0005994842503189409, 'eta0': 0.01, 'learning_rate': 'optimal', 'loss': 'hinge', 'max_iter': 1000, 'n_jobs': -1, 'penalty': 'l1'}\n",
      "0.833 (+/-0.071) for {'alpha': 0.0005994842503189409, 'eta0': 0.01, 'learning_rate': 'optimal', 'loss': 'hinge', 'max_iter': 1000, 'n_jobs': -1, 'penalty': 'elasticnet'}\n",
      "0.833 (+/-0.070) for {'alpha': 0.0005994842503189409, 'eta0': 0.01, 'learning_rate': 'optimal', 'loss': 'hinge', 'max_iter': 1000, 'n_jobs': -1, 'penalty': 'none'}\n",
      "0.836 (+/-0.062) for {'alpha': 0.0005994842503189409, 'eta0': 0.01, 'learning_rate': 'optimal', 'loss': 'log', 'max_iter': 1000, 'n_jobs': -1, 'penalty': 'l2'}\n",
      "0.834 (+/-0.061) for {'alpha': 0.0005994842503189409, 'eta0': 0.01, 'learning_rate': 'optimal', 'loss': 'log', 'max_iter': 1000, 'n_jobs': -1, 'penalty': 'l1'}\n",
      "0.834 (+/-0.061) for {'alpha': 0.0005994842503189409, 'eta0': 0.01, 'learning_rate': 'optimal', 'loss': 'log', 'max_iter': 1000, 'n_jobs': -1, 'penalty': 'elasticnet'}\n",
      "0.833 (+/-0.064) for {'alpha': 0.0005994842503189409, 'eta0': 0.01, 'learning_rate': 'optimal', 'loss': 'log', 'max_iter': 1000, 'n_jobs': -1, 'penalty': 'none'}\n",
      "0.831 (+/-0.060) for {'alpha': 0.0005994842503189409, 'eta0': 0.01, 'learning_rate': 'optimal', 'loss': 'modified_huber', 'max_iter': 1000, 'n_jobs': -1, 'penalty': 'l2'}\n",
      "0.834 (+/-0.046) for {'alpha': 0.0005994842503189409, 'eta0': 0.01, 'learning_rate': 'optimal', 'loss': 'modified_huber', 'max_iter': 1000, 'n_jobs': -1, 'penalty': 'l1'}\n",
      "0.833 (+/-0.068) for {'alpha': 0.0005994842503189409, 'eta0': 0.01, 'learning_rate': 'optimal', 'loss': 'modified_huber', 'max_iter': 1000, 'n_jobs': -1, 'penalty': 'elasticnet'}\n",
      "0.830 (+/-0.060) for {'alpha': 0.0005994842503189409, 'eta0': 0.01, 'learning_rate': 'optimal', 'loss': 'modified_huber', 'max_iter': 1000, 'n_jobs': -1, 'penalty': 'none'}\n",
      "0.830 (+/-0.060) for {'alpha': 0.0005994842503189409, 'eta0': 0.01, 'learning_rate': 'optimal', 'loss': 'squared_hinge', 'max_iter': 1000, 'n_jobs': -1, 'penalty': 'l2'}\n",
      "0.841 (+/-0.057) for {'alpha': 0.0005994842503189409, 'eta0': 0.01, 'learning_rate': 'optimal', 'loss': 'squared_hinge', 'max_iter': 1000, 'n_jobs': -1, 'penalty': 'l1'}\n",
      "0.831 (+/-0.058) for {'alpha': 0.0005994842503189409, 'eta0': 0.01, 'learning_rate': 'optimal', 'loss': 'squared_hinge', 'max_iter': 1000, 'n_jobs': -1, 'penalty': 'elasticnet'}\n",
      "0.833 (+/-0.062) for {'alpha': 0.0005994842503189409, 'eta0': 0.01, 'learning_rate': 'optimal', 'loss': 'squared_hinge', 'max_iter': 1000, 'n_jobs': -1, 'penalty': 'none'}\n",
      "0.753 (+/-0.125) for {'alpha': 0.0005994842503189409, 'eta0': 0.01, 'learning_rate': 'optimal', 'loss': 'perceptron', 'max_iter': 1000, 'n_jobs': -1, 'penalty': 'l2'}\n",
      "0.751 (+/-0.013) for {'alpha': 0.0005994842503189409, 'eta0': 0.01, 'learning_rate': 'optimal', 'loss': 'perceptron', 'max_iter': 1000, 'n_jobs': -1, 'penalty': 'l1'}\n",
      "0.783 (+/-0.080) for {'alpha': 0.0005994842503189409, 'eta0': 0.01, 'learning_rate': 'optimal', 'loss': 'perceptron', 'max_iter': 1000, 'n_jobs': -1, 'penalty': 'elasticnet'}\n",
      "0.773 (+/-0.061) for {'alpha': 0.0005994842503189409, 'eta0': 0.01, 'learning_rate': 'optimal', 'loss': 'perceptron', 'max_iter': 1000, 'n_jobs': -1, 'penalty': 'none'}\n",
      "0.833 (+/-0.063) for {'alpha': 0.0005994842503189409, 'eta0': 0.01, 'learning_rate': 'invscaling', 'loss': 'hinge', 'max_iter': 1000, 'n_jobs': -1, 'penalty': 'l2'}\n",
      "0.833 (+/-0.063) for {'alpha': 0.0005994842503189409, 'eta0': 0.01, 'learning_rate': 'invscaling', 'loss': 'hinge', 'max_iter': 1000, 'n_jobs': -1, 'penalty': 'l1'}\n",
      "0.833 (+/-0.063) for {'alpha': 0.0005994842503189409, 'eta0': 0.01, 'learning_rate': 'invscaling', 'loss': 'hinge', 'max_iter': 1000, 'n_jobs': -1, 'penalty': 'elasticnet'}\n",
      "0.833 (+/-0.063) for {'alpha': 0.0005994842503189409, 'eta0': 0.01, 'learning_rate': 'invscaling', 'loss': 'hinge', 'max_iter': 1000, 'n_jobs': -1, 'penalty': 'none'}\n",
      "0.831 (+/-0.053) for {'alpha': 0.0005994842503189409, 'eta0': 0.01, 'learning_rate': 'invscaling', 'loss': 'log', 'max_iter': 1000, 'n_jobs': -1, 'penalty': 'l2'}\n",
      "0.831 (+/-0.053) for {'alpha': 0.0005994842503189409, 'eta0': 0.01, 'learning_rate': 'invscaling', 'loss': 'log', 'max_iter': 1000, 'n_jobs': -1, 'penalty': 'l1'}\n",
      "0.831 (+/-0.053) for {'alpha': 0.0005994842503189409, 'eta0': 0.01, 'learning_rate': 'invscaling', 'loss': 'log', 'max_iter': 1000, 'n_jobs': -1, 'penalty': 'elasticnet'}\n",
      "0.831 (+/-0.053) for {'alpha': 0.0005994842503189409, 'eta0': 0.01, 'learning_rate': 'invscaling', 'loss': 'log', 'max_iter': 1000, 'n_jobs': -1, 'penalty': 'none'}\n",
      "0.837 (+/-0.063) for {'alpha': 0.0005994842503189409, 'eta0': 0.01, 'learning_rate': 'invscaling', 'loss': 'modified_huber', 'max_iter': 1000, 'n_jobs': -1, 'penalty': 'l2'}\n",
      "0.837 (+/-0.063) for {'alpha': 0.0005994842503189409, 'eta0': 0.01, 'learning_rate': 'invscaling', 'loss': 'modified_huber', 'max_iter': 1000, 'n_jobs': -1, 'penalty': 'l1'}\n",
      "0.837 (+/-0.063) for {'alpha': 0.0005994842503189409, 'eta0': 0.01, 'learning_rate': 'invscaling', 'loss': 'modified_huber', 'max_iter': 1000, 'n_jobs': -1, 'penalty': 'elasticnet'}\n",
      "0.836 (+/-0.063) for {'alpha': 0.0005994842503189409, 'eta0': 0.01, 'learning_rate': 'invscaling', 'loss': 'modified_huber', 'max_iter': 1000, 'n_jobs': -1, 'penalty': 'none'}\n",
      "0.838 (+/-0.066) for {'alpha': 0.0005994842503189409, 'eta0': 0.01, 'learning_rate': 'invscaling', 'loss': 'squared_hinge', 'max_iter': 1000, 'n_jobs': -1, 'penalty': 'l2'}\n",
      "0.838 (+/-0.066) for {'alpha': 0.0005994842503189409, 'eta0': 0.01, 'learning_rate': 'invscaling', 'loss': 'squared_hinge', 'max_iter': 1000, 'n_jobs': -1, 'penalty': 'l1'}\n",
      "0.838 (+/-0.066) for {'alpha': 0.0005994842503189409, 'eta0': 0.01, 'learning_rate': 'invscaling', 'loss': 'squared_hinge', 'max_iter': 1000, 'n_jobs': -1, 'penalty': 'elasticnet'}\n",
      "0.838 (+/-0.066) for {'alpha': 0.0005994842503189409, 'eta0': 0.01, 'learning_rate': 'invscaling', 'loss': 'squared_hinge', 'max_iter': 1000, 'n_jobs': -1, 'penalty': 'none'}\n",
      "0.777 (+/-0.091) for {'alpha': 0.0005994842503189409, 'eta0': 0.01, 'learning_rate': 'invscaling', 'loss': 'perceptron', 'max_iter': 1000, 'n_jobs': -1, 'penalty': 'l2'}\n",
      "0.783 (+/-0.056) for {'alpha': 0.0005994842503189409, 'eta0': 0.01, 'learning_rate': 'invscaling', 'loss': 'perceptron', 'max_iter': 1000, 'n_jobs': -1, 'penalty': 'l1'}\n",
      "0.734 (+/-0.136) for {'alpha': 0.0005994842503189409, 'eta0': 0.01, 'learning_rate': 'invscaling', 'loss': 'perceptron', 'max_iter': 1000, 'n_jobs': -1, 'penalty': 'elasticnet'}\n",
      "0.763 (+/-0.107) for {'alpha': 0.0005994842503189409, 'eta0': 0.01, 'learning_rate': 'invscaling', 'loss': 'perceptron', 'max_iter': 1000, 'n_jobs': -1, 'penalty': 'none'}\n",
      "0.831 (+/-0.056) for {'alpha': 0.003593813663804626, 'eta0': 0.01, 'learning_rate': 'constant', 'loss': 'hinge', 'max_iter': 1000, 'n_jobs': -1, 'penalty': 'l2'}\n",
      "0.834 (+/-0.053) for {'alpha': 0.003593813663804626, 'eta0': 0.01, 'learning_rate': 'constant', 'loss': 'hinge', 'max_iter': 1000, 'n_jobs': -1, 'penalty': 'l1'}\n",
      "0.832 (+/-0.061) for {'alpha': 0.003593813663804626, 'eta0': 0.01, 'learning_rate': 'constant', 'loss': 'hinge', 'max_iter': 1000, 'n_jobs': -1, 'penalty': 'elasticnet'}\n",
      "0.832 (+/-0.057) for {'alpha': 0.003593813663804626, 'eta0': 0.01, 'learning_rate': 'constant', 'loss': 'hinge', 'max_iter': 1000, 'n_jobs': -1, 'penalty': 'none'}\n",
      "0.832 (+/-0.063) for {'alpha': 0.003593813663804626, 'eta0': 0.01, 'learning_rate': 'constant', 'loss': 'log', 'max_iter': 1000, 'n_jobs': -1, 'penalty': 'l2'}\n",
      "0.833 (+/-0.064) for {'alpha': 0.003593813663804626, 'eta0': 0.01, 'learning_rate': 'constant', 'loss': 'log', 'max_iter': 1000, 'n_jobs': -1, 'penalty': 'l1'}\n",
      "0.833 (+/-0.063) for {'alpha': 0.003593813663804626, 'eta0': 0.01, 'learning_rate': 'constant', 'loss': 'log', 'max_iter': 1000, 'n_jobs': -1, 'penalty': 'elasticnet'}\n",
      "0.833 (+/-0.068) for {'alpha': 0.003593813663804626, 'eta0': 0.01, 'learning_rate': 'constant', 'loss': 'log', 'max_iter': 1000, 'n_jobs': -1, 'penalty': 'none'}\n",
      "0.820 (+/-0.063) for {'alpha': 0.003593813663804626, 'eta0': 0.01, 'learning_rate': 'constant', 'loss': 'modified_huber', 'max_iter': 1000, 'n_jobs': -1, 'penalty': 'l2'}\n",
      "0.822 (+/-0.064) for {'alpha': 0.003593813663804626, 'eta0': 0.01, 'learning_rate': 'constant', 'loss': 'modified_huber', 'max_iter': 1000, 'n_jobs': -1, 'penalty': 'l1'}\n",
      "0.831 (+/-0.059) for {'alpha': 0.003593813663804626, 'eta0': 0.01, 'learning_rate': 'constant', 'loss': 'modified_huber', 'max_iter': 1000, 'n_jobs': -1, 'penalty': 'elasticnet'}\n",
      "0.829 (+/-0.049) for {'alpha': 0.003593813663804626, 'eta0': 0.01, 'learning_rate': 'constant', 'loss': 'modified_huber', 'max_iter': 1000, 'n_jobs': -1, 'penalty': 'none'}\n",
      "0.826 (+/-0.070) for {'alpha': 0.003593813663804626, 'eta0': 0.01, 'learning_rate': 'constant', 'loss': 'squared_hinge', 'max_iter': 1000, 'n_jobs': -1, 'penalty': 'l2'}\n",
      "0.819 (+/-0.064) for {'alpha': 0.003593813663804626, 'eta0': 0.01, 'learning_rate': 'constant', 'loss': 'squared_hinge', 'max_iter': 1000, 'n_jobs': -1, 'penalty': 'l1'}\n",
      "0.821 (+/-0.063) for {'alpha': 0.003593813663804626, 'eta0': 0.01, 'learning_rate': 'constant', 'loss': 'squared_hinge', 'max_iter': 1000, 'n_jobs': -1, 'penalty': 'elasticnet'}\n",
      "0.831 (+/-0.055) for {'alpha': 0.003593813663804626, 'eta0': 0.01, 'learning_rate': 'constant', 'loss': 'squared_hinge', 'max_iter': 1000, 'n_jobs': -1, 'penalty': 'none'}\n",
      "0.697 (+/-0.390) for {'alpha': 0.003593813663804626, 'eta0': 0.01, 'learning_rate': 'constant', 'loss': 'perceptron', 'max_iter': 1000, 'n_jobs': -1, 'penalty': 'l2'}\n",
      "0.808 (+/-0.085) for {'alpha': 0.003593813663804626, 'eta0': 0.01, 'learning_rate': 'constant', 'loss': 'perceptron', 'max_iter': 1000, 'n_jobs': -1, 'penalty': 'l1'}\n",
      "0.728 (+/-0.082) for {'alpha': 0.003593813663804626, 'eta0': 0.01, 'learning_rate': 'constant', 'loss': 'perceptron', 'max_iter': 1000, 'n_jobs': -1, 'penalty': 'elasticnet'}\n",
      "0.778 (+/-0.106) for {'alpha': 0.003593813663804626, 'eta0': 0.01, 'learning_rate': 'constant', 'loss': 'perceptron', 'max_iter': 1000, 'n_jobs': -1, 'penalty': 'none'}\n",
      "0.832 (+/-0.068) for {'alpha': 0.003593813663804626, 'eta0': 0.01, 'learning_rate': 'optimal', 'loss': 'hinge', 'max_iter': 1000, 'n_jobs': -1, 'penalty': 'l2'}\n",
      "0.832 (+/-0.067) for {'alpha': 0.003593813663804626, 'eta0': 0.01, 'learning_rate': 'optimal', 'loss': 'hinge', 'max_iter': 1000, 'n_jobs': -1, 'penalty': 'l1'}\n",
      "0.831 (+/-0.065) for {'alpha': 0.003593813663804626, 'eta0': 0.01, 'learning_rate': 'optimal', 'loss': 'hinge', 'max_iter': 1000, 'n_jobs': -1, 'penalty': 'elasticnet'}\n",
      "0.832 (+/-0.070) for {'alpha': 0.003593813663804626, 'eta0': 0.01, 'learning_rate': 'optimal', 'loss': 'hinge', 'max_iter': 1000, 'n_jobs': -1, 'penalty': 'none'}\n",
      "0.832 (+/-0.063) for {'alpha': 0.003593813663804626, 'eta0': 0.01, 'learning_rate': 'optimal', 'loss': 'log', 'max_iter': 1000, 'n_jobs': -1, 'penalty': 'l2'}\n",
      "0.834 (+/-0.061) for {'alpha': 0.003593813663804626, 'eta0': 0.01, 'learning_rate': 'optimal', 'loss': 'log', 'max_iter': 1000, 'n_jobs': -1, 'penalty': 'l1'}\n",
      "0.833 (+/-0.061) for {'alpha': 0.003593813663804626, 'eta0': 0.01, 'learning_rate': 'optimal', 'loss': 'log', 'max_iter': 1000, 'n_jobs': -1, 'penalty': 'elasticnet'}\n",
      "0.833 (+/-0.064) for {'alpha': 0.003593813663804626, 'eta0': 0.01, 'learning_rate': 'optimal', 'loss': 'log', 'max_iter': 1000, 'n_jobs': -1, 'penalty': 'none'}\n",
      "0.836 (+/-0.063) for {'alpha': 0.003593813663804626, 'eta0': 0.01, 'learning_rate': 'optimal', 'loss': 'modified_huber', 'max_iter': 1000, 'n_jobs': -1, 'penalty': 'l2'}\n",
      "0.836 (+/-0.063) for {'alpha': 0.003593813663804626, 'eta0': 0.01, 'learning_rate': 'optimal', 'loss': 'modified_huber', 'max_iter': 1000, 'n_jobs': -1, 'penalty': 'l1'}\n",
      "0.837 (+/-0.063) for {'alpha': 0.003593813663804626, 'eta0': 0.01, 'learning_rate': 'optimal', 'loss': 'modified_huber', 'max_iter': 1000, 'n_jobs': -1, 'penalty': 'elasticnet'}\n",
      "0.836 (+/-0.063) for {'alpha': 0.003593813663804626, 'eta0': 0.01, 'learning_rate': 'optimal', 'loss': 'modified_huber', 'max_iter': 1000, 'n_jobs': -1, 'penalty': 'none'}\n",
      "0.837 (+/-0.063) for {'alpha': 0.003593813663804626, 'eta0': 0.01, 'learning_rate': 'optimal', 'loss': 'squared_hinge', 'max_iter': 1000, 'n_jobs': -1, 'penalty': 'l2'}\n",
      "0.837 (+/-0.067) for {'alpha': 0.003593813663804626, 'eta0': 0.01, 'learning_rate': 'optimal', 'loss': 'squared_hinge', 'max_iter': 1000, 'n_jobs': -1, 'penalty': 'l1'}\n",
      "0.836 (+/-0.065) for {'alpha': 0.003593813663804626, 'eta0': 0.01, 'learning_rate': 'optimal', 'loss': 'squared_hinge', 'max_iter': 1000, 'n_jobs': -1, 'penalty': 'elasticnet'}\n",
      "0.838 (+/-0.066) for {'alpha': 0.003593813663804626, 'eta0': 0.01, 'learning_rate': 'optimal', 'loss': 'squared_hinge', 'max_iter': 1000, 'n_jobs': -1, 'penalty': 'none'}\n",
      "0.748 (+/-0.120) for {'alpha': 0.003593813663804626, 'eta0': 0.01, 'learning_rate': 'optimal', 'loss': 'perceptron', 'max_iter': 1000, 'n_jobs': -1, 'penalty': 'l2'}\n",
      "0.684 (+/-0.229) for {'alpha': 0.003593813663804626, 'eta0': 0.01, 'learning_rate': 'optimal', 'loss': 'perceptron', 'max_iter': 1000, 'n_jobs': -1, 'penalty': 'l1'}\n",
      "0.777 (+/-0.077) for {'alpha': 0.003593813663804626, 'eta0': 0.01, 'learning_rate': 'optimal', 'loss': 'perceptron', 'max_iter': 1000, 'n_jobs': -1, 'penalty': 'elasticnet'}\n",
      "0.742 (+/-0.122) for {'alpha': 0.003593813663804626, 'eta0': 0.01, 'learning_rate': 'optimal', 'loss': 'perceptron', 'max_iter': 1000, 'n_jobs': -1, 'penalty': 'none'}\n",
      "0.831 (+/-0.066) for {'alpha': 0.003593813663804626, 'eta0': 0.01, 'learning_rate': 'invscaling', 'loss': 'hinge', 'max_iter': 1000, 'n_jobs': -1, 'penalty': 'l2'}\n",
      "0.831 (+/-0.066) for {'alpha': 0.003593813663804626, 'eta0': 0.01, 'learning_rate': 'invscaling', 'loss': 'hinge', 'max_iter': 1000, 'n_jobs': -1, 'penalty': 'l1'}\n",
      "0.831 (+/-0.066) for {'alpha': 0.003593813663804626, 'eta0': 0.01, 'learning_rate': 'invscaling', 'loss': 'hinge', 'max_iter': 1000, 'n_jobs': -1, 'penalty': 'elasticnet'}\n",
      "0.833 (+/-0.063) for {'alpha': 0.003593813663804626, 'eta0': 0.01, 'learning_rate': 'invscaling', 'loss': 'hinge', 'max_iter': 1000, 'n_jobs': -1, 'penalty': 'none'}\n",
      "0.831 (+/-0.053) for {'alpha': 0.003593813663804626, 'eta0': 0.01, 'learning_rate': 'invscaling', 'loss': 'log', 'max_iter': 1000, 'n_jobs': -1, 'penalty': 'l2'}\n",
      "0.829 (+/-0.052) for {'alpha': 0.003593813663804626, 'eta0': 0.01, 'learning_rate': 'invscaling', 'loss': 'log', 'max_iter': 1000, 'n_jobs': -1, 'penalty': 'l1'}\n",
      "0.831 (+/-0.053) for {'alpha': 0.003593813663804626, 'eta0': 0.01, 'learning_rate': 'invscaling', 'loss': 'log', 'max_iter': 1000, 'n_jobs': -1, 'penalty': 'elasticnet'}\n",
      "0.831 (+/-0.053) for {'alpha': 0.003593813663804626, 'eta0': 0.01, 'learning_rate': 'invscaling', 'loss': 'log', 'max_iter': 1000, 'n_jobs': -1, 'penalty': 'none'}\n",
      "0.837 (+/-0.063) for {'alpha': 0.003593813663804626, 'eta0': 0.01, 'learning_rate': 'invscaling', 'loss': 'modified_huber', 'max_iter': 1000, 'n_jobs': -1, 'penalty': 'l2'}\n",
      "0.836 (+/-0.063) for {'alpha': 0.003593813663804626, 'eta0': 0.01, 'learning_rate': 'invscaling', 'loss': 'modified_huber', 'max_iter': 1000, 'n_jobs': -1, 'penalty': 'l1'}\n",
      "0.837 (+/-0.063) for {'alpha': 0.003593813663804626, 'eta0': 0.01, 'learning_rate': 'invscaling', 'loss': 'modified_huber', 'max_iter': 1000, 'n_jobs': -1, 'penalty': 'elasticnet'}\n",
      "0.836 (+/-0.063) for {'alpha': 0.003593813663804626, 'eta0': 0.01, 'learning_rate': 'invscaling', 'loss': 'modified_huber', 'max_iter': 1000, 'n_jobs': -1, 'penalty': 'none'}\n",
      "0.838 (+/-0.066) for {'alpha': 0.003593813663804626, 'eta0': 0.01, 'learning_rate': 'invscaling', 'loss': 'squared_hinge', 'max_iter': 1000, 'n_jobs': -1, 'penalty': 'l2'}\n",
      "0.837 (+/-0.067) for {'alpha': 0.003593813663804626, 'eta0': 0.01, 'learning_rate': 'invscaling', 'loss': 'squared_hinge', 'max_iter': 1000, 'n_jobs': -1, 'penalty': 'l1'}\n",
      "0.838 (+/-0.066) for {'alpha': 0.003593813663804626, 'eta0': 0.01, 'learning_rate': 'invscaling', 'loss': 'squared_hinge', 'max_iter': 1000, 'n_jobs': -1, 'penalty': 'elasticnet'}\n",
      "0.838 (+/-0.066) for {'alpha': 0.003593813663804626, 'eta0': 0.01, 'learning_rate': 'invscaling', 'loss': 'squared_hinge', 'max_iter': 1000, 'n_jobs': -1, 'penalty': 'none'}\n",
      "0.738 (+/-0.107) for {'alpha': 0.003593813663804626, 'eta0': 0.01, 'learning_rate': 'invscaling', 'loss': 'perceptron', 'max_iter': 1000, 'n_jobs': -1, 'penalty': 'l2'}\n",
      "0.742 (+/-0.069) for {'alpha': 0.003593813663804626, 'eta0': 0.01, 'learning_rate': 'invscaling', 'loss': 'perceptron', 'max_iter': 1000, 'n_jobs': -1, 'penalty': 'l1'}\n",
      "0.704 (+/-0.236) for {'alpha': 0.003593813663804626, 'eta0': 0.01, 'learning_rate': 'invscaling', 'loss': 'perceptron', 'max_iter': 1000, 'n_jobs': -1, 'penalty': 'elasticnet'}\n",
      "0.789 (+/-0.064) for {'alpha': 0.003593813663804626, 'eta0': 0.01, 'learning_rate': 'invscaling', 'loss': 'perceptron', 'max_iter': 1000, 'n_jobs': -1, 'penalty': 'none'}\n",
      "0.836 (+/-0.064) for {'alpha': 0.021544346900318846, 'eta0': 0.01, 'learning_rate': 'constant', 'loss': 'hinge', 'max_iter': 1000, 'n_jobs': -1, 'penalty': 'l2'}\n",
      "0.827 (+/-0.063) for {'alpha': 0.021544346900318846, 'eta0': 0.01, 'learning_rate': 'constant', 'loss': 'hinge', 'max_iter': 1000, 'n_jobs': -1, 'penalty': 'l1'}\n",
      "0.833 (+/-0.046) for {'alpha': 0.021544346900318846, 'eta0': 0.01, 'learning_rate': 'constant', 'loss': 'hinge', 'max_iter': 1000, 'n_jobs': -1, 'penalty': 'elasticnet'}\n",
      "0.834 (+/-0.058) for {'alpha': 0.021544346900318846, 'eta0': 0.01, 'learning_rate': 'constant', 'loss': 'hinge', 'max_iter': 1000, 'n_jobs': -1, 'penalty': 'none'}\n",
      "0.831 (+/-0.062) for {'alpha': 0.021544346900318846, 'eta0': 0.01, 'learning_rate': 'constant', 'loss': 'log', 'max_iter': 1000, 'n_jobs': -1, 'penalty': 'l2'}\n",
      "0.830 (+/-0.059) for {'alpha': 0.021544346900318846, 'eta0': 0.01, 'learning_rate': 'constant', 'loss': 'log', 'max_iter': 1000, 'n_jobs': -1, 'penalty': 'l1'}\n",
      "0.828 (+/-0.051) for {'alpha': 0.021544346900318846, 'eta0': 0.01, 'learning_rate': 'constant', 'loss': 'log', 'max_iter': 1000, 'n_jobs': -1, 'penalty': 'elasticnet'}\n",
      "0.830 (+/-0.056) for {'alpha': 0.021544346900318846, 'eta0': 0.01, 'learning_rate': 'constant', 'loss': 'log', 'max_iter': 1000, 'n_jobs': -1, 'penalty': 'none'}\n",
      "0.824 (+/-0.058) for {'alpha': 0.021544346900318846, 'eta0': 0.01, 'learning_rate': 'constant', 'loss': 'modified_huber', 'max_iter': 1000, 'n_jobs': -1, 'penalty': 'l2'}\n",
      "0.822 (+/-0.063) for {'alpha': 0.021544346900318846, 'eta0': 0.01, 'learning_rate': 'constant', 'loss': 'modified_huber', 'max_iter': 1000, 'n_jobs': -1, 'penalty': 'l1'}\n",
      "0.819 (+/-0.059) for {'alpha': 0.021544346900318846, 'eta0': 0.01, 'learning_rate': 'constant', 'loss': 'modified_huber', 'max_iter': 1000, 'n_jobs': -1, 'penalty': 'elasticnet'}\n",
      "0.821 (+/-0.078) for {'alpha': 0.021544346900318846, 'eta0': 0.01, 'learning_rate': 'constant', 'loss': 'modified_huber', 'max_iter': 1000, 'n_jobs': -1, 'penalty': 'none'}\n",
      "0.823 (+/-0.054) for {'alpha': 0.021544346900318846, 'eta0': 0.01, 'learning_rate': 'constant', 'loss': 'squared_hinge', 'max_iter': 1000, 'n_jobs': -1, 'penalty': 'l2'}\n",
      "0.831 (+/-0.059) for {'alpha': 0.021544346900318846, 'eta0': 0.01, 'learning_rate': 'constant', 'loss': 'squared_hinge', 'max_iter': 1000, 'n_jobs': -1, 'penalty': 'l1'}\n",
      "0.830 (+/-0.074) for {'alpha': 0.021544346900318846, 'eta0': 0.01, 'learning_rate': 'constant', 'loss': 'squared_hinge', 'max_iter': 1000, 'n_jobs': -1, 'penalty': 'elasticnet'}\n",
      "0.813 (+/-0.064) for {'alpha': 0.021544346900318846, 'eta0': 0.01, 'learning_rate': 'constant', 'loss': 'squared_hinge', 'max_iter': 1000, 'n_jobs': -1, 'penalty': 'none'}\n",
      "0.806 (+/-0.054) for {'alpha': 0.021544346900318846, 'eta0': 0.01, 'learning_rate': 'constant', 'loss': 'perceptron', 'max_iter': 1000, 'n_jobs': -1, 'penalty': 'l2'}\n",
      "0.722 (+/-0.071) for {'alpha': 0.021544346900318846, 'eta0': 0.01, 'learning_rate': 'constant', 'loss': 'perceptron', 'max_iter': 1000, 'n_jobs': -1, 'penalty': 'l1'}\n",
      "0.787 (+/-0.087) for {'alpha': 0.021544346900318846, 'eta0': 0.01, 'learning_rate': 'constant', 'loss': 'perceptron', 'max_iter': 1000, 'n_jobs': -1, 'penalty': 'elasticnet'}\n",
      "0.794 (+/-0.086) for {'alpha': 0.021544346900318846, 'eta0': 0.01, 'learning_rate': 'constant', 'loss': 'perceptron', 'max_iter': 1000, 'n_jobs': -1, 'penalty': 'none'}\n",
      "0.831 (+/-0.066) for {'alpha': 0.021544346900318846, 'eta0': 0.01, 'learning_rate': 'optimal', 'loss': 'hinge', 'max_iter': 1000, 'n_jobs': -1, 'penalty': 'l2'}\n",
      "0.833 (+/-0.066) for {'alpha': 0.021544346900318846, 'eta0': 0.01, 'learning_rate': 'optimal', 'loss': 'hinge', 'max_iter': 1000, 'n_jobs': -1, 'penalty': 'l1'}\n",
      "0.832 (+/-0.067) for {'alpha': 0.021544346900318846, 'eta0': 0.01, 'learning_rate': 'optimal', 'loss': 'hinge', 'max_iter': 1000, 'n_jobs': -1, 'penalty': 'elasticnet'}\n",
      "0.831 (+/-0.067) for {'alpha': 0.021544346900318846, 'eta0': 0.01, 'learning_rate': 'optimal', 'loss': 'hinge', 'max_iter': 1000, 'n_jobs': -1, 'penalty': 'none'}\n",
      "0.831 (+/-0.061) for {'alpha': 0.021544346900318846, 'eta0': 0.01, 'learning_rate': 'optimal', 'loss': 'log', 'max_iter': 1000, 'n_jobs': -1, 'penalty': 'l2'}\n",
      "0.829 (+/-0.061) for {'alpha': 0.021544346900318846, 'eta0': 0.01, 'learning_rate': 'optimal', 'loss': 'log', 'max_iter': 1000, 'n_jobs': -1, 'penalty': 'l1'}\n",
      "0.829 (+/-0.064) for {'alpha': 0.021544346900318846, 'eta0': 0.01, 'learning_rate': 'optimal', 'loss': 'log', 'max_iter': 1000, 'n_jobs': -1, 'penalty': 'elasticnet'}\n",
      "0.833 (+/-0.064) for {'alpha': 0.021544346900318846, 'eta0': 0.01, 'learning_rate': 'optimal', 'loss': 'log', 'max_iter': 1000, 'n_jobs': -1, 'penalty': 'none'}\n",
      "0.837 (+/-0.067) for {'alpha': 0.021544346900318846, 'eta0': 0.01, 'learning_rate': 'optimal', 'loss': 'modified_huber', 'max_iter': 1000, 'n_jobs': -1, 'penalty': 'l2'}\n",
      "0.837 (+/-0.067) for {'alpha': 0.021544346900318846, 'eta0': 0.01, 'learning_rate': 'optimal', 'loss': 'modified_huber', 'max_iter': 1000, 'n_jobs': -1, 'penalty': 'l1'}\n",
      "0.837 (+/-0.067) for {'alpha': 0.021544346900318846, 'eta0': 0.01, 'learning_rate': 'optimal', 'loss': 'modified_huber', 'max_iter': 1000, 'n_jobs': -1, 'penalty': 'elasticnet'}\n",
      "0.837 (+/-0.063) for {'alpha': 0.021544346900318846, 'eta0': 0.01, 'learning_rate': 'optimal', 'loss': 'modified_huber', 'max_iter': 1000, 'n_jobs': -1, 'penalty': 'none'}\n",
      "0.834 (+/-0.068) for {'alpha': 0.021544346900318846, 'eta0': 0.01, 'learning_rate': 'optimal', 'loss': 'squared_hinge', 'max_iter': 1000, 'n_jobs': -1, 'penalty': 'l2'}\n",
      "0.840 (+/-0.069) for {'alpha': 0.021544346900318846, 'eta0': 0.01, 'learning_rate': 'optimal', 'loss': 'squared_hinge', 'max_iter': 1000, 'n_jobs': -1, 'penalty': 'l1'}\n",
      "0.834 (+/-0.068) for {'alpha': 0.021544346900318846, 'eta0': 0.01, 'learning_rate': 'optimal', 'loss': 'squared_hinge', 'max_iter': 1000, 'n_jobs': -1, 'penalty': 'elasticnet'}\n",
      "0.839 (+/-0.067) for {'alpha': 0.021544346900318846, 'eta0': 0.01, 'learning_rate': 'optimal', 'loss': 'squared_hinge', 'max_iter': 1000, 'n_jobs': -1, 'penalty': 'none'}\n",
      "0.749 (+/-0.150) for {'alpha': 0.021544346900318846, 'eta0': 0.01, 'learning_rate': 'optimal', 'loss': 'perceptron', 'max_iter': 1000, 'n_jobs': -1, 'penalty': 'l2'}\n",
      "0.748 (+/-0.136) for {'alpha': 0.021544346900318846, 'eta0': 0.01, 'learning_rate': 'optimal', 'loss': 'perceptron', 'max_iter': 1000, 'n_jobs': -1, 'penalty': 'l1'}\n",
      "0.751 (+/-0.118) for {'alpha': 0.021544346900318846, 'eta0': 0.01, 'learning_rate': 'optimal', 'loss': 'perceptron', 'max_iter': 1000, 'n_jobs': -1, 'penalty': 'elasticnet'}\n",
      "0.756 (+/-0.057) for {'alpha': 0.021544346900318846, 'eta0': 0.01, 'learning_rate': 'optimal', 'loss': 'perceptron', 'max_iter': 1000, 'n_jobs': -1, 'penalty': 'none'}\n",
      "0.833 (+/-0.063) for {'alpha': 0.021544346900318846, 'eta0': 0.01, 'learning_rate': 'invscaling', 'loss': 'hinge', 'max_iter': 1000, 'n_jobs': -1, 'penalty': 'l2'}\n",
      "0.833 (+/-0.061) for {'alpha': 0.021544346900318846, 'eta0': 0.01, 'learning_rate': 'invscaling', 'loss': 'hinge', 'max_iter': 1000, 'n_jobs': -1, 'penalty': 'l1'}\n",
      "0.834 (+/-0.063) for {'alpha': 0.021544346900318846, 'eta0': 0.01, 'learning_rate': 'invscaling', 'loss': 'hinge', 'max_iter': 1000, 'n_jobs': -1, 'penalty': 'elasticnet'}\n",
      "0.833 (+/-0.063) for {'alpha': 0.021544346900318846, 'eta0': 0.01, 'learning_rate': 'invscaling', 'loss': 'hinge', 'max_iter': 1000, 'n_jobs': -1, 'penalty': 'none'}\n",
      "0.830 (+/-0.056) for {'alpha': 0.021544346900318846, 'eta0': 0.01, 'learning_rate': 'invscaling', 'loss': 'log', 'max_iter': 1000, 'n_jobs': -1, 'penalty': 'l2'}\n",
      "0.827 (+/-0.057) for {'alpha': 0.021544346900318846, 'eta0': 0.01, 'learning_rate': 'invscaling', 'loss': 'log', 'max_iter': 1000, 'n_jobs': -1, 'penalty': 'l1'}\n",
      "0.829 (+/-0.052) for {'alpha': 0.021544346900318846, 'eta0': 0.01, 'learning_rate': 'invscaling', 'loss': 'log', 'max_iter': 1000, 'n_jobs': -1, 'penalty': 'elasticnet'}\n",
      "0.831 (+/-0.053) for {'alpha': 0.021544346900318846, 'eta0': 0.01, 'learning_rate': 'invscaling', 'loss': 'log', 'max_iter': 1000, 'n_jobs': -1, 'penalty': 'none'}\n",
      "0.837 (+/-0.067) for {'alpha': 0.021544346900318846, 'eta0': 0.01, 'learning_rate': 'invscaling', 'loss': 'modified_huber', 'max_iter': 1000, 'n_jobs': -1, 'penalty': 'l2'}\n",
      "0.837 (+/-0.067) for {'alpha': 0.021544346900318846, 'eta0': 0.01, 'learning_rate': 'invscaling', 'loss': 'modified_huber', 'max_iter': 1000, 'n_jobs': -1, 'penalty': 'l1'}\n",
      "0.837 (+/-0.067) for {'alpha': 0.021544346900318846, 'eta0': 0.01, 'learning_rate': 'invscaling', 'loss': 'modified_huber', 'max_iter': 1000, 'n_jobs': -1, 'penalty': 'elasticnet'}\n",
      "0.836 (+/-0.063) for {'alpha': 0.021544346900318846, 'eta0': 0.01, 'learning_rate': 'invscaling', 'loss': 'modified_huber', 'max_iter': 1000, 'n_jobs': -1, 'penalty': 'none'}\n",
      "0.834 (+/-0.068) for {'alpha': 0.021544346900318846, 'eta0': 0.01, 'learning_rate': 'invscaling', 'loss': 'squared_hinge', 'max_iter': 1000, 'n_jobs': -1, 'penalty': 'l2'}\n",
      "0.836 (+/-0.067) for {'alpha': 0.021544346900318846, 'eta0': 0.01, 'learning_rate': 'invscaling', 'loss': 'squared_hinge', 'max_iter': 1000, 'n_jobs': -1, 'penalty': 'l1'}\n",
      "0.834 (+/-0.068) for {'alpha': 0.021544346900318846, 'eta0': 0.01, 'learning_rate': 'invscaling', 'loss': 'squared_hinge', 'max_iter': 1000, 'n_jobs': -1, 'penalty': 'elasticnet'}\n",
      "0.838 (+/-0.066) for {'alpha': 0.021544346900318846, 'eta0': 0.01, 'learning_rate': 'invscaling', 'loss': 'squared_hinge', 'max_iter': 1000, 'n_jobs': -1, 'penalty': 'none'}\n",
      "0.777 (+/-0.092) for {'alpha': 0.021544346900318846, 'eta0': 0.01, 'learning_rate': 'invscaling', 'loss': 'perceptron', 'max_iter': 1000, 'n_jobs': -1, 'penalty': 'l2'}\n",
      "0.680 (+/-0.215) for {'alpha': 0.021544346900318846, 'eta0': 0.01, 'learning_rate': 'invscaling', 'loss': 'perceptron', 'max_iter': 1000, 'n_jobs': -1, 'penalty': 'l1'}\n",
      "0.753 (+/-0.101) for {'alpha': 0.021544346900318846, 'eta0': 0.01, 'learning_rate': 'invscaling', 'loss': 'perceptron', 'max_iter': 1000, 'n_jobs': -1, 'penalty': 'elasticnet'}\n",
      "0.786 (+/-0.058) for {'alpha': 0.021544346900318846, 'eta0': 0.01, 'learning_rate': 'invscaling', 'loss': 'perceptron', 'max_iter': 1000, 'n_jobs': -1, 'penalty': 'none'}\n",
      "0.826 (+/-0.071) for {'alpha': 0.1291549665014884, 'eta0': 0.01, 'learning_rate': 'constant', 'loss': 'hinge', 'max_iter': 1000, 'n_jobs': -1, 'penalty': 'l2'}\n",
      "0.814 (+/-0.068) for {'alpha': 0.1291549665014884, 'eta0': 0.01, 'learning_rate': 'constant', 'loss': 'hinge', 'max_iter': 1000, 'n_jobs': -1, 'penalty': 'l1'}\n",
      "0.828 (+/-0.059) for {'alpha': 0.1291549665014884, 'eta0': 0.01, 'learning_rate': 'constant', 'loss': 'hinge', 'max_iter': 1000, 'n_jobs': -1, 'penalty': 'elasticnet'}\n",
      "0.836 (+/-0.063) for {'alpha': 0.1291549665014884, 'eta0': 0.01, 'learning_rate': 'constant', 'loss': 'hinge', 'max_iter': 1000, 'n_jobs': -1, 'penalty': 'none'}\n",
      "0.826 (+/-0.058) for {'alpha': 0.1291549665014884, 'eta0': 0.01, 'learning_rate': 'constant', 'loss': 'log', 'max_iter': 1000, 'n_jobs': -1, 'penalty': 'l2'}\n",
      "0.791 (+/-0.062) for {'alpha': 0.1291549665014884, 'eta0': 0.01, 'learning_rate': 'constant', 'loss': 'log', 'max_iter': 1000, 'n_jobs': -1, 'penalty': 'l1'}\n",
      "0.826 (+/-0.067) for {'alpha': 0.1291549665014884, 'eta0': 0.01, 'learning_rate': 'constant', 'loss': 'log', 'max_iter': 1000, 'n_jobs': -1, 'penalty': 'elasticnet'}\n",
      "0.834 (+/-0.061) for {'alpha': 0.1291549665014884, 'eta0': 0.01, 'learning_rate': 'constant', 'loss': 'log', 'max_iter': 1000, 'n_jobs': -1, 'penalty': 'none'}\n",
      "0.824 (+/-0.065) for {'alpha': 0.1291549665014884, 'eta0': 0.01, 'learning_rate': 'constant', 'loss': 'modified_huber', 'max_iter': 1000, 'n_jobs': -1, 'penalty': 'l2'}\n",
      "0.817 (+/-0.060) for {'alpha': 0.1291549665014884, 'eta0': 0.01, 'learning_rate': 'constant', 'loss': 'modified_huber', 'max_iter': 1000, 'n_jobs': -1, 'penalty': 'l1'}\n",
      "0.823 (+/-0.071) for {'alpha': 0.1291549665014884, 'eta0': 0.01, 'learning_rate': 'constant', 'loss': 'modified_huber', 'max_iter': 1000, 'n_jobs': -1, 'penalty': 'elasticnet'}\n",
      "0.826 (+/-0.053) for {'alpha': 0.1291549665014884, 'eta0': 0.01, 'learning_rate': 'constant', 'loss': 'modified_huber', 'max_iter': 1000, 'n_jobs': -1, 'penalty': 'none'}\n",
      "0.828 (+/-0.078) for {'alpha': 0.1291549665014884, 'eta0': 0.01, 'learning_rate': 'constant', 'loss': 'squared_hinge', 'max_iter': 1000, 'n_jobs': -1, 'penalty': 'l2'}\n",
      "0.812 (+/-0.052) for {'alpha': 0.1291549665014884, 'eta0': 0.01, 'learning_rate': 'constant', 'loss': 'squared_hinge', 'max_iter': 1000, 'n_jobs': -1, 'penalty': 'l1'}\n",
      "0.824 (+/-0.058) for {'alpha': 0.1291549665014884, 'eta0': 0.01, 'learning_rate': 'constant', 'loss': 'squared_hinge', 'max_iter': 1000, 'n_jobs': -1, 'penalty': 'elasticnet'}\n",
      "0.831 (+/-0.050) for {'alpha': 0.1291549665014884, 'eta0': 0.01, 'learning_rate': 'constant', 'loss': 'squared_hinge', 'max_iter': 1000, 'n_jobs': -1, 'penalty': 'none'}\n",
      "0.762 (+/-0.125) for {'alpha': 0.1291549665014884, 'eta0': 0.01, 'learning_rate': 'constant', 'loss': 'perceptron', 'max_iter': 1000, 'n_jobs': -1, 'penalty': 'l2'}\n",
      "0.636 (+/-0.222) for {'alpha': 0.1291549665014884, 'eta0': 0.01, 'learning_rate': 'constant', 'loss': 'perceptron', 'max_iter': 1000, 'n_jobs': -1, 'penalty': 'l1'}\n",
      "0.732 (+/-0.099) for {'alpha': 0.1291549665014884, 'eta0': 0.01, 'learning_rate': 'constant', 'loss': 'perceptron', 'max_iter': 1000, 'n_jobs': -1, 'penalty': 'elasticnet'}\n",
      "0.802 (+/-0.038) for {'alpha': 0.1291549665014884, 'eta0': 0.01, 'learning_rate': 'constant', 'loss': 'perceptron', 'max_iter': 1000, 'n_jobs': -1, 'penalty': 'none'}\n",
      "0.829 (+/-0.054) for {'alpha': 0.1291549665014884, 'eta0': 0.01, 'learning_rate': 'optimal', 'loss': 'hinge', 'max_iter': 1000, 'n_jobs': -1, 'penalty': 'l2'}\n",
      "0.812 (+/-0.055) for {'alpha': 0.1291549665014884, 'eta0': 0.01, 'learning_rate': 'optimal', 'loss': 'hinge', 'max_iter': 1000, 'n_jobs': -1, 'penalty': 'l1'}\n",
      "0.830 (+/-0.062) for {'alpha': 0.1291549665014884, 'eta0': 0.01, 'learning_rate': 'optimal', 'loss': 'hinge', 'max_iter': 1000, 'n_jobs': -1, 'penalty': 'elasticnet'}\n",
      "0.831 (+/-0.067) for {'alpha': 0.1291549665014884, 'eta0': 0.01, 'learning_rate': 'optimal', 'loss': 'hinge', 'max_iter': 1000, 'n_jobs': -1, 'penalty': 'none'}\n",
      "0.826 (+/-0.059) for {'alpha': 0.1291549665014884, 'eta0': 0.01, 'learning_rate': 'optimal', 'loss': 'log', 'max_iter': 1000, 'n_jobs': -1, 'penalty': 'l2'}\n",
      "0.783 (+/-0.062) for {'alpha': 0.1291549665014884, 'eta0': 0.01, 'learning_rate': 'optimal', 'loss': 'log', 'max_iter': 1000, 'n_jobs': -1, 'penalty': 'l1'}\n",
      "0.824 (+/-0.061) for {'alpha': 0.1291549665014884, 'eta0': 0.01, 'learning_rate': 'optimal', 'loss': 'log', 'max_iter': 1000, 'n_jobs': -1, 'penalty': 'elasticnet'}\n",
      "0.836 (+/-0.062) for {'alpha': 0.1291549665014884, 'eta0': 0.01, 'learning_rate': 'optimal', 'loss': 'log', 'max_iter': 1000, 'n_jobs': -1, 'penalty': 'none'}\n",
      "0.831 (+/-0.062) for {'alpha': 0.1291549665014884, 'eta0': 0.01, 'learning_rate': 'optimal', 'loss': 'modified_huber', 'max_iter': 1000, 'n_jobs': -1, 'penalty': 'l2'}\n",
      "0.829 (+/-0.056) for {'alpha': 0.1291549665014884, 'eta0': 0.01, 'learning_rate': 'optimal', 'loss': 'modified_huber', 'max_iter': 1000, 'n_jobs': -1, 'penalty': 'l1'}\n",
      "0.830 (+/-0.061) for {'alpha': 0.1291549665014884, 'eta0': 0.01, 'learning_rate': 'optimal', 'loss': 'modified_huber', 'max_iter': 1000, 'n_jobs': -1, 'penalty': 'elasticnet'}\n",
      "0.837 (+/-0.063) for {'alpha': 0.1291549665014884, 'eta0': 0.01, 'learning_rate': 'optimal', 'loss': 'modified_huber', 'max_iter': 1000, 'n_jobs': -1, 'penalty': 'none'}\n",
      "0.831 (+/-0.062) for {'alpha': 0.1291549665014884, 'eta0': 0.01, 'learning_rate': 'optimal', 'loss': 'squared_hinge', 'max_iter': 1000, 'n_jobs': -1, 'penalty': 'l2'}\n",
      "0.833 (+/-0.079) for {'alpha': 0.1291549665014884, 'eta0': 0.01, 'learning_rate': 'optimal', 'loss': 'squared_hinge', 'max_iter': 1000, 'n_jobs': -1, 'penalty': 'l1'}\n",
      "0.830 (+/-0.061) for {'alpha': 0.1291549665014884, 'eta0': 0.01, 'learning_rate': 'optimal', 'loss': 'squared_hinge', 'max_iter': 1000, 'n_jobs': -1, 'penalty': 'elasticnet'}\n",
      "0.843 (+/-0.065) for {'alpha': 0.1291549665014884, 'eta0': 0.01, 'learning_rate': 'optimal', 'loss': 'squared_hinge', 'max_iter': 1000, 'n_jobs': -1, 'penalty': 'none'}\n",
      "0.767 (+/-0.068) for {'alpha': 0.1291549665014884, 'eta0': 0.01, 'learning_rate': 'optimal', 'loss': 'perceptron', 'max_iter': 1000, 'n_jobs': -1, 'penalty': 'l2'}\n",
      "0.591 (+/-0.219) for {'alpha': 0.1291549665014884, 'eta0': 0.01, 'learning_rate': 'optimal', 'loss': 'perceptron', 'max_iter': 1000, 'n_jobs': -1, 'penalty': 'l1'}\n",
      "0.712 (+/-0.120) for {'alpha': 0.1291549665014884, 'eta0': 0.01, 'learning_rate': 'optimal', 'loss': 'perceptron', 'max_iter': 1000, 'n_jobs': -1, 'penalty': 'elasticnet'}\n",
      "0.793 (+/-0.072) for {'alpha': 0.1291549665014884, 'eta0': 0.01, 'learning_rate': 'optimal', 'loss': 'perceptron', 'max_iter': 1000, 'n_jobs': -1, 'penalty': 'none'}\n",
      "0.830 (+/-0.058) for {'alpha': 0.1291549665014884, 'eta0': 0.01, 'learning_rate': 'invscaling', 'loss': 'hinge', 'max_iter': 1000, 'n_jobs': -1, 'penalty': 'l2'}\n",
      "0.816 (+/-0.051) for {'alpha': 0.1291549665014884, 'eta0': 0.01, 'learning_rate': 'invscaling', 'loss': 'hinge', 'max_iter': 1000, 'n_jobs': -1, 'penalty': 'l1'}\n",
      "0.829 (+/-0.058) for {'alpha': 0.1291549665014884, 'eta0': 0.01, 'learning_rate': 'invscaling', 'loss': 'hinge', 'max_iter': 1000, 'n_jobs': -1, 'penalty': 'elasticnet'}\n",
      "0.833 (+/-0.063) for {'alpha': 0.1291549665014884, 'eta0': 0.01, 'learning_rate': 'invscaling', 'loss': 'hinge', 'max_iter': 1000, 'n_jobs': -1, 'penalty': 'none'}\n",
      "0.826 (+/-0.059) for {'alpha': 0.1291549665014884, 'eta0': 0.01, 'learning_rate': 'invscaling', 'loss': 'log', 'max_iter': 1000, 'n_jobs': -1, 'penalty': 'l2'}\n",
      "0.792 (+/-0.054) for {'alpha': 0.1291549665014884, 'eta0': 0.01, 'learning_rate': 'invscaling', 'loss': 'log', 'max_iter': 1000, 'n_jobs': -1, 'penalty': 'l1'}\n",
      "0.826 (+/-0.060) for {'alpha': 0.1291549665014884, 'eta0': 0.01, 'learning_rate': 'invscaling', 'loss': 'log', 'max_iter': 1000, 'n_jobs': -1, 'penalty': 'elasticnet'}\n",
      "0.831 (+/-0.053) for {'alpha': 0.1291549665014884, 'eta0': 0.01, 'learning_rate': 'invscaling', 'loss': 'log', 'max_iter': 1000, 'n_jobs': -1, 'penalty': 'none'}\n",
      "0.831 (+/-0.062) for {'alpha': 0.1291549665014884, 'eta0': 0.01, 'learning_rate': 'invscaling', 'loss': 'modified_huber', 'max_iter': 1000, 'n_jobs': -1, 'penalty': 'l2'}\n",
      "0.829 (+/-0.056) for {'alpha': 0.1291549665014884, 'eta0': 0.01, 'learning_rate': 'invscaling', 'loss': 'modified_huber', 'max_iter': 1000, 'n_jobs': -1, 'penalty': 'l1'}\n",
      "0.830 (+/-0.061) for {'alpha': 0.1291549665014884, 'eta0': 0.01, 'learning_rate': 'invscaling', 'loss': 'modified_huber', 'max_iter': 1000, 'n_jobs': -1, 'penalty': 'elasticnet'}\n",
      "0.836 (+/-0.063) for {'alpha': 0.1291549665014884, 'eta0': 0.01, 'learning_rate': 'invscaling', 'loss': 'modified_huber', 'max_iter': 1000, 'n_jobs': -1, 'penalty': 'none'}\n",
      "0.831 (+/-0.062) for {'alpha': 0.1291549665014884, 'eta0': 0.01, 'learning_rate': 'invscaling', 'loss': 'squared_hinge', 'max_iter': 1000, 'n_jobs': -1, 'penalty': 'l2'}\n",
      "0.829 (+/-0.056) for {'alpha': 0.1291549665014884, 'eta0': 0.01, 'learning_rate': 'invscaling', 'loss': 'squared_hinge', 'max_iter': 1000, 'n_jobs': -1, 'penalty': 'l1'}\n",
      "0.830 (+/-0.061) for {'alpha': 0.1291549665014884, 'eta0': 0.01, 'learning_rate': 'invscaling', 'loss': 'squared_hinge', 'max_iter': 1000, 'n_jobs': -1, 'penalty': 'elasticnet'}\n",
      "0.838 (+/-0.066) for {'alpha': 0.1291549665014884, 'eta0': 0.01, 'learning_rate': 'invscaling', 'loss': 'squared_hinge', 'max_iter': 1000, 'n_jobs': -1, 'penalty': 'none'}\n",
      "0.767 (+/-0.171) for {'alpha': 0.1291549665014884, 'eta0': 0.01, 'learning_rate': 'invscaling', 'loss': 'perceptron', 'max_iter': 1000, 'n_jobs': -1, 'penalty': 'l2'}\n",
      "0.624 (+/-0.208) for {'alpha': 0.1291549665014884, 'eta0': 0.01, 'learning_rate': 'invscaling', 'loss': 'perceptron', 'max_iter': 1000, 'n_jobs': -1, 'penalty': 'l1'}\n",
      "0.786 (+/-0.028) for {'alpha': 0.1291549665014884, 'eta0': 0.01, 'learning_rate': 'invscaling', 'loss': 'perceptron', 'max_iter': 1000, 'n_jobs': -1, 'penalty': 'elasticnet'}\n",
      "0.808 (+/-0.065) for {'alpha': 0.1291549665014884, 'eta0': 0.01, 'learning_rate': 'invscaling', 'loss': 'perceptron', 'max_iter': 1000, 'n_jobs': -1, 'penalty': 'none'}\n",
      "0.823 (+/-0.063) for {'alpha': 0.774263682681127, 'eta0': 0.01, 'learning_rate': 'constant', 'loss': 'hinge', 'max_iter': 1000, 'n_jobs': -1, 'penalty': 'l2'}\n",
      "0.506 (+/-0.000) for {'alpha': 0.774263682681127, 'eta0': 0.01, 'learning_rate': 'constant', 'loss': 'hinge', 'max_iter': 1000, 'n_jobs': -1, 'penalty': 'l1'}\n",
      "0.792 (+/-0.075) for {'alpha': 0.774263682681127, 'eta0': 0.01, 'learning_rate': 'constant', 'loss': 'hinge', 'max_iter': 1000, 'n_jobs': -1, 'penalty': 'elasticnet'}\n",
      "0.828 (+/-0.062) for {'alpha': 0.774263682681127, 'eta0': 0.01, 'learning_rate': 'constant', 'loss': 'hinge', 'max_iter': 1000, 'n_jobs': -1, 'penalty': 'none'}\n",
      "0.821 (+/-0.060) for {'alpha': 0.774263682681127, 'eta0': 0.01, 'learning_rate': 'constant', 'loss': 'log', 'max_iter': 1000, 'n_jobs': -1, 'penalty': 'l2'}\n",
      "0.506 (+/-0.000) for {'alpha': 0.774263682681127, 'eta0': 0.01, 'learning_rate': 'constant', 'loss': 'log', 'max_iter': 1000, 'n_jobs': -1, 'penalty': 'l1'}\n",
      "0.790 (+/-0.035) for {'alpha': 0.774263682681127, 'eta0': 0.01, 'learning_rate': 'constant', 'loss': 'log', 'max_iter': 1000, 'n_jobs': -1, 'penalty': 'elasticnet'}\n",
      "0.833 (+/-0.066) for {'alpha': 0.774263682681127, 'eta0': 0.01, 'learning_rate': 'constant', 'loss': 'log', 'max_iter': 1000, 'n_jobs': -1, 'penalty': 'none'}\n",
      "0.807 (+/-0.063) for {'alpha': 0.774263682681127, 'eta0': 0.01, 'learning_rate': 'constant', 'loss': 'modified_huber', 'max_iter': 1000, 'n_jobs': -1, 'penalty': 'l2'}\n",
      "0.619 (+/-0.169) for {'alpha': 0.774263682681127, 'eta0': 0.01, 'learning_rate': 'constant', 'loss': 'modified_huber', 'max_iter': 1000, 'n_jobs': -1, 'penalty': 'l1'}\n",
      "0.816 (+/-0.073) for {'alpha': 0.774263682681127, 'eta0': 0.01, 'learning_rate': 'constant', 'loss': 'modified_huber', 'max_iter': 1000, 'n_jobs': -1, 'penalty': 'elasticnet'}\n",
      "0.823 (+/-0.057) for {'alpha': 0.774263682681127, 'eta0': 0.01, 'learning_rate': 'constant', 'loss': 'modified_huber', 'max_iter': 1000, 'n_jobs': -1, 'penalty': 'none'}\n",
      "0.824 (+/-0.040) for {'alpha': 0.774263682681127, 'eta0': 0.01, 'learning_rate': 'constant', 'loss': 'squared_hinge', 'max_iter': 1000, 'n_jobs': -1, 'penalty': 'l2'}\n",
      "0.707 (+/-0.065) for {'alpha': 0.774263682681127, 'eta0': 0.01, 'learning_rate': 'constant', 'loss': 'squared_hinge', 'max_iter': 1000, 'n_jobs': -1, 'penalty': 'l1'}\n",
      "0.823 (+/-0.078) for {'alpha': 0.774263682681127, 'eta0': 0.01, 'learning_rate': 'constant', 'loss': 'squared_hinge', 'max_iter': 1000, 'n_jobs': -1, 'penalty': 'elasticnet'}\n",
      "0.823 (+/-0.071) for {'alpha': 0.774263682681127, 'eta0': 0.01, 'learning_rate': 'constant', 'loss': 'squared_hinge', 'max_iter': 1000, 'n_jobs': -1, 'penalty': 'none'}\n",
      "0.650 (+/-0.190) for {'alpha': 0.774263682681127, 'eta0': 0.01, 'learning_rate': 'constant', 'loss': 'perceptron', 'max_iter': 1000, 'n_jobs': -1, 'penalty': 'l2'}\n",
      "0.497 (+/-0.009) for {'alpha': 0.774263682681127, 'eta0': 0.01, 'learning_rate': 'constant', 'loss': 'perceptron', 'max_iter': 1000, 'n_jobs': -1, 'penalty': 'l1'}\n",
      "0.619 (+/-0.193) for {'alpha': 0.774263682681127, 'eta0': 0.01, 'learning_rate': 'constant', 'loss': 'perceptron', 'max_iter': 1000, 'n_jobs': -1, 'penalty': 'elasticnet'}\n",
      "0.730 (+/-0.061) for {'alpha': 0.774263682681127, 'eta0': 0.01, 'learning_rate': 'constant', 'loss': 'perceptron', 'max_iter': 1000, 'n_jobs': -1, 'penalty': 'none'}\n",
      "0.814 (+/-0.053) for {'alpha': 0.774263682681127, 'eta0': 0.01, 'learning_rate': 'optimal', 'loss': 'hinge', 'max_iter': 1000, 'n_jobs': -1, 'penalty': 'l2'}\n",
      "0.501 (+/-0.011) for {'alpha': 0.774263682681127, 'eta0': 0.01, 'learning_rate': 'optimal', 'loss': 'hinge', 'max_iter': 1000, 'n_jobs': -1, 'penalty': 'l1'}\n",
      "0.808 (+/-0.067) for {'alpha': 0.774263682681127, 'eta0': 0.01, 'learning_rate': 'optimal', 'loss': 'hinge', 'max_iter': 1000, 'n_jobs': -1, 'penalty': 'elasticnet'}\n",
      "0.832 (+/-0.060) for {'alpha': 0.774263682681127, 'eta0': 0.01, 'learning_rate': 'optimal', 'loss': 'hinge', 'max_iter': 1000, 'n_jobs': -1, 'penalty': 'none'}\n",
      "0.823 (+/-0.071) for {'alpha': 0.774263682681127, 'eta0': 0.01, 'learning_rate': 'optimal', 'loss': 'log', 'max_iter': 1000, 'n_jobs': -1, 'penalty': 'l2'}\n",
      "0.506 (+/-0.000) for {'alpha': 0.774263682681127, 'eta0': 0.01, 'learning_rate': 'optimal', 'loss': 'log', 'max_iter': 1000, 'n_jobs': -1, 'penalty': 'l1'}\n",
      "0.799 (+/-0.066) for {'alpha': 0.774263682681127, 'eta0': 0.01, 'learning_rate': 'optimal', 'loss': 'log', 'max_iter': 1000, 'n_jobs': -1, 'penalty': 'elasticnet'}\n",
      "0.830 (+/-0.061) for {'alpha': 0.774263682681127, 'eta0': 0.01, 'learning_rate': 'optimal', 'loss': 'log', 'max_iter': 1000, 'n_jobs': -1, 'penalty': 'none'}\n",
      "0.829 (+/-0.063) for {'alpha': 0.774263682681127, 'eta0': 0.01, 'learning_rate': 'optimal', 'loss': 'modified_huber', 'max_iter': 1000, 'n_jobs': -1, 'penalty': 'l2'}\n",
      "0.712 (+/-0.076) for {'alpha': 0.774263682681127, 'eta0': 0.01, 'learning_rate': 'optimal', 'loss': 'modified_huber', 'max_iter': 1000, 'n_jobs': -1, 'penalty': 'l1'}\n",
      "0.824 (+/-0.056) for {'alpha': 0.774263682681127, 'eta0': 0.01, 'learning_rate': 'optimal', 'loss': 'modified_huber', 'max_iter': 1000, 'n_jobs': -1, 'penalty': 'elasticnet'}\n",
      "0.840 (+/-0.048) for {'alpha': 0.774263682681127, 'eta0': 0.01, 'learning_rate': 'optimal', 'loss': 'modified_huber', 'max_iter': 1000, 'n_jobs': -1, 'penalty': 'none'}\n",
      "0.829 (+/-0.063) for {'alpha': 0.774263682681127, 'eta0': 0.01, 'learning_rate': 'optimal', 'loss': 'squared_hinge', 'max_iter': 1000, 'n_jobs': -1, 'penalty': 'l2'}\n",
      "0.726 (+/-0.038) for {'alpha': 0.774263682681127, 'eta0': 0.01, 'learning_rate': 'optimal', 'loss': 'squared_hinge', 'max_iter': 1000, 'n_jobs': -1, 'penalty': 'l1'}\n",
      "0.824 (+/-0.056) for {'alpha': 0.774263682681127, 'eta0': 0.01, 'learning_rate': 'optimal', 'loss': 'squared_hinge', 'max_iter': 1000, 'n_jobs': -1, 'penalty': 'elasticnet'}\n",
      "0.841 (+/-0.066) for {'alpha': 0.774263682681127, 'eta0': 0.01, 'learning_rate': 'optimal', 'loss': 'squared_hinge', 'max_iter': 1000, 'n_jobs': -1, 'penalty': 'none'}\n",
      "0.753 (+/-0.072) for {'alpha': 0.774263682681127, 'eta0': 0.01, 'learning_rate': 'optimal', 'loss': 'perceptron', 'max_iter': 1000, 'n_jobs': -1, 'penalty': 'l2'}\n",
      "0.503 (+/-0.009) for {'alpha': 0.774263682681127, 'eta0': 0.01, 'learning_rate': 'optimal', 'loss': 'perceptron', 'max_iter': 1000, 'n_jobs': -1, 'penalty': 'l1'}\n",
      "0.600 (+/-0.242) for {'alpha': 0.774263682681127, 'eta0': 0.01, 'learning_rate': 'optimal', 'loss': 'perceptron', 'max_iter': 1000, 'n_jobs': -1, 'penalty': 'elasticnet'}\n",
      "0.829 (+/-0.048) for {'alpha': 0.774263682681127, 'eta0': 0.01, 'learning_rate': 'optimal', 'loss': 'perceptron', 'max_iter': 1000, 'n_jobs': -1, 'penalty': 'none'}\n",
      "0.816 (+/-0.056) for {'alpha': 0.774263682681127, 'eta0': 0.01, 'learning_rate': 'invscaling', 'loss': 'hinge', 'max_iter': 1000, 'n_jobs': -1, 'penalty': 'l2'}\n",
      "0.506 (+/-0.000) for {'alpha': 0.774263682681127, 'eta0': 0.01, 'learning_rate': 'invscaling', 'loss': 'hinge', 'max_iter': 1000, 'n_jobs': -1, 'penalty': 'l1'}\n",
      "0.810 (+/-0.067) for {'alpha': 0.774263682681127, 'eta0': 0.01, 'learning_rate': 'invscaling', 'loss': 'hinge', 'max_iter': 1000, 'n_jobs': -1, 'penalty': 'elasticnet'}\n",
      "0.833 (+/-0.063) for {'alpha': 0.774263682681127, 'eta0': 0.01, 'learning_rate': 'invscaling', 'loss': 'hinge', 'max_iter': 1000, 'n_jobs': -1, 'penalty': 'none'}\n",
      "0.823 (+/-0.061) for {'alpha': 0.774263682681127, 'eta0': 0.01, 'learning_rate': 'invscaling', 'loss': 'log', 'max_iter': 1000, 'n_jobs': -1, 'penalty': 'l2'}\n",
      "0.506 (+/-0.000) for {'alpha': 0.774263682681127, 'eta0': 0.01, 'learning_rate': 'invscaling', 'loss': 'log', 'max_iter': 1000, 'n_jobs': -1, 'penalty': 'l1'}\n",
      "0.800 (+/-0.068) for {'alpha': 0.774263682681127, 'eta0': 0.01, 'learning_rate': 'invscaling', 'loss': 'log', 'max_iter': 1000, 'n_jobs': -1, 'penalty': 'elasticnet'}\n",
      "0.831 (+/-0.053) for {'alpha': 0.774263682681127, 'eta0': 0.01, 'learning_rate': 'invscaling', 'loss': 'log', 'max_iter': 1000, 'n_jobs': -1, 'penalty': 'none'}\n",
      "0.829 (+/-0.063) for {'alpha': 0.774263682681127, 'eta0': 0.01, 'learning_rate': 'invscaling', 'loss': 'modified_huber', 'max_iter': 1000, 'n_jobs': -1, 'penalty': 'l2'}\n",
      "0.726 (+/-0.038) for {'alpha': 0.774263682681127, 'eta0': 0.01, 'learning_rate': 'invscaling', 'loss': 'modified_huber', 'max_iter': 1000, 'n_jobs': -1, 'penalty': 'l1'}\n",
      "0.824 (+/-0.056) for {'alpha': 0.774263682681127, 'eta0': 0.01, 'learning_rate': 'invscaling', 'loss': 'modified_huber', 'max_iter': 1000, 'n_jobs': -1, 'penalty': 'elasticnet'}\n",
      "0.836 (+/-0.063) for {'alpha': 0.774263682681127, 'eta0': 0.01, 'learning_rate': 'invscaling', 'loss': 'modified_huber', 'max_iter': 1000, 'n_jobs': -1, 'penalty': 'none'}\n",
      "0.829 (+/-0.063) for {'alpha': 0.774263682681127, 'eta0': 0.01, 'learning_rate': 'invscaling', 'loss': 'squared_hinge', 'max_iter': 1000, 'n_jobs': -1, 'penalty': 'l2'}\n",
      "0.726 (+/-0.038) for {'alpha': 0.774263682681127, 'eta0': 0.01, 'learning_rate': 'invscaling', 'loss': 'squared_hinge', 'max_iter': 1000, 'n_jobs': -1, 'penalty': 'l1'}\n",
      "0.824 (+/-0.056) for {'alpha': 0.774263682681127, 'eta0': 0.01, 'learning_rate': 'invscaling', 'loss': 'squared_hinge', 'max_iter': 1000, 'n_jobs': -1, 'penalty': 'elasticnet'}\n",
      "0.838 (+/-0.066) for {'alpha': 0.774263682681127, 'eta0': 0.01, 'learning_rate': 'invscaling', 'loss': 'squared_hinge', 'max_iter': 1000, 'n_jobs': -1, 'penalty': 'none'}\n",
      "0.791 (+/-0.075) for {'alpha': 0.774263682681127, 'eta0': 0.01, 'learning_rate': 'invscaling', 'loss': 'perceptron', 'max_iter': 1000, 'n_jobs': -1, 'penalty': 'l2'}\n",
      "0.503 (+/-0.009) for {'alpha': 0.774263682681127, 'eta0': 0.01, 'learning_rate': 'invscaling', 'loss': 'perceptron', 'max_iter': 1000, 'n_jobs': -1, 'penalty': 'l1'}\n",
      "0.693 (+/-0.111) for {'alpha': 0.774263682681127, 'eta0': 0.01, 'learning_rate': 'invscaling', 'loss': 'perceptron', 'max_iter': 1000, 'n_jobs': -1, 'penalty': 'elasticnet'}\n",
      "0.778 (+/-0.064) for {'alpha': 0.774263682681127, 'eta0': 0.01, 'learning_rate': 'invscaling', 'loss': 'perceptron', 'max_iter': 1000, 'n_jobs': -1, 'penalty': 'none'}\n",
      "0.511 (+/-0.017) for {'alpha': 4.641588833612782, 'eta0': 0.01, 'learning_rate': 'constant', 'loss': 'hinge', 'max_iter': 1000, 'n_jobs': -1, 'penalty': 'l2'}\n",
      "0.506 (+/-0.000) for {'alpha': 4.641588833612782, 'eta0': 0.01, 'learning_rate': 'constant', 'loss': 'hinge', 'max_iter': 1000, 'n_jobs': -1, 'penalty': 'l1'}\n",
      "0.506 (+/-0.000) for {'alpha': 4.641588833612782, 'eta0': 0.01, 'learning_rate': 'constant', 'loss': 'hinge', 'max_iter': 1000, 'n_jobs': -1, 'penalty': 'elasticnet'}\n",
      "0.831 (+/-0.056) for {'alpha': 4.641588833612782, 'eta0': 0.01, 'learning_rate': 'constant', 'loss': 'hinge', 'max_iter': 1000, 'n_jobs': -1, 'penalty': 'none'}\n",
      "0.790 (+/-0.041) for {'alpha': 4.641588833612782, 'eta0': 0.01, 'learning_rate': 'constant', 'loss': 'log', 'max_iter': 1000, 'n_jobs': -1, 'penalty': 'l2'}\n",
      "0.506 (+/-0.000) for {'alpha': 4.641588833612782, 'eta0': 0.01, 'learning_rate': 'constant', 'loss': 'log', 'max_iter': 1000, 'n_jobs': -1, 'penalty': 'l1'}\n",
      "0.503 (+/-0.009) for {'alpha': 4.641588833612782, 'eta0': 0.01, 'learning_rate': 'constant', 'loss': 'log', 'max_iter': 1000, 'n_jobs': -1, 'penalty': 'elasticnet'}\n",
      "0.834 (+/-0.067) for {'alpha': 4.641588833612782, 'eta0': 0.01, 'learning_rate': 'constant', 'loss': 'log', 'max_iter': 1000, 'n_jobs': -1, 'penalty': 'none'}\n",
      "0.764 (+/-0.084) for {'alpha': 4.641588833612782, 'eta0': 0.01, 'learning_rate': 'constant', 'loss': 'modified_huber', 'max_iter': 1000, 'n_jobs': -1, 'penalty': 'l2'}\n",
      "0.501 (+/-0.011) for {'alpha': 4.641588833612782, 'eta0': 0.01, 'learning_rate': 'constant', 'loss': 'modified_huber', 'max_iter': 1000, 'n_jobs': -1, 'penalty': 'l1'}\n",
      "0.600 (+/-0.189) for {'alpha': 4.641588833612782, 'eta0': 0.01, 'learning_rate': 'constant', 'loss': 'modified_huber', 'max_iter': 1000, 'n_jobs': -1, 'penalty': 'elasticnet'}\n",
      "0.823 (+/-0.084) for {'alpha': 4.641588833612782, 'eta0': 0.01, 'learning_rate': 'constant', 'loss': 'modified_huber', 'max_iter': 1000, 'n_jobs': -1, 'penalty': 'none'}\n",
      "0.786 (+/-0.101) for {'alpha': 4.641588833612782, 'eta0': 0.01, 'learning_rate': 'constant', 'loss': 'squared_hinge', 'max_iter': 1000, 'n_jobs': -1, 'penalty': 'l2'}\n",
      "0.497 (+/-0.009) for {'alpha': 4.641588833612782, 'eta0': 0.01, 'learning_rate': 'constant', 'loss': 'squared_hinge', 'max_iter': 1000, 'n_jobs': -1, 'penalty': 'l1'}\n",
      "0.699 (+/-0.059) for {'alpha': 4.641588833612782, 'eta0': 0.01, 'learning_rate': 'constant', 'loss': 'squared_hinge', 'max_iter': 1000, 'n_jobs': -1, 'penalty': 'elasticnet'}\n",
      "0.829 (+/-0.062) for {'alpha': 4.641588833612782, 'eta0': 0.01, 'learning_rate': 'constant', 'loss': 'squared_hinge', 'max_iter': 1000, 'n_jobs': -1, 'penalty': 'none'}\n",
      "0.666 (+/-0.213) for {'alpha': 4.641588833612782, 'eta0': 0.01, 'learning_rate': 'constant', 'loss': 'perceptron', 'max_iter': 1000, 'n_jobs': -1, 'penalty': 'l2'}\n",
      "0.497 (+/-0.009) for {'alpha': 4.641588833612782, 'eta0': 0.01, 'learning_rate': 'constant', 'loss': 'perceptron', 'max_iter': 1000, 'n_jobs': -1, 'penalty': 'l1'}\n",
      "0.499 (+/-0.011) for {'alpha': 4.641588833612782, 'eta0': 0.01, 'learning_rate': 'constant', 'loss': 'perceptron', 'max_iter': 1000, 'n_jobs': -1, 'penalty': 'elasticnet'}\n",
      "0.730 (+/-0.108) for {'alpha': 4.641588833612782, 'eta0': 0.01, 'learning_rate': 'constant', 'loss': 'perceptron', 'max_iter': 1000, 'n_jobs': -1, 'penalty': 'none'}\n",
      "0.511 (+/-0.012) for {'alpha': 4.641588833612782, 'eta0': 0.01, 'learning_rate': 'optimal', 'loss': 'hinge', 'max_iter': 1000, 'n_jobs': -1, 'penalty': 'l2'}\n",
      "0.499 (+/-0.011) for {'alpha': 4.641588833612782, 'eta0': 0.01, 'learning_rate': 'optimal', 'loss': 'hinge', 'max_iter': 1000, 'n_jobs': -1, 'penalty': 'l1'}\n",
      "0.506 (+/-0.000) for {'alpha': 4.641588833612782, 'eta0': 0.01, 'learning_rate': 'optimal', 'loss': 'hinge', 'max_iter': 1000, 'n_jobs': -1, 'penalty': 'elasticnet'}\n",
      "0.813 (+/-0.067) for {'alpha': 4.641588833612782, 'eta0': 0.01, 'learning_rate': 'optimal', 'loss': 'hinge', 'max_iter': 1000, 'n_jobs': -1, 'penalty': 'none'}\n",
      "0.599 (+/-0.128) for {'alpha': 4.641588833612782, 'eta0': 0.01, 'learning_rate': 'optimal', 'loss': 'log', 'max_iter': 1000, 'n_jobs': -1, 'penalty': 'l2'}\n",
      "0.499 (+/-0.011) for {'alpha': 4.641588833612782, 'eta0': 0.01, 'learning_rate': 'optimal', 'loss': 'log', 'max_iter': 1000, 'n_jobs': -1, 'penalty': 'l1'}\n",
      "0.503 (+/-0.009) for {'alpha': 4.641588833612782, 'eta0': 0.01, 'learning_rate': 'optimal', 'loss': 'log', 'max_iter': 1000, 'n_jobs': -1, 'penalty': 'elasticnet'}\n",
      "0.802 (+/-0.079) for {'alpha': 4.641588833612782, 'eta0': 0.01, 'learning_rate': 'optimal', 'loss': 'log', 'max_iter': 1000, 'n_jobs': -1, 'penalty': 'none'}\n",
      "0.824 (+/-0.061) for {'alpha': 4.641588833612782, 'eta0': 0.01, 'learning_rate': 'optimal', 'loss': 'modified_huber', 'max_iter': 1000, 'n_jobs': -1, 'penalty': 'l2'}\n",
      "0.506 (+/-0.000) for {'alpha': 4.641588833612782, 'eta0': 0.01, 'learning_rate': 'optimal', 'loss': 'modified_huber', 'max_iter': 1000, 'n_jobs': -1, 'penalty': 'l1'}\n",
      "0.683 (+/-0.179) for {'alpha': 4.641588833612782, 'eta0': 0.01, 'learning_rate': 'optimal', 'loss': 'modified_huber', 'max_iter': 1000, 'n_jobs': -1, 'penalty': 'elasticnet'}\n",
      "0.819 (+/-0.068) for {'alpha': 4.641588833612782, 'eta0': 0.01, 'learning_rate': 'optimal', 'loss': 'modified_huber', 'max_iter': 1000, 'n_jobs': -1, 'penalty': 'none'}\n",
      "0.823 (+/-0.057) for {'alpha': 4.641588833612782, 'eta0': 0.01, 'learning_rate': 'optimal', 'loss': 'squared_hinge', 'max_iter': 1000, 'n_jobs': -1, 'penalty': 'l2'}\n",
      "0.506 (+/-0.000) for {'alpha': 4.641588833612782, 'eta0': 0.01, 'learning_rate': 'optimal', 'loss': 'squared_hinge', 'max_iter': 1000, 'n_jobs': -1, 'penalty': 'l1'}\n",
      "0.696 (+/-0.195) for {'alpha': 4.641588833612782, 'eta0': 0.01, 'learning_rate': 'optimal', 'loss': 'squared_hinge', 'max_iter': 1000, 'n_jobs': -1, 'penalty': 'elasticnet'}\n",
      "0.824 (+/-0.068) for {'alpha': 4.641588833612782, 'eta0': 0.01, 'learning_rate': 'optimal', 'loss': 'squared_hinge', 'max_iter': 1000, 'n_jobs': -1, 'penalty': 'none'}\n",
      "0.800 (+/-0.065) for {'alpha': 4.641588833612782, 'eta0': 0.01, 'learning_rate': 'optimal', 'loss': 'perceptron', 'max_iter': 1000, 'n_jobs': -1, 'penalty': 'l2'}\n",
      "0.499 (+/-0.011) for {'alpha': 4.641588833612782, 'eta0': 0.01, 'learning_rate': 'optimal', 'loss': 'perceptron', 'max_iter': 1000, 'n_jobs': -1, 'penalty': 'l1'}\n",
      "0.499 (+/-0.011) for {'alpha': 4.641588833612782, 'eta0': 0.01, 'learning_rate': 'optimal', 'loss': 'perceptron', 'max_iter': 1000, 'n_jobs': -1, 'penalty': 'elasticnet'}\n",
      "0.811 (+/-0.095) for {'alpha': 4.641588833612782, 'eta0': 0.01, 'learning_rate': 'optimal', 'loss': 'perceptron', 'max_iter': 1000, 'n_jobs': -1, 'penalty': 'none'}\n",
      "0.647 (+/-0.049) for {'alpha': 4.641588833612782, 'eta0': 0.01, 'learning_rate': 'invscaling', 'loss': 'hinge', 'max_iter': 1000, 'n_jobs': -1, 'penalty': 'l2'}\n",
      "0.506 (+/-0.000) for {'alpha': 4.641588833612782, 'eta0': 0.01, 'learning_rate': 'invscaling', 'loss': 'hinge', 'max_iter': 1000, 'n_jobs': -1, 'penalty': 'l1'}\n",
      "0.506 (+/-0.000) for {'alpha': 4.641588833612782, 'eta0': 0.01, 'learning_rate': 'invscaling', 'loss': 'hinge', 'max_iter': 1000, 'n_jobs': -1, 'penalty': 'elasticnet'}\n",
      "0.833 (+/-0.063) for {'alpha': 4.641588833612782, 'eta0': 0.01, 'learning_rate': 'invscaling', 'loss': 'hinge', 'max_iter': 1000, 'n_jobs': -1, 'penalty': 'none'}\n",
      "0.813 (+/-0.054) for {'alpha': 4.641588833612782, 'eta0': 0.01, 'learning_rate': 'invscaling', 'loss': 'log', 'max_iter': 1000, 'n_jobs': -1, 'penalty': 'l2'}\n",
      "0.506 (+/-0.000) for {'alpha': 4.641588833612782, 'eta0': 0.01, 'learning_rate': 'invscaling', 'loss': 'log', 'max_iter': 1000, 'n_jobs': -1, 'penalty': 'l1'}\n",
      "0.506 (+/-0.000) for {'alpha': 4.641588833612782, 'eta0': 0.01, 'learning_rate': 'invscaling', 'loss': 'log', 'max_iter': 1000, 'n_jobs': -1, 'penalty': 'elasticnet'}\n",
      "0.831 (+/-0.053) for {'alpha': 4.641588833612782, 'eta0': 0.01, 'learning_rate': 'invscaling', 'loss': 'log', 'max_iter': 1000, 'n_jobs': -1, 'penalty': 'none'}\n",
      "0.824 (+/-0.058) for {'alpha': 4.641588833612782, 'eta0': 0.01, 'learning_rate': 'invscaling', 'loss': 'modified_huber', 'max_iter': 1000, 'n_jobs': -1, 'penalty': 'l2'}\n",
      "0.506 (+/-0.000) for {'alpha': 4.641588833612782, 'eta0': 0.01, 'learning_rate': 'invscaling', 'loss': 'modified_huber', 'max_iter': 1000, 'n_jobs': -1, 'penalty': 'l1'}\n",
      "0.754 (+/-0.041) for {'alpha': 4.641588833612782, 'eta0': 0.01, 'learning_rate': 'invscaling', 'loss': 'modified_huber', 'max_iter': 1000, 'n_jobs': -1, 'penalty': 'elasticnet'}\n",
      "0.836 (+/-0.063) for {'alpha': 4.641588833612782, 'eta0': 0.01, 'learning_rate': 'invscaling', 'loss': 'modified_huber', 'max_iter': 1000, 'n_jobs': -1, 'penalty': 'none'}\n",
      "0.824 (+/-0.058) for {'alpha': 4.641588833612782, 'eta0': 0.01, 'learning_rate': 'invscaling', 'loss': 'squared_hinge', 'max_iter': 1000, 'n_jobs': -1, 'penalty': 'l2'}\n",
      "0.506 (+/-0.000) for {'alpha': 4.641588833612782, 'eta0': 0.01, 'learning_rate': 'invscaling', 'loss': 'squared_hinge', 'max_iter': 1000, 'n_jobs': -1, 'penalty': 'l1'}\n",
      "0.754 (+/-0.041) for {'alpha': 4.641588833612782, 'eta0': 0.01, 'learning_rate': 'invscaling', 'loss': 'squared_hinge', 'max_iter': 1000, 'n_jobs': -1, 'penalty': 'elasticnet'}\n",
      "0.838 (+/-0.066) for {'alpha': 4.641588833612782, 'eta0': 0.01, 'learning_rate': 'invscaling', 'loss': 'squared_hinge', 'max_iter': 1000, 'n_jobs': -1, 'penalty': 'none'}\n",
      "0.747 (+/-0.218) for {'alpha': 4.641588833612782, 'eta0': 0.01, 'learning_rate': 'invscaling', 'loss': 'perceptron', 'max_iter': 1000, 'n_jobs': -1, 'penalty': 'l2'}\n",
      "0.501 (+/-0.011) for {'alpha': 4.641588833612782, 'eta0': 0.01, 'learning_rate': 'invscaling', 'loss': 'perceptron', 'max_iter': 1000, 'n_jobs': -1, 'penalty': 'l1'}\n",
      "0.499 (+/-0.011) for {'alpha': 4.641588833612782, 'eta0': 0.01, 'learning_rate': 'invscaling', 'loss': 'perceptron', 'max_iter': 1000, 'n_jobs': -1, 'penalty': 'elasticnet'}\n",
      "0.759 (+/-0.080) for {'alpha': 4.641588833612782, 'eta0': 0.01, 'learning_rate': 'invscaling', 'loss': 'perceptron', 'max_iter': 1000, 'n_jobs': -1, 'penalty': 'none'}\n",
      "0.506 (+/-0.000) for {'alpha': 27.825594022071257, 'eta0': 0.01, 'learning_rate': 'constant', 'loss': 'hinge', 'max_iter': 1000, 'n_jobs': -1, 'penalty': 'l2'}\n",
      "0.506 (+/-0.000) for {'alpha': 27.825594022071257, 'eta0': 0.01, 'learning_rate': 'constant', 'loss': 'hinge', 'max_iter': 1000, 'n_jobs': -1, 'penalty': 'l1'}\n",
      "0.506 (+/-0.000) for {'alpha': 27.825594022071257, 'eta0': 0.01, 'learning_rate': 'constant', 'loss': 'hinge', 'max_iter': 1000, 'n_jobs': -1, 'penalty': 'elasticnet'}\n",
      "0.831 (+/-0.065) for {'alpha': 27.825594022071257, 'eta0': 0.01, 'learning_rate': 'constant', 'loss': 'hinge', 'max_iter': 1000, 'n_jobs': -1, 'penalty': 'none'}\n",
      "0.610 (+/-0.186) for {'alpha': 27.825594022071257, 'eta0': 0.01, 'learning_rate': 'constant', 'loss': 'log', 'max_iter': 1000, 'n_jobs': -1, 'penalty': 'l2'}\n",
      "0.503 (+/-0.009) for {'alpha': 27.825594022071257, 'eta0': 0.01, 'learning_rate': 'constant', 'loss': 'log', 'max_iter': 1000, 'n_jobs': -1, 'penalty': 'l1'}\n",
      "0.506 (+/-0.000) for {'alpha': 27.825594022071257, 'eta0': 0.01, 'learning_rate': 'constant', 'loss': 'log', 'max_iter': 1000, 'n_jobs': -1, 'penalty': 'elasticnet'}\n",
      "0.831 (+/-0.064) for {'alpha': 27.825594022071257, 'eta0': 0.01, 'learning_rate': 'constant', 'loss': 'log', 'max_iter': 1000, 'n_jobs': -1, 'penalty': 'none'}\n",
      "0.644 (+/-0.199) for {'alpha': 27.825594022071257, 'eta0': 0.01, 'learning_rate': 'constant', 'loss': 'modified_huber', 'max_iter': 1000, 'n_jobs': -1, 'penalty': 'l2'}\n",
      "0.497 (+/-0.009) for {'alpha': 27.825594022071257, 'eta0': 0.01, 'learning_rate': 'constant', 'loss': 'modified_huber', 'max_iter': 1000, 'n_jobs': -1, 'penalty': 'l1'}\n",
      "0.497 (+/-0.009) for {'alpha': 27.825594022071257, 'eta0': 0.01, 'learning_rate': 'constant', 'loss': 'modified_huber', 'max_iter': 1000, 'n_jobs': -1, 'penalty': 'elasticnet'}\n",
      "0.813 (+/-0.059) for {'alpha': 27.825594022071257, 'eta0': 0.01, 'learning_rate': 'constant', 'loss': 'modified_huber', 'max_iter': 1000, 'n_jobs': -1, 'penalty': 'none'}\n",
      "0.642 (+/-0.187) for {'alpha': 27.825594022071257, 'eta0': 0.01, 'learning_rate': 'constant', 'loss': 'squared_hinge', 'max_iter': 1000, 'n_jobs': -1, 'penalty': 'l2'}\n",
      "0.501 (+/-0.011) for {'alpha': 27.825594022071257, 'eta0': 0.01, 'learning_rate': 'constant', 'loss': 'squared_hinge', 'max_iter': 1000, 'n_jobs': -1, 'penalty': 'l1'}\n",
      "0.501 (+/-0.011) for {'alpha': 27.825594022071257, 'eta0': 0.01, 'learning_rate': 'constant', 'loss': 'squared_hinge', 'max_iter': 1000, 'n_jobs': -1, 'penalty': 'elasticnet'}\n",
      "0.821 (+/-0.065) for {'alpha': 27.825594022071257, 'eta0': 0.01, 'learning_rate': 'constant', 'loss': 'squared_hinge', 'max_iter': 1000, 'n_jobs': -1, 'penalty': 'none'}\n",
      "0.589 (+/-0.315) for {'alpha': 27.825594022071257, 'eta0': 0.01, 'learning_rate': 'constant', 'loss': 'perceptron', 'max_iter': 1000, 'n_jobs': -1, 'penalty': 'l2'}\n",
      "0.501 (+/-0.011) for {'alpha': 27.825594022071257, 'eta0': 0.01, 'learning_rate': 'constant', 'loss': 'perceptron', 'max_iter': 1000, 'n_jobs': -1, 'penalty': 'l1'}\n",
      "0.497 (+/-0.009) for {'alpha': 27.825594022071257, 'eta0': 0.01, 'learning_rate': 'constant', 'loss': 'perceptron', 'max_iter': 1000, 'n_jobs': -1, 'penalty': 'elasticnet'}\n",
      "0.759 (+/-0.088) for {'alpha': 27.825594022071257, 'eta0': 0.01, 'learning_rate': 'constant', 'loss': 'perceptron', 'max_iter': 1000, 'n_jobs': -1, 'penalty': 'none'}\n",
      "0.497 (+/-0.009) for {'alpha': 27.825594022071257, 'eta0': 0.01, 'learning_rate': 'optimal', 'loss': 'hinge', 'max_iter': 1000, 'n_jobs': -1, 'penalty': 'l2'}\n",
      "0.501 (+/-0.011) for {'alpha': 27.825594022071257, 'eta0': 0.01, 'learning_rate': 'optimal', 'loss': 'hinge', 'max_iter': 1000, 'n_jobs': -1, 'penalty': 'l1'}\n",
      "0.497 (+/-0.009) for {'alpha': 27.825594022071257, 'eta0': 0.01, 'learning_rate': 'optimal', 'loss': 'hinge', 'max_iter': 1000, 'n_jobs': -1, 'penalty': 'elasticnet'}\n",
      "0.616 (+/-0.196) for {'alpha': 27.825594022071257, 'eta0': 0.01, 'learning_rate': 'optimal', 'loss': 'hinge', 'max_iter': 1000, 'n_jobs': -1, 'penalty': 'none'}\n",
      "0.501 (+/-0.011) for {'alpha': 27.825594022071257, 'eta0': 0.01, 'learning_rate': 'optimal', 'loss': 'log', 'max_iter': 1000, 'n_jobs': -1, 'penalty': 'l2'}\n",
      "0.503 (+/-0.009) for {'alpha': 27.825594022071257, 'eta0': 0.01, 'learning_rate': 'optimal', 'loss': 'log', 'max_iter': 1000, 'n_jobs': -1, 'penalty': 'l1'}\n",
      "0.501 (+/-0.011) for {'alpha': 27.825594022071257, 'eta0': 0.01, 'learning_rate': 'optimal', 'loss': 'log', 'max_iter': 1000, 'n_jobs': -1, 'penalty': 'elasticnet'}\n",
      "0.736 (+/-0.147) for {'alpha': 27.825594022071257, 'eta0': 0.01, 'learning_rate': 'optimal', 'loss': 'log', 'max_iter': 1000, 'n_jobs': -1, 'penalty': 'none'}\n",
      "0.499 (+/-0.011) for {'alpha': 27.825594022071257, 'eta0': 0.01, 'learning_rate': 'optimal', 'loss': 'modified_huber', 'max_iter': 1000, 'n_jobs': -1, 'penalty': 'l2'}\n",
      "0.501 (+/-0.011) for {'alpha': 27.825594022071257, 'eta0': 0.01, 'learning_rate': 'optimal', 'loss': 'modified_huber', 'max_iter': 1000, 'n_jobs': -1, 'penalty': 'l1'}\n",
      "0.499 (+/-0.011) for {'alpha': 27.825594022071257, 'eta0': 0.01, 'learning_rate': 'optimal', 'loss': 'modified_huber', 'max_iter': 1000, 'n_jobs': -1, 'penalty': 'elasticnet'}\n",
      "0.696 (+/-0.173) for {'alpha': 27.825594022071257, 'eta0': 0.01, 'learning_rate': 'optimal', 'loss': 'modified_huber', 'max_iter': 1000, 'n_jobs': -1, 'penalty': 'none'}\n",
      "0.502 (+/-0.013) for {'alpha': 27.825594022071257, 'eta0': 0.01, 'learning_rate': 'optimal', 'loss': 'squared_hinge', 'max_iter': 1000, 'n_jobs': -1, 'penalty': 'l2'}\n",
      "0.501 (+/-0.011) for {'alpha': 27.825594022071257, 'eta0': 0.01, 'learning_rate': 'optimal', 'loss': 'squared_hinge', 'max_iter': 1000, 'n_jobs': -1, 'penalty': 'l1'}\n",
      "0.501 (+/-0.011) for {'alpha': 27.825594022071257, 'eta0': 0.01, 'learning_rate': 'optimal', 'loss': 'squared_hinge', 'max_iter': 1000, 'n_jobs': -1, 'penalty': 'elasticnet'}\n",
      "0.747 (+/-0.075) for {'alpha': 27.825594022071257, 'eta0': 0.01, 'learning_rate': 'optimal', 'loss': 'squared_hinge', 'max_iter': 1000, 'n_jobs': -1, 'penalty': 'none'}\n",
      "0.501 (+/-0.011) for {'alpha': 27.825594022071257, 'eta0': 0.01, 'learning_rate': 'optimal', 'loss': 'perceptron', 'max_iter': 1000, 'n_jobs': -1, 'penalty': 'l2'}\n",
      "0.499 (+/-0.011) for {'alpha': 27.825594022071257, 'eta0': 0.01, 'learning_rate': 'optimal', 'loss': 'perceptron', 'max_iter': 1000, 'n_jobs': -1, 'penalty': 'l1'}\n",
      "0.501 (+/-0.011) for {'alpha': 27.825594022071257, 'eta0': 0.01, 'learning_rate': 'optimal', 'loss': 'perceptron', 'max_iter': 1000, 'n_jobs': -1, 'penalty': 'elasticnet'}\n",
      "0.734 (+/-0.086) for {'alpha': 27.825594022071257, 'eta0': 0.01, 'learning_rate': 'optimal', 'loss': 'perceptron', 'max_iter': 1000, 'n_jobs': -1, 'penalty': 'none'}\n",
      "0.507 (+/-0.004) for {'alpha': 27.825594022071257, 'eta0': 0.01, 'learning_rate': 'invscaling', 'loss': 'hinge', 'max_iter': 1000, 'n_jobs': -1, 'penalty': 'l2'}\n",
      "0.506 (+/-0.000) for {'alpha': 27.825594022071257, 'eta0': 0.01, 'learning_rate': 'invscaling', 'loss': 'hinge', 'max_iter': 1000, 'n_jobs': -1, 'penalty': 'l1'}\n",
      "0.506 (+/-0.000) for {'alpha': 27.825594022071257, 'eta0': 0.01, 'learning_rate': 'invscaling', 'loss': 'hinge', 'max_iter': 1000, 'n_jobs': -1, 'penalty': 'elasticnet'}\n",
      "0.833 (+/-0.063) for {'alpha': 27.825594022071257, 'eta0': 0.01, 'learning_rate': 'invscaling', 'loss': 'hinge', 'max_iter': 1000, 'n_jobs': -1, 'penalty': 'none'}\n",
      "0.610 (+/-0.022) for {'alpha': 27.825594022071257, 'eta0': 0.01, 'learning_rate': 'invscaling', 'loss': 'log', 'max_iter': 1000, 'n_jobs': -1, 'penalty': 'l2'}\n",
      "0.506 (+/-0.000) for {'alpha': 27.825594022071257, 'eta0': 0.01, 'learning_rate': 'invscaling', 'loss': 'log', 'max_iter': 1000, 'n_jobs': -1, 'penalty': 'l1'}\n",
      "0.506 (+/-0.000) for {'alpha': 27.825594022071257, 'eta0': 0.01, 'learning_rate': 'invscaling', 'loss': 'log', 'max_iter': 1000, 'n_jobs': -1, 'penalty': 'elasticnet'}\n",
      "0.831 (+/-0.053) for {'alpha': 27.825594022071257, 'eta0': 0.01, 'learning_rate': 'invscaling', 'loss': 'log', 'max_iter': 1000, 'n_jobs': -1, 'penalty': 'none'}\n",
      "0.812 (+/-0.056) for {'alpha': 27.825594022071257, 'eta0': 0.01, 'learning_rate': 'invscaling', 'loss': 'modified_huber', 'max_iter': 1000, 'n_jobs': -1, 'penalty': 'l2'}\n",
      "0.506 (+/-0.000) for {'alpha': 27.825594022071257, 'eta0': 0.01, 'learning_rate': 'invscaling', 'loss': 'modified_huber', 'max_iter': 1000, 'n_jobs': -1, 'penalty': 'l1'}\n",
      "0.506 (+/-0.000) for {'alpha': 27.825594022071257, 'eta0': 0.01, 'learning_rate': 'invscaling', 'loss': 'modified_huber', 'max_iter': 1000, 'n_jobs': -1, 'penalty': 'elasticnet'}\n",
      "0.836 (+/-0.063) for {'alpha': 27.825594022071257, 'eta0': 0.01, 'learning_rate': 'invscaling', 'loss': 'modified_huber', 'max_iter': 1000, 'n_jobs': -1, 'penalty': 'none'}\n",
      "0.812 (+/-0.056) for {'alpha': 27.825594022071257, 'eta0': 0.01, 'learning_rate': 'invscaling', 'loss': 'squared_hinge', 'max_iter': 1000, 'n_jobs': -1, 'penalty': 'l2'}\n",
      "0.506 (+/-0.000) for {'alpha': 27.825594022071257, 'eta0': 0.01, 'learning_rate': 'invscaling', 'loss': 'squared_hinge', 'max_iter': 1000, 'n_jobs': -1, 'penalty': 'l1'}\n",
      "0.506 (+/-0.000) for {'alpha': 27.825594022071257, 'eta0': 0.01, 'learning_rate': 'invscaling', 'loss': 'squared_hinge', 'max_iter': 1000, 'n_jobs': -1, 'penalty': 'elasticnet'}\n",
      "0.838 (+/-0.066) for {'alpha': 27.825594022071257, 'eta0': 0.01, 'learning_rate': 'invscaling', 'loss': 'squared_hinge', 'max_iter': 1000, 'n_jobs': -1, 'penalty': 'none'}\n",
      "0.766 (+/-0.064) for {'alpha': 27.825594022071257, 'eta0': 0.01, 'learning_rate': 'invscaling', 'loss': 'perceptron', 'max_iter': 1000, 'n_jobs': -1, 'penalty': 'l2'}\n",
      "0.501 (+/-0.011) for {'alpha': 27.825594022071257, 'eta0': 0.01, 'learning_rate': 'invscaling', 'loss': 'perceptron', 'max_iter': 1000, 'n_jobs': -1, 'penalty': 'l1'}\n",
      "0.497 (+/-0.009) for {'alpha': 27.825594022071257, 'eta0': 0.01, 'learning_rate': 'invscaling', 'loss': 'perceptron', 'max_iter': 1000, 'n_jobs': -1, 'penalty': 'elasticnet'}\n",
      "0.751 (+/-0.101) for {'alpha': 27.825594022071257, 'eta0': 0.01, 'learning_rate': 'invscaling', 'loss': 'perceptron', 'max_iter': 1000, 'n_jobs': -1, 'penalty': 'none'}\n",
      "0.506 (+/-0.000) for {'alpha': 166.81005372000593, 'eta0': 0.01, 'learning_rate': 'constant', 'loss': 'hinge', 'max_iter': 1000, 'n_jobs': -1, 'penalty': 'l2'}\n",
      "0.506 (+/-0.000) for {'alpha': 166.81005372000593, 'eta0': 0.01, 'learning_rate': 'constant', 'loss': 'hinge', 'max_iter': 1000, 'n_jobs': -1, 'penalty': 'l1'}\n",
      "0.506 (+/-0.000) for {'alpha': 166.81005372000593, 'eta0': 0.01, 'learning_rate': 'constant', 'loss': 'hinge', 'max_iter': 1000, 'n_jobs': -1, 'penalty': 'elasticnet'}\n",
      "0.830 (+/-0.057) for {'alpha': 166.81005372000593, 'eta0': 0.01, 'learning_rate': 'constant', 'loss': 'hinge', 'max_iter': 1000, 'n_jobs': -1, 'penalty': 'none'}\n",
      "0.517 (+/-0.016) for {'alpha': 166.81005372000593, 'eta0': 0.01, 'learning_rate': 'constant', 'loss': 'log', 'max_iter': 1000, 'n_jobs': -1, 'penalty': 'l2'}\n",
      "0.501 (+/-0.011) for {'alpha': 166.81005372000593, 'eta0': 0.01, 'learning_rate': 'constant', 'loss': 'log', 'max_iter': 1000, 'n_jobs': -1, 'penalty': 'l1'}\n",
      "0.501 (+/-0.011) for {'alpha': 166.81005372000593, 'eta0': 0.01, 'learning_rate': 'constant', 'loss': 'log', 'max_iter': 1000, 'n_jobs': -1, 'penalty': 'elasticnet'}\n",
      "0.836 (+/-0.066) for {'alpha': 166.81005372000593, 'eta0': 0.01, 'learning_rate': 'constant', 'loss': 'log', 'max_iter': 1000, 'n_jobs': -1, 'penalty': 'none'}\n",
      "0.556 (+/-0.247) for {'alpha': 166.81005372000593, 'eta0': 0.01, 'learning_rate': 'constant', 'loss': 'modified_huber', 'max_iter': 1000, 'n_jobs': -1, 'penalty': 'l2'}\n",
      "0.501 (+/-0.011) for {'alpha': 166.81005372000593, 'eta0': 0.01, 'learning_rate': 'constant', 'loss': 'modified_huber', 'max_iter': 1000, 'n_jobs': -1, 'penalty': 'l1'}\n",
      "0.497 (+/-0.009) for {'alpha': 166.81005372000593, 'eta0': 0.01, 'learning_rate': 'constant', 'loss': 'modified_huber', 'max_iter': 1000, 'n_jobs': -1, 'penalty': 'elasticnet'}\n",
      "0.823 (+/-0.046) for {'alpha': 166.81005372000593, 'eta0': 0.01, 'learning_rate': 'constant', 'loss': 'modified_huber', 'max_iter': 1000, 'n_jobs': -1, 'penalty': 'none'}\n",
      "0.576 (+/-0.170) for {'alpha': 166.81005372000593, 'eta0': 0.01, 'learning_rate': 'constant', 'loss': 'squared_hinge', 'max_iter': 1000, 'n_jobs': -1, 'penalty': 'l2'}\n",
      "0.503 (+/-0.009) for {'alpha': 166.81005372000593, 'eta0': 0.01, 'learning_rate': 'constant', 'loss': 'squared_hinge', 'max_iter': 1000, 'n_jobs': -1, 'penalty': 'l1'}\n",
      "0.501 (+/-0.011) for {'alpha': 166.81005372000593, 'eta0': 0.01, 'learning_rate': 'constant', 'loss': 'squared_hinge', 'max_iter': 1000, 'n_jobs': -1, 'penalty': 'elasticnet'}\n",
      "0.826 (+/-0.062) for {'alpha': 166.81005372000593, 'eta0': 0.01, 'learning_rate': 'constant', 'loss': 'squared_hinge', 'max_iter': 1000, 'n_jobs': -1, 'penalty': 'none'}\n",
      "0.547 (+/-0.326) for {'alpha': 166.81005372000593, 'eta0': 0.01, 'learning_rate': 'constant', 'loss': 'perceptron', 'max_iter': 1000, 'n_jobs': -1, 'penalty': 'l2'}\n",
      "0.497 (+/-0.009) for {'alpha': 166.81005372000593, 'eta0': 0.01, 'learning_rate': 'constant', 'loss': 'perceptron', 'max_iter': 1000, 'n_jobs': -1, 'penalty': 'l1'}\n",
      "0.497 (+/-0.009) for {'alpha': 166.81005372000593, 'eta0': 0.01, 'learning_rate': 'constant', 'loss': 'perceptron', 'max_iter': 1000, 'n_jobs': -1, 'penalty': 'elasticnet'}\n",
      "0.768 (+/-0.082) for {'alpha': 166.81005372000593, 'eta0': 0.01, 'learning_rate': 'constant', 'loss': 'perceptron', 'max_iter': 1000, 'n_jobs': -1, 'penalty': 'none'}\n",
      "0.497 (+/-0.009) for {'alpha': 166.81005372000593, 'eta0': 0.01, 'learning_rate': 'optimal', 'loss': 'hinge', 'max_iter': 1000, 'n_jobs': -1, 'penalty': 'l2'}\n",
      "0.499 (+/-0.011) for {'alpha': 166.81005372000593, 'eta0': 0.01, 'learning_rate': 'optimal', 'loss': 'hinge', 'max_iter': 1000, 'n_jobs': -1, 'penalty': 'l1'}\n",
      "0.501 (+/-0.011) for {'alpha': 166.81005372000593, 'eta0': 0.01, 'learning_rate': 'optimal', 'loss': 'hinge', 'max_iter': 1000, 'n_jobs': -1, 'penalty': 'elasticnet'}\n",
      "0.621 (+/-0.251) for {'alpha': 166.81005372000593, 'eta0': 0.01, 'learning_rate': 'optimal', 'loss': 'hinge', 'max_iter': 1000, 'n_jobs': -1, 'penalty': 'none'}\n",
      "0.499 (+/-0.011) for {'alpha': 166.81005372000593, 'eta0': 0.01, 'learning_rate': 'optimal', 'loss': 'log', 'max_iter': 1000, 'n_jobs': -1, 'penalty': 'l2'}\n",
      "0.499 (+/-0.011) for {'alpha': 166.81005372000593, 'eta0': 0.01, 'learning_rate': 'optimal', 'loss': 'log', 'max_iter': 1000, 'n_jobs': -1, 'penalty': 'l1'}\n",
      "0.499 (+/-0.011) for {'alpha': 166.81005372000593, 'eta0': 0.01, 'learning_rate': 'optimal', 'loss': 'log', 'max_iter': 1000, 'n_jobs': -1, 'penalty': 'elasticnet'}\n",
      "0.602 (+/-0.379) for {'alpha': 166.81005372000593, 'eta0': 0.01, 'learning_rate': 'optimal', 'loss': 'log', 'max_iter': 1000, 'n_jobs': -1, 'penalty': 'none'}\n",
      "0.503 (+/-0.009) for {'alpha': 166.81005372000593, 'eta0': 0.01, 'learning_rate': 'optimal', 'loss': 'modified_huber', 'max_iter': 1000, 'n_jobs': -1, 'penalty': 'l2'}\n",
      "0.501 (+/-0.011) for {'alpha': 166.81005372000593, 'eta0': 0.01, 'learning_rate': 'optimal', 'loss': 'modified_huber', 'max_iter': 1000, 'n_jobs': -1, 'penalty': 'l1'}\n",
      "0.499 (+/-0.011) for {'alpha': 166.81005372000593, 'eta0': 0.01, 'learning_rate': 'optimal', 'loss': 'modified_huber', 'max_iter': 1000, 'n_jobs': -1, 'penalty': 'elasticnet'}\n",
      "0.568 (+/-0.243) for {'alpha': 166.81005372000593, 'eta0': 0.01, 'learning_rate': 'optimal', 'loss': 'modified_huber', 'max_iter': 1000, 'n_jobs': -1, 'penalty': 'none'}\n",
      "0.503 (+/-0.009) for {'alpha': 166.81005372000593, 'eta0': 0.01, 'learning_rate': 'optimal', 'loss': 'squared_hinge', 'max_iter': 1000, 'n_jobs': -1, 'penalty': 'l2'}\n",
      "0.499 (+/-0.011) for {'alpha': 166.81005372000593, 'eta0': 0.01, 'learning_rate': 'optimal', 'loss': 'squared_hinge', 'max_iter': 1000, 'n_jobs': -1, 'penalty': 'l1'}\n",
      "0.506 (+/-0.000) for {'alpha': 166.81005372000593, 'eta0': 0.01, 'learning_rate': 'optimal', 'loss': 'squared_hinge', 'max_iter': 1000, 'n_jobs': -1, 'penalty': 'elasticnet'}\n",
      "0.697 (+/-0.048) for {'alpha': 166.81005372000593, 'eta0': 0.01, 'learning_rate': 'optimal', 'loss': 'squared_hinge', 'max_iter': 1000, 'n_jobs': -1, 'penalty': 'none'}\n",
      "0.497 (+/-0.009) for {'alpha': 166.81005372000593, 'eta0': 0.01, 'learning_rate': 'optimal', 'loss': 'perceptron', 'max_iter': 1000, 'n_jobs': -1, 'penalty': 'l2'}\n",
      "0.499 (+/-0.011) for {'alpha': 166.81005372000593, 'eta0': 0.01, 'learning_rate': 'optimal', 'loss': 'perceptron', 'max_iter': 1000, 'n_jobs': -1, 'penalty': 'l1'}\n",
      "0.501 (+/-0.011) for {'alpha': 166.81005372000593, 'eta0': 0.01, 'learning_rate': 'optimal', 'loss': 'perceptron', 'max_iter': 1000, 'n_jobs': -1, 'penalty': 'elasticnet'}\n",
      "0.604 (+/-0.224) for {'alpha': 166.81005372000593, 'eta0': 0.01, 'learning_rate': 'optimal', 'loss': 'perceptron', 'max_iter': 1000, 'n_jobs': -1, 'penalty': 'none'}\n",
      "0.506 (+/-0.000) for {'alpha': 166.81005372000593, 'eta0': 0.01, 'learning_rate': 'invscaling', 'loss': 'hinge', 'max_iter': 1000, 'n_jobs': -1, 'penalty': 'l2'}\n",
      "0.506 (+/-0.000) for {'alpha': 166.81005372000593, 'eta0': 0.01, 'learning_rate': 'invscaling', 'loss': 'hinge', 'max_iter': 1000, 'n_jobs': -1, 'penalty': 'l1'}\n",
      "0.506 (+/-0.000) for {'alpha': 166.81005372000593, 'eta0': 0.01, 'learning_rate': 'invscaling', 'loss': 'hinge', 'max_iter': 1000, 'n_jobs': -1, 'penalty': 'elasticnet'}\n",
      "0.833 (+/-0.063) for {'alpha': 166.81005372000593, 'eta0': 0.01, 'learning_rate': 'invscaling', 'loss': 'hinge', 'max_iter': 1000, 'n_jobs': -1, 'penalty': 'none'}\n",
      "0.506 (+/-0.000) for {'alpha': 166.81005372000593, 'eta0': 0.01, 'learning_rate': 'invscaling', 'loss': 'log', 'max_iter': 1000, 'n_jobs': -1, 'penalty': 'l2'}\n",
      "0.506 (+/-0.000) for {'alpha': 166.81005372000593, 'eta0': 0.01, 'learning_rate': 'invscaling', 'loss': 'log', 'max_iter': 1000, 'n_jobs': -1, 'penalty': 'l1'}\n",
      "0.506 (+/-0.000) for {'alpha': 166.81005372000593, 'eta0': 0.01, 'learning_rate': 'invscaling', 'loss': 'log', 'max_iter': 1000, 'n_jobs': -1, 'penalty': 'elasticnet'}\n",
      "0.831 (+/-0.053) for {'alpha': 166.81005372000593, 'eta0': 0.01, 'learning_rate': 'invscaling', 'loss': 'log', 'max_iter': 1000, 'n_jobs': -1, 'penalty': 'none'}\n",
      "0.647 (+/-0.045) for {'alpha': 166.81005372000593, 'eta0': 0.01, 'learning_rate': 'invscaling', 'loss': 'modified_huber', 'max_iter': 1000, 'n_jobs': -1, 'penalty': 'l2'}\n",
      "0.506 (+/-0.000) for {'alpha': 166.81005372000593, 'eta0': 0.01, 'learning_rate': 'invscaling', 'loss': 'modified_huber', 'max_iter': 1000, 'n_jobs': -1, 'penalty': 'l1'}\n",
      "0.506 (+/-0.000) for {'alpha': 166.81005372000593, 'eta0': 0.01, 'learning_rate': 'invscaling', 'loss': 'modified_huber', 'max_iter': 1000, 'n_jobs': -1, 'penalty': 'elasticnet'}\n",
      "0.836 (+/-0.063) for {'alpha': 166.81005372000593, 'eta0': 0.01, 'learning_rate': 'invscaling', 'loss': 'modified_huber', 'max_iter': 1000, 'n_jobs': -1, 'penalty': 'none'}\n",
      "0.650 (+/-0.050) for {'alpha': 166.81005372000593, 'eta0': 0.01, 'learning_rate': 'invscaling', 'loss': 'squared_hinge', 'max_iter': 1000, 'n_jobs': -1, 'penalty': 'l2'}\n",
      "0.506 (+/-0.000) for {'alpha': 166.81005372000593, 'eta0': 0.01, 'learning_rate': 'invscaling', 'loss': 'squared_hinge', 'max_iter': 1000, 'n_jobs': -1, 'penalty': 'l1'}\n",
      "0.506 (+/-0.000) for {'alpha': 166.81005372000593, 'eta0': 0.01, 'learning_rate': 'invscaling', 'loss': 'squared_hinge', 'max_iter': 1000, 'n_jobs': -1, 'penalty': 'elasticnet'}\n",
      "0.838 (+/-0.066) for {'alpha': 166.81005372000593, 'eta0': 0.01, 'learning_rate': 'invscaling', 'loss': 'squared_hinge', 'max_iter': 1000, 'n_jobs': -1, 'penalty': 'none'}\n",
      "0.737 (+/-0.101) for {'alpha': 166.81005372000593, 'eta0': 0.01, 'learning_rate': 'invscaling', 'loss': 'perceptron', 'max_iter': 1000, 'n_jobs': -1, 'penalty': 'l2'}\n",
      "0.497 (+/-0.009) for {'alpha': 166.81005372000593, 'eta0': 0.01, 'learning_rate': 'invscaling', 'loss': 'perceptron', 'max_iter': 1000, 'n_jobs': -1, 'penalty': 'l1'}\n",
      "0.503 (+/-0.009) for {'alpha': 166.81005372000593, 'eta0': 0.01, 'learning_rate': 'invscaling', 'loss': 'perceptron', 'max_iter': 1000, 'n_jobs': -1, 'penalty': 'elasticnet'}\n",
      "0.776 (+/-0.146) for {'alpha': 166.81005372000593, 'eta0': 0.01, 'learning_rate': 'invscaling', 'loss': 'perceptron', 'max_iter': 1000, 'n_jobs': -1, 'penalty': 'none'}\n",
      "0.506 (+/-0.000) for {'alpha': 1000.0, 'eta0': 0.01, 'learning_rate': 'constant', 'loss': 'hinge', 'max_iter': 1000, 'n_jobs': -1, 'penalty': 'l2'}\n",
      "0.506 (+/-0.000) for {'alpha': 1000.0, 'eta0': 0.01, 'learning_rate': 'constant', 'loss': 'hinge', 'max_iter': 1000, 'n_jobs': -1, 'penalty': 'l1'}\n",
      "0.506 (+/-0.000) for {'alpha': 1000.0, 'eta0': 0.01, 'learning_rate': 'constant', 'loss': 'hinge', 'max_iter': 1000, 'n_jobs': -1, 'penalty': 'elasticnet'}\n",
      "0.831 (+/-0.061) for {'alpha': 1000.0, 'eta0': 0.01, 'learning_rate': 'constant', 'loss': 'hinge', 'max_iter': 1000, 'n_jobs': -1, 'penalty': 'none'}\n",
      "0.521 (+/-0.062) for {'alpha': 1000.0, 'eta0': 0.01, 'learning_rate': 'constant', 'loss': 'log', 'max_iter': 1000, 'n_jobs': -1, 'penalty': 'l2'}\n",
      "0.503 (+/-0.009) for {'alpha': 1000.0, 'eta0': 0.01, 'learning_rate': 'constant', 'loss': 'log', 'max_iter': 1000, 'n_jobs': -1, 'penalty': 'l1'}\n",
      "0.501 (+/-0.011) for {'alpha': 1000.0, 'eta0': 0.01, 'learning_rate': 'constant', 'loss': 'log', 'max_iter': 1000, 'n_jobs': -1, 'penalty': 'elasticnet'}\n",
      "0.832 (+/-0.060) for {'alpha': 1000.0, 'eta0': 0.01, 'learning_rate': 'constant', 'loss': 'log', 'max_iter': 1000, 'n_jobs': -1, 'penalty': 'none'}\n",
      "0.646 (+/-0.244) for {'alpha': 1000.0, 'eta0': 0.01, 'learning_rate': 'constant', 'loss': 'modified_huber', 'max_iter': 1000, 'n_jobs': -1, 'penalty': 'l2'}\n",
      "0.501 (+/-0.011) for {'alpha': 1000.0, 'eta0': 0.01, 'learning_rate': 'constant', 'loss': 'modified_huber', 'max_iter': 1000, 'n_jobs': -1, 'penalty': 'l1'}\n",
      "0.499 (+/-0.011) for {'alpha': 1000.0, 'eta0': 0.01, 'learning_rate': 'constant', 'loss': 'modified_huber', 'max_iter': 1000, 'n_jobs': -1, 'penalty': 'elasticnet'}\n",
      "0.818 (+/-0.036) for {'alpha': 1000.0, 'eta0': 0.01, 'learning_rate': 'constant', 'loss': 'modified_huber', 'max_iter': 1000, 'n_jobs': -1, 'penalty': 'none'}\n",
      "0.549 (+/-0.129) for {'alpha': 1000.0, 'eta0': 0.01, 'learning_rate': 'constant', 'loss': 'squared_hinge', 'max_iter': 1000, 'n_jobs': -1, 'penalty': 'l2'}\n",
      "0.501 (+/-0.011) for {'alpha': 1000.0, 'eta0': 0.01, 'learning_rate': 'constant', 'loss': 'squared_hinge', 'max_iter': 1000, 'n_jobs': -1, 'penalty': 'l1'}\n",
      "0.499 (+/-0.011) for {'alpha': 1000.0, 'eta0': 0.01, 'learning_rate': 'constant', 'loss': 'squared_hinge', 'max_iter': 1000, 'n_jobs': -1, 'penalty': 'elasticnet'}\n",
      "0.824 (+/-0.065) for {'alpha': 1000.0, 'eta0': 0.01, 'learning_rate': 'constant', 'loss': 'squared_hinge', 'max_iter': 1000, 'n_jobs': -1, 'penalty': 'none'}\n",
      "0.536 (+/-0.276) for {'alpha': 1000.0, 'eta0': 0.01, 'learning_rate': 'constant', 'loss': 'perceptron', 'max_iter': 1000, 'n_jobs': -1, 'penalty': 'l2'}\n",
      "0.497 (+/-0.009) for {'alpha': 1000.0, 'eta0': 0.01, 'learning_rate': 'constant', 'loss': 'perceptron', 'max_iter': 1000, 'n_jobs': -1, 'penalty': 'l1'}\n",
      "0.497 (+/-0.009) for {'alpha': 1000.0, 'eta0': 0.01, 'learning_rate': 'constant', 'loss': 'perceptron', 'max_iter': 1000, 'n_jobs': -1, 'penalty': 'elasticnet'}\n",
      "0.777 (+/-0.068) for {'alpha': 1000.0, 'eta0': 0.01, 'learning_rate': 'constant', 'loss': 'perceptron', 'max_iter': 1000, 'n_jobs': -1, 'penalty': 'none'}\n",
      "0.501 (+/-0.011) for {'alpha': 1000.0, 'eta0': 0.01, 'learning_rate': 'optimal', 'loss': 'hinge', 'max_iter': 1000, 'n_jobs': -1, 'penalty': 'l2'}\n",
      "0.499 (+/-0.011) for {'alpha': 1000.0, 'eta0': 0.01, 'learning_rate': 'optimal', 'loss': 'hinge', 'max_iter': 1000, 'n_jobs': -1, 'penalty': 'l1'}\n",
      "0.501 (+/-0.011) for {'alpha': 1000.0, 'eta0': 0.01, 'learning_rate': 'optimal', 'loss': 'hinge', 'max_iter': 1000, 'n_jobs': -1, 'penalty': 'elasticnet'}\n",
      "0.654 (+/-0.203) for {'alpha': 1000.0, 'eta0': 0.01, 'learning_rate': 'optimal', 'loss': 'hinge', 'max_iter': 1000, 'n_jobs': -1, 'penalty': 'none'}\n",
      "0.501 (+/-0.011) for {'alpha': 1000.0, 'eta0': 0.01, 'learning_rate': 'optimal', 'loss': 'log', 'max_iter': 1000, 'n_jobs': -1, 'penalty': 'l2'}\n",
      "0.503 (+/-0.009) for {'alpha': 1000.0, 'eta0': 0.01, 'learning_rate': 'optimal', 'loss': 'log', 'max_iter': 1000, 'n_jobs': -1, 'penalty': 'l1'}\n",
      "0.497 (+/-0.009) for {'alpha': 1000.0, 'eta0': 0.01, 'learning_rate': 'optimal', 'loss': 'log', 'max_iter': 1000, 'n_jobs': -1, 'penalty': 'elasticnet'}\n",
      "0.609 (+/-0.255) for {'alpha': 1000.0, 'eta0': 0.01, 'learning_rate': 'optimal', 'loss': 'log', 'max_iter': 1000, 'n_jobs': -1, 'penalty': 'none'}\n",
      "0.501 (+/-0.011) for {'alpha': 1000.0, 'eta0': 0.01, 'learning_rate': 'optimal', 'loss': 'modified_huber', 'max_iter': 1000, 'n_jobs': -1, 'penalty': 'l2'}\n",
      "0.503 (+/-0.009) for {'alpha': 1000.0, 'eta0': 0.01, 'learning_rate': 'optimal', 'loss': 'modified_huber', 'max_iter': 1000, 'n_jobs': -1, 'penalty': 'l1'}\n",
      "0.501 (+/-0.011) for {'alpha': 1000.0, 'eta0': 0.01, 'learning_rate': 'optimal', 'loss': 'modified_huber', 'max_iter': 1000, 'n_jobs': -1, 'penalty': 'elasticnet'}\n",
      "0.537 (+/-0.170) for {'alpha': 1000.0, 'eta0': 0.01, 'learning_rate': 'optimal', 'loss': 'modified_huber', 'max_iter': 1000, 'n_jobs': -1, 'penalty': 'none'}\n",
      "0.497 (+/-0.009) for {'alpha': 1000.0, 'eta0': 0.01, 'learning_rate': 'optimal', 'loss': 'squared_hinge', 'max_iter': 1000, 'n_jobs': -1, 'penalty': 'l2'}\n",
      "0.501 (+/-0.011) for {'alpha': 1000.0, 'eta0': 0.01, 'learning_rate': 'optimal', 'loss': 'squared_hinge', 'max_iter': 1000, 'n_jobs': -1, 'penalty': 'l1'}\n",
      "0.499 (+/-0.011) for {'alpha': 1000.0, 'eta0': 0.01, 'learning_rate': 'optimal', 'loss': 'squared_hinge', 'max_iter': 1000, 'n_jobs': -1, 'penalty': 'elasticnet'}\n",
      "0.612 (+/-0.211) for {'alpha': 1000.0, 'eta0': 0.01, 'learning_rate': 'optimal', 'loss': 'squared_hinge', 'max_iter': 1000, 'n_jobs': -1, 'penalty': 'none'}\n",
      "0.501 (+/-0.011) for {'alpha': 1000.0, 'eta0': 0.01, 'learning_rate': 'optimal', 'loss': 'perceptron', 'max_iter': 1000, 'n_jobs': -1, 'penalty': 'l2'}\n",
      "0.499 (+/-0.011) for {'alpha': 1000.0, 'eta0': 0.01, 'learning_rate': 'optimal', 'loss': 'perceptron', 'max_iter': 1000, 'n_jobs': -1, 'penalty': 'l1'}\n",
      "0.506 (+/-0.000) for {'alpha': 1000.0, 'eta0': 0.01, 'learning_rate': 'optimal', 'loss': 'perceptron', 'max_iter': 1000, 'n_jobs': -1, 'penalty': 'elasticnet'}\n",
      "0.637 (+/-0.242) for {'alpha': 1000.0, 'eta0': 0.01, 'learning_rate': 'optimal', 'loss': 'perceptron', 'max_iter': 1000, 'n_jobs': -1, 'penalty': 'none'}\n",
      "0.506 (+/-0.000) for {'alpha': 1000.0, 'eta0': 0.01, 'learning_rate': 'invscaling', 'loss': 'hinge', 'max_iter': 1000, 'n_jobs': -1, 'penalty': 'l2'}\n",
      "0.506 (+/-0.000) for {'alpha': 1000.0, 'eta0': 0.01, 'learning_rate': 'invscaling', 'loss': 'hinge', 'max_iter': 1000, 'n_jobs': -1, 'penalty': 'l1'}\n",
      "0.506 (+/-0.000) for {'alpha': 1000.0, 'eta0': 0.01, 'learning_rate': 'invscaling', 'loss': 'hinge', 'max_iter': 1000, 'n_jobs': -1, 'penalty': 'elasticnet'}\n",
      "0.833 (+/-0.063) for {'alpha': 1000.0, 'eta0': 0.01, 'learning_rate': 'invscaling', 'loss': 'hinge', 'max_iter': 1000, 'n_jobs': -1, 'penalty': 'none'}\n",
      "0.506 (+/-0.000) for {'alpha': 1000.0, 'eta0': 0.01, 'learning_rate': 'invscaling', 'loss': 'log', 'max_iter': 1000, 'n_jobs': -1, 'penalty': 'l2'}\n",
      "0.506 (+/-0.000) for {'alpha': 1000.0, 'eta0': 0.01, 'learning_rate': 'invscaling', 'loss': 'log', 'max_iter': 1000, 'n_jobs': -1, 'penalty': 'l1'}\n",
      "0.506 (+/-0.000) for {'alpha': 1000.0, 'eta0': 0.01, 'learning_rate': 'invscaling', 'loss': 'log', 'max_iter': 1000, 'n_jobs': -1, 'penalty': 'elasticnet'}\n",
      "0.831 (+/-0.053) for {'alpha': 1000.0, 'eta0': 0.01, 'learning_rate': 'invscaling', 'loss': 'log', 'max_iter': 1000, 'n_jobs': -1, 'penalty': 'none'}\n",
      "0.507 (+/-0.004) for {'alpha': 1000.0, 'eta0': 0.01, 'learning_rate': 'invscaling', 'loss': 'modified_huber', 'max_iter': 1000, 'n_jobs': -1, 'penalty': 'l2'}\n",
      "0.506 (+/-0.000) for {'alpha': 1000.0, 'eta0': 0.01, 'learning_rate': 'invscaling', 'loss': 'modified_huber', 'max_iter': 1000, 'n_jobs': -1, 'penalty': 'l1'}\n",
      "0.506 (+/-0.000) for {'alpha': 1000.0, 'eta0': 0.01, 'learning_rate': 'invscaling', 'loss': 'modified_huber', 'max_iter': 1000, 'n_jobs': -1, 'penalty': 'elasticnet'}\n",
      "0.836 (+/-0.063) for {'alpha': 1000.0, 'eta0': 0.01, 'learning_rate': 'invscaling', 'loss': 'modified_huber', 'max_iter': 1000, 'n_jobs': -1, 'penalty': 'none'}\n",
      "0.507 (+/-0.004) for {'alpha': 1000.0, 'eta0': 0.01, 'learning_rate': 'invscaling', 'loss': 'squared_hinge', 'max_iter': 1000, 'n_jobs': -1, 'penalty': 'l2'}\n",
      "0.506 (+/-0.000) for {'alpha': 1000.0, 'eta0': 0.01, 'learning_rate': 'invscaling', 'loss': 'squared_hinge', 'max_iter': 1000, 'n_jobs': -1, 'penalty': 'l1'}\n",
      "0.506 (+/-0.000) for {'alpha': 1000.0, 'eta0': 0.01, 'learning_rate': 'invscaling', 'loss': 'squared_hinge', 'max_iter': 1000, 'n_jobs': -1, 'penalty': 'elasticnet'}\n",
      "0.838 (+/-0.066) for {'alpha': 1000.0, 'eta0': 0.01, 'learning_rate': 'invscaling', 'loss': 'squared_hinge', 'max_iter': 1000, 'n_jobs': -1, 'penalty': 'none'}\n",
      "0.697 (+/-0.146) for {'alpha': 1000.0, 'eta0': 0.01, 'learning_rate': 'invscaling', 'loss': 'perceptron', 'max_iter': 1000, 'n_jobs': -1, 'penalty': 'l2'}\n",
      "0.501 (+/-0.011) for {'alpha': 1000.0, 'eta0': 0.01, 'learning_rate': 'invscaling', 'loss': 'perceptron', 'max_iter': 1000, 'n_jobs': -1, 'penalty': 'l1'}\n",
      "0.501 (+/-0.011) for {'alpha': 1000.0, 'eta0': 0.01, 'learning_rate': 'invscaling', 'loss': 'perceptron', 'max_iter': 1000, 'n_jobs': -1, 'penalty': 'elasticnet'}\n",
      "0.754 (+/-0.129) for {'alpha': 1000.0, 'eta0': 0.01, 'learning_rate': 'invscaling', 'loss': 'perceptron', 'max_iter': 1000, 'n_jobs': -1, 'penalty': 'none'}\n",
      "\n"
     ]
    }
   ],
   "source": [
    "grid = {\n",
    "    'alpha': np.logspace(-4, 3, 10), #[1e-4, 1e-3, 1e-2, 1e-1, 1e0, 1e1, 1e2, 1e3], # learning rate\n",
    "    'max_iter': [1000], # number of epochs\n",
    "    'loss': ['hinge', 'log', 'modified_huber', 'squared_hinge', 'perceptron'], # logistic regression,\n",
    "    'penalty': ['l2', 'l1', 'elasticnet','none'],\n",
    "    'n_jobs': [-1],\n",
    "    'learning_rate': ['constant', 'optimal', 'invscaling'],\n",
    "    'eta0':[0.01]\n",
    "}\n",
    "\n",
    "clf = sklearn.model_selection.GridSearchCV(linear_model.SGDClassifier(), grid, cv=5)\n",
    "                       \n",
    "\n",
    "clf.fit(X_train_norm, y_train_norm)\n",
    "\n",
    "print(\"Best parameters set found on development set:\")\n",
    "print()\n",
    "print(clf.best_params_)\n",
    "print(f\"Score : {clf.best_score_}\")\n",
    "\n",
    "print()\n",
    "print(\"Grid scores on development set:\")\n",
    "print()\n",
    "means = clf.cv_results_['mean_test_score']\n",
    "stds = clf.cv_results_['std_test_score']\n",
    "for mean, std, params in zip(means, stds, clf.cv_results_['params']):\n",
    "    print(\"%0.3f (+/-%0.03f) for %r\"\n",
    "          % (mean, std * 2, params))\n",
    "print()"
   ]
  },
  {
   "cell_type": "code",
   "execution_count": null,
   "metadata": {},
   "outputs": [],
   "source": []
  },
  {
   "cell_type": "code",
   "execution_count": null,
   "metadata": {},
   "outputs": [],
   "source": []
  },
  {
   "cell_type": "code",
   "execution_count": null,
   "metadata": {},
   "outputs": [],
   "source": []
  },
  {
   "cell_type": "code",
   "execution_count": null,
   "metadata": {},
   "outputs": [],
   "source": []
  },
  {
   "cell_type": "code",
   "execution_count": null,
   "metadata": {},
   "outputs": [],
   "source": []
  },
  {
   "cell_type": "code",
   "execution_count": null,
   "metadata": {},
   "outputs": [],
   "source": []
  },
  {
   "cell_type": "code",
   "execution_count": null,
   "metadata": {},
   "outputs": [],
   "source": []
  }
 ],
 "metadata": {
  "colab": {
   "collapsed_sections": [],
   "include_colab_link": true,
   "name": "sklearn_classifier.ipynb",
   "provenance": [],
   "version": "0.3.2"
  },
  "kernelspec": {
   "display_name": "Python 3",
   "language": "python",
   "name": "python3"
  },
  "language_info": {
   "codemirror_mode": {
    "name": "ipython",
    "version": 3
   },
   "file_extension": ".py",
   "mimetype": "text/x-python",
   "name": "python",
   "nbconvert_exporter": "python",
   "pygments_lexer": "ipython3",
   "version": "3.6.1"
  }
 },
 "nbformat": 4,
 "nbformat_minor": 2
}
