{
 "cells": [
  {
   "cell_type": "markdown",
   "metadata": {},
   "source": [
    "# ***Classifying Quasars From Galaxies & Stars: The Sloan Digital Sky Survey***\n",
    "\n",
    "## Machine Learning 635: Home Work Assignment # 2\n",
    "\n",
    "### Author: Spencer Long\n",
    "**Source Data & Competition:** https://www.kaggle.com/lucidlenn/sloan-digital-sky-survey/home  \n",
    "Building simple models for classifying quasars, galaxies, and stars. \n",
    "\n",
    "---\n",
    "---\n",
    "---"
   ]
  },
  {
   "cell_type": "markdown",
   "metadata": {},
   "source": [
    "# *Imports:* "
   ]
  },
  {
   "cell_type": "code",
   "execution_count": 19,
   "metadata": {},
   "outputs": [],
   "source": [
    "import urllib\n",
    "import numpy as np\n",
    "import pandas as pd\n",
    "import sklearn\n",
    "import sklearn.model_selection\n",
    "import sklearn.metrics\n",
    "import sklearn.ensemble\n",
    "\n",
    "from matplotlib import pyplot as plt\n",
    "from matplotlib.pyplot import figure"
   ]
  },
  {
   "cell_type": "markdown",
   "metadata": {},
   "source": [
    "---\n",
    "# *Data:* \n",
    "\n",
    "Downloaded data from the Sloan Digital Sky Survey  \n",
    "**Source:**https://www.sdss.org/dr14/"
   ]
  },
  {
   "cell_type": "code",
   "execution_count": 2,
   "metadata": {},
   "outputs": [
    {
     "name": "stdout",
     "output_type": "stream",
     "text": [
      "           ra       dec         u         g         r         i         z  \\\n",
      "0  183.531326  0.089693  19.47406  17.04240  15.94699  15.50342  15.22531   \n",
      "1  183.598371  0.135285  18.66280  17.21449  16.67637  16.48922  16.39150   \n",
      "2  183.680207  0.126185  19.38298  18.19169  17.47428  17.08732  16.80125   \n",
      "3  183.870529  0.049911  17.76536  16.60272  16.16116  15.98233  15.90438   \n",
      "4  183.883288  0.102557  17.55025  16.26342  16.43869  16.55492  16.61326   \n",
      "\n",
      "    class  redshift  plate    mjd  fiberid  \n",
      "0    STAR -0.000009   3306  54922      491  \n",
      "1    STAR -0.000055    323  51615      541  \n",
      "2  GALAXY  0.123111    287  52023      513  \n",
      "3    STAR -0.000111   3306  54922      510  \n",
      "4    STAR  0.000590   3306  54922      512  \n",
      "<class 'pandas.core.frame.DataFrame'>\n",
      "RangeIndex: 10000 entries, 0 to 9999\n",
      "Data columns (total 12 columns):\n",
      "ra          10000 non-null float64\n",
      "dec         10000 non-null float64\n",
      "u           10000 non-null float64\n",
      "g           10000 non-null float64\n",
      "r           10000 non-null float64\n",
      "i           10000 non-null float64\n",
      "z           10000 non-null float64\n",
      "class       10000 non-null object\n",
      "redshift    10000 non-null float64\n",
      "plate       10000 non-null int64\n",
      "mjd         10000 non-null int64\n",
      "fiberid     10000 non-null int64\n",
      "dtypes: float64(8), int64(3), object(1)\n",
      "memory usage: 937.6+ KB\n",
      "None\n"
     ]
    }
   ],
   "source": [
    "# Retrieving the data\n",
    "url = 'https://raw.githubusercontent.com/peterjsadowski/sklearn_examples/master/sdss/sdss.csv'\n",
    "filename = 'sdss.csv'\n",
    "urllib.request.urlretrieve(url, filename)\n",
    "\n",
    "data = pd.read_csv(filename) # creating a data frame\n",
    "data.drop([\"objid\",\"specobjid\",\"run\",\"rerun\",\"camcol\",\"field\"], axis = 1, inplace = True) # Unused columns.\n",
    "\n",
    "print(data.head(n=5))\n",
    "print(data.info())"
   ]
  },
  {
   "cell_type": "markdown",
   "metadata": {},
   "source": [
    "---\n",
    "# *Preprocessing Data:*"
   ]
  },
  {
   "cell_type": "code",
   "execution_count": 3,
   "metadata": {},
   "outputs": [
    {
     "name": "stdout",
     "output_type": "stream",
     "text": [
      "Mapping:  {0: 'GALAXY', 1: 'QUASAR', 2: 'STAR'}\n",
      "0    4998\n",
      "1     850\n",
      "2    4152\n",
      "Name: class, dtype: int64\n",
      "Train data shape: (8000, 11) (8000,)\n",
      "Test data shape: (2000, 11) (2000,)\n"
     ]
    }
   ],
   "source": [
    "# Associate each class with a number.\n",
    "\n",
    "print(\"Mapping: \", dict(enumerate([\"GALAXY\",\"QUASAR\",\"STAR\"])))\n",
    "\n",
    "data[\"class\"] = data[\"class\"].astype(\"category\")\n",
    "data[\"class\"] = data[\"class\"].cat.codes\n",
    "\n",
    "print(data[\"class\"].value_counts().sort_index())\n",
    "\n",
    "# Split data set.\n",
    "\n",
    "features = data.drop(\"class\", axis = 1)\n",
    "\n",
    "labels = data[\"class\"].copy()\n",
    "\n",
    "X_train, X_test, y_train, y_test = sklearn.model_selection.train_test_split(features, labels, \n",
    "                                                                            test_size=0.2, \n",
    "                                                                            random_state=42, \n",
    "                                                                            stratify=labels)\n",
    "\n",
    "print('Train data shape:', X_train.shape, y_train.shape)\n",
    "print('Test data shape:' , X_test.shape, y_test.shape)"
   ]
  },
  {
   "cell_type": "code",
   "execution_count": 4,
   "metadata": {},
   "outputs": [
    {
     "data": {
      "text/html": [
       "<div>\n",
       "<style>\n",
       "    .dataframe thead tr:only-child th {\n",
       "        text-align: right;\n",
       "    }\n",
       "\n",
       "    .dataframe thead th {\n",
       "        text-align: left;\n",
       "    }\n",
       "\n",
       "    .dataframe tbody tr th {\n",
       "        vertical-align: top;\n",
       "    }\n",
       "</style>\n",
       "<table border=\"1\" class=\"dataframe\">\n",
       "  <thead>\n",
       "    <tr style=\"text-align: right;\">\n",
       "      <th></th>\n",
       "      <th>ra</th>\n",
       "      <th>dec</th>\n",
       "      <th>u</th>\n",
       "      <th>g</th>\n",
       "      <th>r</th>\n",
       "      <th>i</th>\n",
       "      <th>z</th>\n",
       "      <th>redshift</th>\n",
       "      <th>plate</th>\n",
       "      <th>mjd</th>\n",
       "      <th>fiberid</th>\n",
       "    </tr>\n",
       "  </thead>\n",
       "  <tbody>\n",
       "    <tr>\n",
       "      <th>0</th>\n",
       "      <td>183.531326</td>\n",
       "      <td>0.089693</td>\n",
       "      <td>19.47406</td>\n",
       "      <td>17.04240</td>\n",
       "      <td>15.94699</td>\n",
       "      <td>15.50342</td>\n",
       "      <td>15.22531</td>\n",
       "      <td>-0.000009</td>\n",
       "      <td>3306</td>\n",
       "      <td>54922</td>\n",
       "      <td>491</td>\n",
       "    </tr>\n",
       "    <tr>\n",
       "      <th>1</th>\n",
       "      <td>183.598371</td>\n",
       "      <td>0.135285</td>\n",
       "      <td>18.66280</td>\n",
       "      <td>17.21449</td>\n",
       "      <td>16.67637</td>\n",
       "      <td>16.48922</td>\n",
       "      <td>16.39150</td>\n",
       "      <td>-0.000055</td>\n",
       "      <td>323</td>\n",
       "      <td>51615</td>\n",
       "      <td>541</td>\n",
       "    </tr>\n",
       "    <tr>\n",
       "      <th>2</th>\n",
       "      <td>183.680207</td>\n",
       "      <td>0.126185</td>\n",
       "      <td>19.38298</td>\n",
       "      <td>18.19169</td>\n",
       "      <td>17.47428</td>\n",
       "      <td>17.08732</td>\n",
       "      <td>16.80125</td>\n",
       "      <td>0.123111</td>\n",
       "      <td>287</td>\n",
       "      <td>52023</td>\n",
       "      <td>513</td>\n",
       "    </tr>\n",
       "    <tr>\n",
       "      <th>3</th>\n",
       "      <td>183.870529</td>\n",
       "      <td>0.049911</td>\n",
       "      <td>17.76536</td>\n",
       "      <td>16.60272</td>\n",
       "      <td>16.16116</td>\n",
       "      <td>15.98233</td>\n",
       "      <td>15.90438</td>\n",
       "      <td>-0.000111</td>\n",
       "      <td>3306</td>\n",
       "      <td>54922</td>\n",
       "      <td>510</td>\n",
       "    </tr>\n",
       "    <tr>\n",
       "      <th>4</th>\n",
       "      <td>183.883288</td>\n",
       "      <td>0.102557</td>\n",
       "      <td>17.55025</td>\n",
       "      <td>16.26342</td>\n",
       "      <td>16.43869</td>\n",
       "      <td>16.55492</td>\n",
       "      <td>16.61326</td>\n",
       "      <td>0.000590</td>\n",
       "      <td>3306</td>\n",
       "      <td>54922</td>\n",
       "      <td>512</td>\n",
       "    </tr>\n",
       "  </tbody>\n",
       "</table>\n",
       "</div>"
      ],
      "text/plain": [
       "           ra       dec         u         g         r         i         z  \\\n",
       "0  183.531326  0.089693  19.47406  17.04240  15.94699  15.50342  15.22531   \n",
       "1  183.598371  0.135285  18.66280  17.21449  16.67637  16.48922  16.39150   \n",
       "2  183.680207  0.126185  19.38298  18.19169  17.47428  17.08732  16.80125   \n",
       "3  183.870529  0.049911  17.76536  16.60272  16.16116  15.98233  15.90438   \n",
       "4  183.883288  0.102557  17.55025  16.26342  16.43869  16.55492  16.61326   \n",
       "\n",
       "   redshift  plate    mjd  fiberid  \n",
       "0 -0.000009   3306  54922      491  \n",
       "1 -0.000055    323  51615      541  \n",
       "2  0.123111    287  52023      513  \n",
       "3 -0.000111   3306  54922      510  \n",
       "4  0.000590   3306  54922      512  "
      ]
     },
     "execution_count": 4,
     "metadata": {},
     "output_type": "execute_result"
    }
   ],
   "source": [
    "features.head(5)"
   ]
  },
  {
   "cell_type": "code",
   "execution_count": 5,
   "metadata": {},
   "outputs": [
    {
     "data": {
      "text/plain": [
       "0    2\n",
       "1    2\n",
       "2    0\n",
       "3    2\n",
       "4    2\n",
       "Name: class, dtype: int8"
      ]
     },
     "execution_count": 5,
     "metadata": {},
     "output_type": "execute_result"
    }
   ],
   "source": [
    "labels.head(5)"
   ]
  },
  {
   "cell_type": "markdown",
   "metadata": {},
   "source": [
    "---\n",
    "---\n",
    "---\n",
    "# **Applying Cross Validation & Determining Best Parameters**\n",
    "\n",
    "---\n",
    "---\n",
    "---\n",
    "\n",
    "# *K Nearest Neighbors Classifier*"
   ]
  },
  {
   "cell_type": "code",
   "execution_count": 6,
   "metadata": {},
   "outputs": [
    {
     "name": "stdout",
     "output_type": "stream",
     "text": [
      "Available Parameters: dict_keys(['algorithm', 'leaf_size', 'metric', 'metric_params', 'n_jobs', 'n_neighbors', 'p', 'weights'])\n",
      "First 5 of the test scores from the dataframe: \n",
      "    mean_test_score  std_test_score              params\n",
      "0         0.733750        0.012203  {'n_neighbors': 1}\n",
      "1         0.771375        0.013089  {'n_neighbors': 2}\n",
      "2         0.772500        0.010229  {'n_neighbors': 3}\n",
      "3         0.782375        0.010249  {'n_neighbors': 4}\n",
      "4         0.786625        0.014424  {'n_neighbors': 5}\n",
      "\n",
      "Best Model Results:\n",
      "Best Score:  0.80175\n",
      "Best Params:  {'n_neighbors': 15}\n",
      "Best Estimator:  KNeighborsClassifier(algorithm='auto', leaf_size=30, metric='minkowski',\n",
      "           metric_params=None, n_jobs=1, n_neighbors=15, p=2,\n",
      "           weights='uniform')\n"
     ]
    },
    {
     "data": {
      "text/plain": [
       "<matplotlib.text.Text at 0x11c8be208>"
      ]
     },
     "execution_count": 6,
     "metadata": {},
     "output_type": "execute_result"
    },
    {
     "data": {
      "image/png": "[encoded data removed]",
      "text/plain": [
       "<matplotlib.figure.Figure at 0x11c536e48>"
      ]
     },
     "metadata": {},
     "output_type": "display_data"
    }
   ],
   "source": [
    "from sklearn.model_selection import GridSearchCV\n",
    "from sklearn.neighbors import KNeighborsClassifier\n",
    "\n",
    "# Classifier to be used:\n",
    "knn = KNeighborsClassifier()\n",
    "print('Available Parameters:', knn.get_params().keys())\n",
    "\n",
    "# Set up for Grid for Cross Validation:\n",
    "k_range = list(range(1, 51))\n",
    "param_grid = dict(n_neighbors = k_range)\n",
    "param_grid = {'n_neighbors': k_range} # or we could use this method to set up dictionary for grid\n",
    "grid = GridSearchCV(knn, param_grid, cv=10, scoring='accuracy', return_train_score=False)\n",
    "\n",
    "# Fit model to data\n",
    "grid.fit(X_train, y_train)\n",
    "\n",
    "# Creates a dataframe for test scores\n",
    "cv_scores = pd.DataFrame(grid.cv_results_)[['mean_test_score', 'std_test_score', 'params']]\n",
    "print('First 5 of the test scores from the dataframe: \\n', cv_scores.head(5))\n",
    "\n",
    "\n",
    "# Best Model and Params:\n",
    "print()\n",
    "print('Best Model Results:')\n",
    "print('Best Score: ', grid.best_score_)\n",
    "print('Best Params: ', grid.best_params_)\n",
    "print('Best Estimator: ', grid.best_estimator_)\n",
    "\n",
    "# Creating Plot of Params vs. Mean test score\n",
    "grid_mean_scores = grid.cv_results_['mean_test_score']\n",
    "\n",
    "plt.plot(k_range, grid_mean_scores)\n",
    "plt.xlabel('Value of K for KNN')\n",
    "plt.ylabel('Cross-Validated Accuracy')"
   ]
  },
  {
   "cell_type": "markdown",
   "metadata": {},
   "source": [
    "---\n",
    "# *Gaussian  Naive  Bayes*"
   ]
  },
  {
   "cell_type": "code",
   "execution_count": 7,
   "metadata": {},
   "outputs": [
    {
     "name": "stdout",
     "output_type": "stream",
     "text": [
      "Available Parameters: dict_keys(['priors'])\n",
      "First 5 of the test scores from the dataframe: \n",
      "    mean_test_score  std_test_score params\n",
      "0          0.85825        0.009524     {}\n",
      "\n",
      "Best Model Results:\n",
      "Best Score:  0.85825\n",
      "Best Params:  {}\n",
      "Best Estimator:  GaussianNB(priors=None)\n"
     ]
    }
   ],
   "source": [
    "from sklearn.naive_bayes import GaussianNB\n",
    "\n",
    "# Classifier to be used:\n",
    "GaussianNB = GaussianNB()\n",
    "print('Available Parameters:', GaussianNB.get_params().keys())\n",
    "\n",
    "# Set up for Grid for Cross Validation:\n",
    "param_grid = {} \n",
    "grid = GridSearchCV(GaussianNB, param_grid, cv=10, scoring='accuracy', return_train_score=False)\n",
    "\n",
    "# Fit model to data\n",
    "grid.fit(X_train, y_train)\n",
    "\n",
    "# Creates a dataframe for test scores\n",
    "cv_scores = pd.DataFrame(grid.cv_results_)[['mean_test_score', 'std_test_score', 'params']]\n",
    "print('First 5 of the test scores from the dataframe: \\n', cv_scores.head(5))\n",
    "\n",
    "\n",
    "# Best Model and Params:\n",
    "print()\n",
    "print('Best Model Results:')\n",
    "print('Best Score: ', grid.best_score_)\n",
    "print('Best Params: ', grid.best_params_)\n",
    "print('Best Estimator: ', grid.best_estimator_)"
   ]
  },
  {
   "cell_type": "markdown",
   "metadata": {},
   "source": [
    "---\n",
    "\n",
    "# *Linear Discriminant Analysis*"
   ]
  },
  {
   "cell_type": "code",
   "execution_count": 8,
   "metadata": {},
   "outputs": [
    {
     "name": "stdout",
     "output_type": "stream",
     "text": [
      "Available Parameters: dict_keys(['n_components', 'priors', 'shrinkage', 'solver', 'store_covariance', 'tol'])\n",
      "First 3 of the test scores from the dataframe: \n",
      "    mean_test_score  std_test_score               params\n",
      "0         0.910000        0.006391    {'solver': 'svd'}\n",
      "1         0.910000        0.006391   {'solver': 'lsqr'}\n",
      "2         0.805625        0.015634  {'solver': 'eigen'}\n",
      "\n",
      "Best Model Results:\n",
      "Best Score:  0.91\n",
      "Best Params:  {'solver': 'svd'}\n",
      "Best Estimator:  LinearDiscriminantAnalysis(n_components=None, priors=None, shrinkage=None,\n",
      "              solver='svd', store_covariance=False, tol=0.0001)\n"
     ]
    }
   ],
   "source": [
    "from sklearn.discriminant_analysis import LinearDiscriminantAnalysis\n",
    "\n",
    "# Classifier to be used:\n",
    "LDA = LinearDiscriminantAnalysis()\n",
    "print('Available Parameters:', LDA.get_params().keys())\n",
    "\n",
    "# Set up for Grid for Cross Validation:\n",
    "param_grid = {'solver': ['svd', 'lsqr', 'eigen']} \n",
    "grid = GridSearchCV(LDA, param_grid, cv=10, scoring='accuracy', return_train_score=False)\n",
    "\n",
    "# Fit model to data\n",
    "grid.fit(X_train, y_train)\n",
    "\n",
    "# Creates a dataframe for test scores\n",
    "cv_scores = pd.DataFrame(grid.cv_results_)[['mean_test_score', 'std_test_score', 'params']]\n",
    "print('First 3 of the test scores from the dataframe: \\n', cv_scores.head(3))\n",
    "\n",
    "\n",
    "# Best Model and Params:\n",
    "print()\n",
    "print('Best Model Results:')\n",
    "print('Best Score: ', grid.best_score_)\n",
    "print('Best Params: ', grid.best_params_)\n",
    "print('Best Estimator: ', grid.best_estimator_)"
   ]
  },
  {
   "cell_type": "markdown",
   "metadata": {},
   "source": [
    "---\n",
    "# *Quadratic Discriminant Analysis:*"
   ]
  },
  {
   "cell_type": "code",
   "execution_count": 9,
   "metadata": {},
   "outputs": [
    {
     "name": "stdout",
     "output_type": "stream",
     "text": [
      "Available Parameters: dict_keys(['priors', 'reg_param', 'store_covariances', 'tol'])\n",
      "First 3 of the test scores from the dataframe: \n",
      "    mean_test_score  std_test_score                params\n",
      "0         0.981125        0.003965      {'reg_param': 0}\n",
      "1         0.907500        0.009689  {'reg_param': 0.005}\n",
      "2         0.903500        0.010054   {'reg_param': 0.01}\n",
      "\n",
      "Best Model Results:\n",
      "Best Score:  0.981125\n",
      "Best Params:  {'reg_param': 0}\n",
      "Best Estimator:  QuadraticDiscriminantAnalysis(priors=None, reg_param=0,\n",
      "               store_covariances=False, tol=0.0001)\n"
     ]
    }
   ],
   "source": [
    "from sklearn.discriminant_analysis import QuadraticDiscriminantAnalysis\n",
    "\n",
    "# Classifier to be used:\n",
    "QDA = QuadraticDiscriminantAnalysis()\n",
    "print('Available Parameters:', QDA.get_params().keys())\n",
    "\n",
    "# Set up for Grid for Cross Validation:\n",
    "param_grid = {'reg_param': [0, 0.005, 0.01, 0.05]} \n",
    "grid = GridSearchCV(QDA, param_grid, cv=10, scoring='accuracy', return_train_score=False)\n",
    "\n",
    "# Fit model to data\n",
    "grid.fit(X_train, y_train)\n",
    "\n",
    "# Creates a dataframe for test scores\n",
    "cv_scores = pd.DataFrame(grid.cv_results_)[['mean_test_score', 'std_test_score', 'params']]\n",
    "print('First 3 of the test scores from the dataframe: \\n', cv_scores.head(3))\n",
    "\n",
    "\n",
    "# Best Model and Params:\n",
    "print()\n",
    "print('Best Model Results:')\n",
    "print('Best Score: ', grid.best_score_)\n",
    "print('Best Params: ', grid.best_params_)\n",
    "print('Best Estimator: ', grid.best_estimator_)"
   ]
  },
  {
   "cell_type": "markdown",
   "metadata": {},
   "source": [
    "---\n",
    "# *Decission Trees:* "
   ]
  },
  {
   "cell_type": "code",
   "execution_count": 17,
   "metadata": {},
   "outputs": [
    {
     "name": "stdout",
     "output_type": "stream",
     "text": [
      "Available Parameters: dict_keys(['class_weight', 'criterion', 'max_depth', 'max_features', 'max_leaf_nodes', 'min_impurity_split', 'min_samples_leaf', 'min_samples_split', 'min_weight_fraction_leaf', 'presort', 'random_state', 'splitter'])\n",
      "First 3 of the test scores from the dataframe: \n",
      "    mean_test_score  std_test_score                               params\n",
      "0         0.912250        0.002627  {'max_depth': 1, 'random_state': 0}\n",
      "1         0.987500        0.003578  {'max_depth': 2, 'random_state': 0}\n",
      "2         0.988375        0.002955  {'max_depth': 3, 'random_state': 0}\n",
      "\n",
      "Best Model Results:\n",
      "Best Score:  0.988375\n",
      "Best Params:  {'max_depth': 3, 'random_state': 0}\n",
      "Best Estimator:  DecisionTreeClassifier(class_weight=None, criterion='gini', max_depth=3,\n",
      "            max_features=None, max_leaf_nodes=None,\n",
      "            min_impurity_split=1e-07, min_samples_leaf=1,\n",
      "            min_samples_split=2, min_weight_fraction_leaf=0.0,\n",
      "            presort=False, random_state=0, splitter='best')\n"
     ]
    }
   ],
   "source": [
    "from sklearn.tree import DecisionTreeClassifier\n",
    "\n",
    "# Classifier to be used:\n",
    "DTREE = DecisionTreeClassifier()\n",
    "print('Available Parameters:', DTREE.get_params().keys())\n",
    "\n",
    "# Set up for Grid for Cross Validation:\n",
    "param_grid = {'random_state':[0], 'max_depth': list(range(1, 20))} \n",
    "grid = GridSearchCV(DTREE, param_grid, cv=10, scoring='accuracy', return_train_score=False)\n",
    "\n",
    "# Fit model to data\n",
    "grid.fit(X_train, y_train)\n",
    "\n",
    "# Creates a dataframe for test scores\n",
    "cv_scores = pd.DataFrame(grid.cv_results_)[['mean_test_score', 'std_test_score', 'params']]\n",
    "print('First 3 of the test scores from the dataframe: \\n', cv_scores.head(3))\n",
    "\n",
    "\n",
    "# Best Model and Params:\n",
    "print()\n",
    "print('Best Model Results:')\n",
    "print('Best Score: ', grid.best_score_)\n",
    "print('Best Params: ', grid.best_params_)\n",
    "print('Best Estimator: ', grid.best_estimator_)"
   ]
  },
  {
   "cell_type": "markdown",
   "metadata": {},
   "source": [
    "\n",
    "---\n",
    "---\n",
    "---\n",
    "# **Applying The Testing Set With Best Estimators:**\n",
    "\n",
    "**Testing Score:** Returns the mean accuracy on the given test data and labels. In multi-label classification, this is the subset accuracy which is a harsh metric since you require for each sample that each label set be correctly predicted. \n",
    "\n",
    "**Source code of the score function states:** Returns mean accuracy of clf.predict(X) with respect to y. Thus in our case it is the mean percentage of how accuretaly the model is able to predict the target values (y_test) given our test data (X_test).  \n",
    "\n",
    "---\n",
    "---\n",
    "---\n",
    "\n",
    "# *K Nearest Neighbors Classifier*"
   ]
  },
  {
   "cell_type": "code",
   "execution_count": 11,
   "metadata": {},
   "outputs": [
    {
     "name": "stdout",
     "output_type": "stream",
     "text": [
      "The mean accuracy on the given test data and labels is: 0.7895\n"
     ]
    }
   ],
   "source": [
    "clf = KNeighborsClassifier(algorithm='auto', \n",
    "                           leaf_size=30, \n",
    "                           metric='minkowski',\n",
    "                           metric_params=None, \n",
    "                           n_jobs=1, \n",
    "                           n_neighbors=15, \n",
    "                           p=2,\n",
    "                           weights='uniform')\n",
    "\n",
    "clf.fit(X_train,y_train)\n",
    "score = clf.score(X_test,y_test)\n",
    "print('The mean accuracy on the given test data and labels is:', score)"
   ]
  },
  {
   "cell_type": "markdown",
   "metadata": {},
   "source": [
    "---\n",
    "# *Gaussian  Naive  Bayes*"
   ]
  },
  {
   "cell_type": "code",
   "execution_count": 13,
   "metadata": {},
   "outputs": [
    {
     "name": "stdout",
     "output_type": "stream",
     "text": [
      "The mean accuracy on the given test data and labels is: 0.8625\n"
     ]
    }
   ],
   "source": [
    "from sklearn.naive_bayes import GaussianNB\n",
    "\n",
    "clf = GaussianNB(priors=None)\n",
    "\n",
    "clf.fit(X_train,y_train)\n",
    "score = clf.score(X_test,y_test)\n",
    "print('The mean accuracy on the given test data and labels is:', score)"
   ]
  },
  {
   "cell_type": "markdown",
   "metadata": {},
   "source": [
    "---\n",
    "\n",
    "# *Linear Discriminant Analysis*"
   ]
  },
  {
   "cell_type": "code",
   "execution_count": 14,
   "metadata": {},
   "outputs": [
    {
     "name": "stdout",
     "output_type": "stream",
     "text": [
      "The mean accuracy on the given test data and labels is: 0.892\n"
     ]
    }
   ],
   "source": [
    "clf = LinearDiscriminantAnalysis(n_components=None, \n",
    "                                 priors=None, \n",
    "                                 shrinkage=None,\n",
    "                                 solver='svd', \n",
    "                                 store_covariance=False, \n",
    "                                 tol=0.0001)\n",
    "\n",
    "clf.fit(X_train,y_train)\n",
    "score = clf.score(X_test,y_test)\n",
    "print('The mean accuracy on the given test data and labels is:', score)"
   ]
  },
  {
   "cell_type": "markdown",
   "metadata": {},
   "source": [
    "---\n",
    "# *Quadratic Discriminant Analysis:*"
   ]
  },
  {
   "cell_type": "code",
   "execution_count": 15,
   "metadata": {},
   "outputs": [
    {
     "name": "stdout",
     "output_type": "stream",
     "text": [
      "The mean accuracy on the given test data and labels is: 0.9815\n"
     ]
    }
   ],
   "source": [
    "clf = QuadraticDiscriminantAnalysis(priors=None,\n",
    "                                    reg_param=0,\n",
    "                                    store_covariances=False, \n",
    "                                    tol=0.0001)\n",
    "\n",
    "clf.fit(X_train,y_train)\n",
    "score = clf.score(X_test,y_test)\n",
    "print('The mean accuracy on the given test data and labels is:', score)"
   ]
  },
  {
   "cell_type": "markdown",
   "metadata": {},
   "source": [
    "---\n",
    "# *Decission Trees:* "
   ]
  },
  {
   "cell_type": "code",
   "execution_count": 18,
   "metadata": {},
   "outputs": [
    {
     "name": "stdout",
     "output_type": "stream",
     "text": [
      "The mean accuracy on the given test data and labels is: 0.991\n"
     ]
    }
   ],
   "source": [
    "clf = DecisionTreeClassifier(class_weight=None, \n",
    "                             criterion='gini',\n",
    "                             max_depth=3,\n",
    "                             max_features=None, \n",
    "                             max_leaf_nodes=None,\n",
    "                             min_impurity_split=1e-07, \n",
    "                             min_samples_leaf=1,\n",
    "                             min_samples_split=2, \n",
    "                             min_weight_fraction_leaf=0.0,\n",
    "                             presort=False, \n",
    "                             random_state=0, \n",
    "                             splitter='best')\n",
    "\n",
    "clf.fit(X_train,y_train)\n",
    "score = clf.score(X_test,y_test)\n",
    "print('The mean accuracy on the given test data and labels is:', score)"
   ]
  }
 ],
 "metadata": {
  "kernelspec": {
   "display_name": "Python 3",
   "language": "python",
   "name": "python3"
  },
  "language_info": {
   "codemirror_mode": {
    "name": "ipython",
    "version": 3
   },
   "file_extension": ".py",
   "mimetype": "text/x-python",
   "name": "python",
   "nbconvert_exporter": "python",
   "pygments_lexer": "ipython3",
   "version": "3.6.1"
  }
 },
 "nbformat": 4,
 "nbformat_minor": 2
}
